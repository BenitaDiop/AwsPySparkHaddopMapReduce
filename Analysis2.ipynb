{
 "cells": [
  {
   "cell_type": "markdown",
   "metadata": {},
   "source": [
    "<h1> <center>\n",
    "<font color='blue'>\n",
    "    Analysis of Yelp Business Intelligence Data\n",
    "    \n",
    "</font>"
   ]
  },
  {
   "cell_type": "code",
   "execution_count": 1,
   "metadata": {},
   "outputs": [
    {
     "data": {
      "text/html": [
       "Current session configs: <tt>{'proxyUser': 'assumed-role_vocstartsoft_user594376_bineta_diop_baruchmail_cuny_edu', 'conf': {'spark.pyspark.python': 'python3', 'spark.pyspark.virtualenv.enabled': 'true', 'spark.pyspark.virtualenv.type': 'native', 'spark.pyspark.virtualenv.bin.path': '/usr/bin/virtualenv'}, 'kind': 'pyspark'}</tt><br>"
      ],
      "text/plain": [
       "<IPython.core.display.HTML object>"
      ]
     },
     "metadata": {},
     "output_type": "display_data"
    },
    {
     "data": {
      "text/html": [
       "<table>\n",
       "<tr><th>ID</th><th>YARN Application ID</th><th>Kind</th><th>State</th><th>Spark UI</th><th>Driver log</th><th>Current session?</th></tr><tr><td>0</td><td>application_1590601418318_0001</td><td>pyspark</td><td>idle</td><td><a target=\"_blank\" href=\"http://ip-172-31-84-248.ec2.internal:20888/proxy/application_1590601418318_0001/\">Link</a></td><td><a target=\"_blank\" href=\"http://ip-172-31-95-132.ec2.internal:8042/node/containerlogs/container_1590601418318_0001_01_000001/livy\">Link</a></td><td></td></tr></table>"
      ],
      "text/plain": [
       "<IPython.core.display.HTML object>"
      ]
     },
     "metadata": {},
     "output_type": "display_data"
    }
   ],
   "source": [
    "%%info"
   ]
  },
  {
   "cell_type": "markdown",
   "metadata": {},
   "source": [
    "#### Installation and Initial Setup"
   ]
  },
  {
   "cell_type": "code",
   "execution_count": 21,
   "metadata": {
    "jupyter": {
     "outputs_hidden": true
    }
   },
   "outputs": [
    {
     "data": {
      "application/vnd.jupyter.widget-view+json": {
       "model_id": "47f227ce9460442dba2d770d8f0a0d61",
       "version_major": 2,
       "version_minor": 0
      },
      "text/plain": [
       "VBox()"
      ]
     },
     "metadata": {},
     "output_type": "display_data"
    },
    {
     "data": {
      "application/vnd.jupyter.widget-view+json": {
       "model_id": "",
       "version_major": 2,
       "version_minor": 0
      },
      "text/plain": [
       "FloatProgress(value=0.0, bar_style='info', description='Progress:', layout=Layout(height='25px', width='50%'),…"
      ]
     },
     "metadata": {},
     "output_type": "display_data"
    },
    {
     "name": "stdout",
     "output_type": "stream",
     "text": [
      "Collecting matplotlib==3.2.1\n",
      "  Using cached https://files.pythonhosted.org/packages/b2/c2/71fcf957710f3ba1f09088b35776a799ba7dd95f7c2b195ec800933b276b/matplotlib-3.2.1-cp37-cp37m-manylinux1_x86_64.whl\n",
      "Collecting python-dateutil>=2.1 (from matplotlib==3.2.1)\n",
      "  Using cached https://files.pythonhosted.org/packages/d4/70/d60450c3dd48ef87586924207ae8907090de0b306af2bce5d134d78615cb/python_dateutil-2.8.1-py2.py3-none-any.whl\n",
      "Collecting pyparsing!=2.0.4,!=2.1.2,!=2.1.6,>=2.0.1 (from matplotlib==3.2.1)\n",
      "  Using cached https://files.pythonhosted.org/packages/8a/bb/488841f56197b13700afd5658fc279a2025a39e22449b7cf29864669b15d/pyparsing-2.4.7-py2.py3-none-any.whl\n",
      "Collecting cycler>=0.10 (from matplotlib==3.2.1)\n",
      "  Using cached https://files.pythonhosted.org/packages/f7/d2/e07d3ebb2bd7af696440ce7e754c59dd546ffe1bbe732c8ab68b9c834e61/cycler-0.10.0-py2.py3-none-any.whl\n",
      "Requirement already satisfied: numpy>=1.11 in /usr/local/lib64/python3.7/site-packages (from matplotlib==3.2.1)\n",
      "Collecting kiwisolver>=1.0.1 (from matplotlib==3.2.1)\n",
      "  Using cached https://files.pythonhosted.org/packages/31/b9/6202dcae729998a0ade30e80ac00f616542ef445b088ec970d407dfd41c0/kiwisolver-1.2.0-cp37-cp37m-manylinux1_x86_64.whl\n",
      "Requirement already satisfied: six>=1.5 in /usr/local/lib/python3.7/site-packages (from python-dateutil>=2.1->matplotlib==3.2.1)\n",
      "Installing collected packages: python-dateutil, pyparsing, cycler, kiwisolver, matplotlib\n",
      "Successfully installed cycler-0.10.0 kiwisolver-1.2.0 matplotlib-3.2.1 pyparsing-2.4.7 python-dateutil-2.8.1\n",
      "\n",
      "Collecting pandas==1.0.3\n",
      "  Using cached https://files.pythonhosted.org/packages/4a/6a/94b219b8ea0f2d580169e85ed1edc0163743f55aaeca8a44c2e8fc1e344e/pandas-1.0.3-cp37-cp37m-manylinux1_x86_64.whl\n",
      "Requirement already satisfied: pytz>=2017.2 in /usr/local/lib/python3.7/site-packages (from pandas==1.0.3)\n",
      "Requirement already satisfied: numpy>=1.13.3 in /usr/local/lib64/python3.7/site-packages (from pandas==1.0.3)\n",
      "Requirement already satisfied: python-dateutil>=2.6.1 in /mnt/tmp/1590608169754-0/lib/python3.7/site-packages (from pandas==1.0.3)\n",
      "Requirement already satisfied: six>=1.5 in /usr/local/lib/python3.7/site-packages (from python-dateutil>=2.6.1->pandas==1.0.3)\n",
      "Installing collected packages: pandas\n",
      "Successfully installed pandas-1.0.3\n",
      "\n",
      "Collecting seaborn==0.10.0\n",
      "  Using cached https://files.pythonhosted.org/packages/70/bd/5e6bf595fe6ee0f257ae49336dd180768c1ed3d7c7155b2fdf894c1c808a/seaborn-0.10.0-py3-none-any.whl\n",
      "Requirement already satisfied: pandas>=0.22.0 in /mnt/tmp/1590608169754-0/lib/python3.7/site-packages (from seaborn==0.10.0)\n",
      "Requirement already satisfied: numpy>=1.13.3 in /usr/local/lib64/python3.7/site-packages (from seaborn==0.10.0)\n",
      "Collecting scipy>=1.0.1 (from seaborn==0.10.0)\n",
      "  Using cached https://files.pythonhosted.org/packages/dd/82/c1fe128f3526b128cfd185580ba40d01371c5d299fcf7f77968e22dfcc2e/scipy-1.4.1-cp37-cp37m-manylinux1_x86_64.whl\n",
      "Requirement already satisfied: matplotlib>=2.1.2 in /mnt/tmp/1590608169754-0/lib/python3.7/site-packages (from seaborn==0.10.0)\n",
      "Requirement already satisfied: pytz>=2017.2 in /usr/local/lib/python3.7/site-packages (from pandas>=0.22.0->seaborn==0.10.0)\n",
      "Requirement already satisfied: python-dateutil>=2.6.1 in /mnt/tmp/1590608169754-0/lib/python3.7/site-packages (from pandas>=0.22.0->seaborn==0.10.0)\n",
      "Requirement already satisfied: pyparsing!=2.0.4,!=2.1.2,!=2.1.6,>=2.0.1 in /mnt/tmp/1590608169754-0/lib/python3.7/site-packages (from matplotlib>=2.1.2->seaborn==0.10.0)\n",
      "Requirement already satisfied: cycler>=0.10 in /mnt/tmp/1590608169754-0/lib/python3.7/site-packages (from matplotlib>=2.1.2->seaborn==0.10.0)\n",
      "Requirement already satisfied: kiwisolver>=1.0.1 in /mnt/tmp/1590608169754-0/lib/python3.7/site-packages (from matplotlib>=2.1.2->seaborn==0.10.0)\n",
      "Requirement already satisfied: six>=1.5 in /usr/local/lib/python3.7/site-packages (from python-dateutil>=2.6.1->pandas>=0.22.0->seaborn==0.10.0)\n",
      "Installing collected packages: scipy, seaborn\n",
      "Successfully installed scipy-1.4.1 seaborn-0.10.0\n",
      "\n",
      "Collecting numpy==1.18.4\n",
      "  Using cached https://files.pythonhosted.org/packages/1f/df/7988fbbdc8c9b8efb575029498ad84b77e023a3e4623e85068823a102b1d/numpy-1.18.4-cp37-cp37m-manylinux1_x86_64.whl\n",
      "Installing collected packages: numpy\n",
      "  Found existing installation: numpy 1.16.5\n",
      "    Not uninstalling numpy at /usr/local/lib64/python3.7/site-packages, outside environment /tmp/1590608169754-0\n",
      "Successfully installed numpy-1.18.4\n",
      "\n",
      "Collecting pyspark==2.4.5\n",
      "  Using cached https://files.pythonhosted.org/packages/9a/5a/271c416c1c2185b6cb0151b29a91fff6fcaed80173c8584ff6d20e46b465/pyspark-2.4.5.tar.gz\n",
      "    Complete output from command python setup.py egg_info:\n",
      "    Could not import pypandoc - required to package PySpark\n",
      "    /usr/lib64/python3.7/distutils/dist.py:274: UserWarning: Unknown distribution option: 'long_description_content_type'\n",
      "      warnings.warn(msg)\n",
      "    zip_safe flag not set; analyzing archive contents...\n",
      "    Traceback (most recent call last):\n",
      "      File \"/tmp/1590608169754-0/lib/python3.7/site-packages/setuptools/sandbox.py\", line 157, in save_modules\n",
      "        yield saved\n",
      "      File \"/tmp/1590608169754-0/lib/python3.7/site-packages/setuptools/sandbox.py\", line 198, in setup_context\n",
      "        yield\n",
      "      File \"/tmp/1590608169754-0/lib/python3.7/site-packages/setuptools/sandbox.py\", line 248, in run_setup\n",
      "        DirectorySandbox(setup_dir).run(runner)\n",
      "      File \"/tmp/1590608169754-0/lib/python3.7/site-packages/setuptools/sandbox.py\", line 278, in run\n",
      "        return func()\n",
      "      File \"/tmp/1590608169754-0/lib/python3.7/site-packages/setuptools/sandbox.py\", line 246, in runner\n",
      "        _execfile(setup_script, ns)\n",
      "      File \"/tmp/1590608169754-0/lib/python3.7/site-packages/setuptools/sandbox.py\", line 47, in _execfile\n",
      "        exec(code, globals, locals)\n",
      "      File \"/tmp/easy_install-dnyjd9rs/pypandoc-1.5/setup.py\", line 111, in <module>\n",
      "        # using Python imports instead which will be resolved correctly.\n",
      "      File \"/usr/lib64/python3.7/distutils/core.py\", line 148, in setup\n",
      "        dist.run_commands()\n",
      "      File \"/usr/lib64/python3.7/distutils/dist.py\", line 966, in run_commands\n",
      "        self.run_command(cmd)\n",
      "      File \"/usr/lib64/python3.7/distutils/dist.py\", line 985, in run_command\n",
      "        cmd_obj.run()\n",
      "      File \"/tmp/1590608169754-0/lib/python3.7/site-packages/setuptools/command/bdist_egg.py\", line 209, in run\n",
      "        os.path.join(archive_root, 'EGG-INFO'), self.zip_safe()\n",
      "      File \"/tmp/1590608169754-0/lib/python3.7/site-packages/setuptools/command/bdist_egg.py\", line 245, in zip_safe\n",
      "        return analyze_egg(self.bdist_dir, self.stubs)\n",
      "      File \"/tmp/1590608169754-0/lib/python3.7/site-packages/setuptools/command/bdist_egg.py\", line 355, in analyze_egg\n",
      "        safe = scan_module(egg_dir, base, name, stubs) and safe\n",
      "      File \"/tmp/1590608169754-0/lib/python3.7/site-packages/setuptools/command/bdist_egg.py\", line 392, in scan_module\n",
      "        code = marshal.load(f)\n",
      "    ValueError: bad marshal data (unknown type code)\n",
      "    \n",
      "    During handling of the above exception, another exception occurred:\n",
      "    \n",
      "    Traceback (most recent call last):\n",
      "      File \"<string>\", line 1, in <module>\n",
      "      File \"/mnt/tmp/pip-build-n98q43k9/pyspark/setup.py\", line 224, in <module>\n",
      "        'Programming Language :: Python :: Implementation :: PyPy']\n",
      "      File \"/usr/lib64/python3.7/distutils/core.py\", line 108, in setup\n",
      "        _setup_distribution = dist = klass(attrs)\n",
      "      File \"/tmp/1590608169754-0/lib/python3.7/site-packages/setuptools/dist.py\", line 315, in __init__\n",
      "        self.fetch_build_eggs(attrs['setup_requires'])\n",
      "      File \"/tmp/1590608169754-0/lib/python3.7/site-packages/setuptools/dist.py\", line 361, in fetch_build_eggs\n",
      "        replace_conflicting=True,\n",
      "      File \"/tmp/1590608169754-0/lib/python3.7/site-packages/pkg_resources/__init__.py\", line 850, in resolve\n",
      "        dist = best[req.key] = env.best_match(req, ws, installer)\n",
      "      File \"/tmp/1590608169754-0/lib/python3.7/site-packages/pkg_resources/__init__.py\", line 1122, in best_match\n",
      "        return self.obtain(req, installer)\n",
      "      File \"/tmp/1590608169754-0/lib/python3.7/site-packages/pkg_resources/__init__.py\", line 1134, in obtain\n",
      "        return installer(requirement)\n",
      "      File \"/tmp/1590608169754-0/lib/python3.7/site-packages/setuptools/dist.py\", line 429, in fetch_build_egg\n",
      "        return cmd.easy_install(req)\n",
      "      File \"/tmp/1590608169754-0/lib/python3.7/site-packages/setuptools/command/easy_install.py\", line 665, in easy_install\n",
      "        return self.install_item(spec, dist.location, tmpdir, deps)\n",
      "      File \"/tmp/1590608169754-0/lib/python3.7/site-packages/setuptools/command/easy_install.py\", line 695, in install_item\n",
      "        dists = self.install_eggs(spec, download, tmpdir)\n",
      "      File \"/tmp/1590608169754-0/lib/python3.7/site-packages/setuptools/command/easy_install.py\", line 876, in install_eggs\n",
      "        return self.build_and_install(setup_script, setup_base)\n",
      "      File \"/tmp/1590608169754-0/lib/python3.7/site-packages/setuptools/command/easy_install.py\", line 1115, in build_and_install\n",
      "        self.run_setup(setup_script, setup_base, args)\n",
      "      File \"/tmp/1590608169754-0/lib/python3.7/site-packages/setuptools/command/easy_install.py\", line 1101, in run_setup\n",
      "        run_setup(setup_script, args)\n",
      "      File \"/tmp/1590608169754-0/lib/python3.7/site-packages/setuptools/sandbox.py\", line 251, in run_setup\n",
      "        raise\n",
      "      File \"/usr/lib64/python3.7/contextlib.py\", line 130, in __exit__\n",
      "        self.gen.throw(type, value, traceback)\n",
      "      File \"/tmp/1590608169754-0/lib/python3.7/site-packages/setuptools/sandbox.py\", line 198, in setup_context\n",
      "        yield\n",
      "      File \"/usr/lib64/python3.7/contextlib.py\", line 130, in __exit__\n",
      "        self.gen.throw(type, value, traceback)\n",
      "      File \"/tmp/1590608169754-0/lib/python3.7/site-packages/setuptools/sandbox.py\", line 169, in save_modules\n",
      "        saved_exc.resume()\n",
      "      File \"/tmp/1590608169754-0/lib/python3.7/site-packages/setuptools/sandbox.py\", line 144, in resume\n",
      "        six.reraise(type, exc, self._tb)\n",
      "      File \"/tmp/1590608169754-0/lib/python3.7/site-packages/pkg_resources/_vendor/six.py\", line 685, in reraise\n",
      "        raise value.with_traceback(tb)\n",
      "      File \"/tmp/1590608169754-0/lib/python3.7/site-packages/setuptools/sandbox.py\", line 157, in save_modules\n",
      "        yield saved\n",
      "      File \"/tmp/1590608169754-0/lib/python3.7/site-packages/setuptools/sandbox.py\", line 198, in setup_context\n",
      "        yield\n",
      "      File \"/tmp/1590608169754-0/lib/python3.7/site-packages/setuptools/sandbox.py\", line 248, in run_setup\n",
      "        DirectorySandbox(setup_dir).run(runner)\n",
      "      File \"/tmp/1590608169754-0/lib/python3.7/site-packages/setuptools/sandbox.py\", line 278, in run\n",
      "        return func()\n",
      "      File \"/tmp/1590608169754-0/lib/python3.7/site-packages/setuptools/sandbox.py\", line 246, in runner\n",
      "        _execfile(setup_script, ns)\n",
      "      File \"/tmp/1590608169754-0/lib/python3.7/site-packages/setuptools/sandbox.py\", line 47, in _execfile\n",
      "        exec(code, globals, locals)\n",
      "      File \"/tmp/easy_install-dnyjd9rs/pypandoc-1.5/setup.py\", line 111, in <module>\n",
      "        # using Python imports instead which will be resolved correctly.\n",
      "      File \"/usr/lib64/python3.7/distutils/core.py\", line 148, in setup\n",
      "        dist.run_commands()\n",
      "      File \"/usr/lib64/python3.7/distutils/dist.py\", line 966, in run_commands\n",
      "        self.run_command(cmd)\n",
      "      File \"/usr/lib64/python3.7/distutils/dist.py\", line 985, in run_command\n",
      "        cmd_obj.run()\n",
      "      File \"/tmp/1590608169754-0/lib/python3.7/site-packages/setuptools/command/bdist_egg.py\", line 209, in run\n",
      "        os.path.join(archive_root, 'EGG-INFO'), self.zip_safe()\n",
      "      File \"/tmp/1590608169754-0/lib/python3.7/site-packages/setuptools/command/bdist_egg.py\", line 245, in zip_safe\n",
      "        return analyze_egg(self.bdist_dir, self.stubs)\n",
      "      File \"/tmp/1590608169754-0/lib/python3.7/site-packages/setuptools/command/bdist_egg.py\", line 355, in analyze_egg\n",
      "        safe = scan_module(egg_dir, base, name, stubs) and safe\n",
      "      File \"/tmp/1590608169754-0/lib/python3.7/site-packages/setuptools/command/bdist_egg.py\", line 392, in scan_module\n",
      "        code = marshal.load(f)\n",
      "    ValueError: bad marshal data (unknown type code)\n",
      "    \n",
      "    ----------------------------------------\n",
      "\n",
      "Collecting ipython==7.14.0\n",
      "  Using cached https://files.pythonhosted.org/packages/b0/00/afc3968a3cdf5f30c5c9dfb8e6a61e63231d6869a461dc1ff418280c5ea4/ipython-7.14.0-py3-none-any.whl\n",
      "Requirement already satisfied: setuptools>=18.5 in /mnt/tmp/1590608169754-0/lib/python3.7/site-packages (from ipython==7.14.0)\n",
      "Collecting decorator (from ipython==7.14.0)\n",
      "  Using cached https://files.pythonhosted.org/packages/ed/1b/72a1821152d07cf1d8b6fce298aeb06a7eb90f4d6d41acec9861e7cc6df0/decorator-4.4.2-py2.py3-none-any.whl\n",
      "Collecting traitlets>=4.2 (from ipython==7.14.0)\n",
      "  Using cached https://files.pythonhosted.org/packages/ca/ab/872a23e29cec3cf2594af7e857f18b687ad21039c1f9b922fac5b9b142d5/traitlets-4.3.3-py2.py3-none-any.whl\n",
      "Collecting pexpect; sys_platform != \"win32\" (from ipython==7.14.0)\n",
      "  Using cached https://files.pythonhosted.org/packages/39/7b/88dbb785881c28a102619d46423cb853b46dbccc70d3ac362d99773a78ce/pexpect-4.8.0-py2.py3-none-any.whl\n",
      "Collecting jedi>=0.10 (from ipython==7.14.0)\n",
      "  Using cached https://files.pythonhosted.org/packages/f3/3f/67f027e18c60a800875df1a0894a2436ce9053637fa39725766e937c0a71/jedi-0.17.0-py2.py3-none-any.whl\n",
      "Collecting prompt-toolkit!=3.0.0,!=3.0.1,<3.1.0,>=2.0.0 (from ipython==7.14.0)\n",
      "  Using cached https://files.pythonhosted.org/packages/e4/a7/81b39aa50e9284fe2cb21cc7fb7de7817b224172d42793fd57451d38842b/prompt_toolkit-3.0.5-py3-none-any.whl\n",
      "Collecting pickleshare (from ipython==7.14.0)\n",
      "  Using cached https://files.pythonhosted.org/packages/9a/41/220f49aaea88bc6fa6cba8d05ecf24676326156c23b991e80b3f2fc24c77/pickleshare-0.7.5-py2.py3-none-any.whl\n",
      "Collecting backcall (from ipython==7.14.0)\n",
      "Collecting pygments (from ipython==7.14.0)\n",
      "  Using cached https://files.pythonhosted.org/packages/2d/68/106af3ae51daf807e9cdcba6a90e518954eb8b70341cee52995540a53ead/Pygments-2.6.1-py3-none-any.whl\n",
      "Collecting ipython-genutils (from traitlets>=4.2->ipython==7.14.0)\n",
      "  Using cached https://files.pythonhosted.org/packages/fa/bc/9bd3b5c2b4774d5f33b2d544f1460be9df7df2fe42f352135381c347c69a/ipython_genutils-0.2.0-py2.py3-none-any.whl\n",
      "Requirement already satisfied: six in /usr/local/lib/python3.7/site-packages (from traitlets>=4.2->ipython==7.14.0)\n",
      "Collecting ptyprocess>=0.5 (from pexpect; sys_platform != \"win32\"->ipython==7.14.0)\n",
      "  Using cached https://files.pythonhosted.org/packages/d1/29/605c2cc68a9992d18dada28206eeada56ea4bd07a239669da41674648b6f/ptyprocess-0.6.0-py2.py3-none-any.whl\n",
      "Collecting parso>=0.7.0 (from jedi>=0.10->ipython==7.14.0)\n",
      "  Using cached https://files.pythonhosted.org/packages/b5/61/998cce9e7476de000d031874df26a18f67cb73448164fc44a98f0c55920b/parso-0.7.0-py2.py3-none-any.whl\n",
      "Collecting wcwidth (from prompt-toolkit!=3.0.0,!=3.0.1,<3.1.0,>=2.0.0->ipython==7.14.0)\n",
      "  Using cached https://files.pythonhosted.org/packages/f6/d5/1ecdac957e3ea12c1b319fcdee8b6917ffaff8b4644d673c4d72d2f20b49/wcwidth-0.1.9-py2.py3-none-any.whl\n",
      "Installing collected packages: decorator, ipython-genutils, traitlets, ptyprocess, pexpect, parso, jedi, wcwidth, prompt-toolkit, pickleshare, backcall, pygments, ipython\n",
      "Successfully installed backcall-0.1.0 decorator-4.4.2 ipython-7.14.0 ipython-genutils-0.2.0 jedi-0.17.0 parso-0.7.0 pexpect-4.8.0 pickleshare-0.7.5 prompt-toolkit-3.0.5 ptyprocess-0.6.0 pygments-2.6.1 traitlets-4.3.3 wcwidth-0.1.9\n",
      "\n",
      "Collecting subprocess.run==0.0.8\n",
      "Installing collected packages: subprocess.run\n",
      "Successfully installed subprocess.run-0.0.8\n",
      "\n",
      "\n",
      "\n",
      "\n",
      "\n",
      "Command \"python setup.py egg_info\" failed with error code 1 in /mnt/tmp/pip-build-n98q43k9/pyspark/"
     ]
    }
   ],
   "source": [
    "sc.install_pypi_package(\"matplotlib==3.2.1\")\n",
    "sc.install_pypi_package(\"pandas==1.0.3\")\n",
    "sc.install_pypi_package(\"seaborn==0.10.0\")\n",
    "sc.install_pypi_package(\"numpy==1.18.4\")\n",
    "sc.install_pypi_package(\"pyspark==2.4.5\")\n",
    "sc.install_pypi_package(\"ipython==7.14.0\")\n",
    "sc.install_pypi_package(\"subprocess.run==0.0.8\")"
   ]
  },
  {
   "cell_type": "markdown",
   "metadata": {},
   "source": [
    "# Importing"
   ]
  },
  {
   "cell_type": "code",
   "execution_count": 36,
   "metadata": {
    "scrolled": true
   },
   "outputs": [
    {
     "data": {
      "application/vnd.jupyter.widget-view+json": {
       "model_id": "5623de9095794af0b176e7646ab9766e",
       "version_major": 2,
       "version_minor": 0
      },
      "text/plain": [
       "VBox()"
      ]
     },
     "metadata": {},
     "output_type": "display_data"
    },
    {
     "data": {
      "application/vnd.jupyter.widget-view+json": {
       "model_id": "",
       "version_major": 2,
       "version_minor": 0
      },
      "text/plain": [
       "FloatProgress(value=0.0, bar_style='info', description='Progress:', layout=Layout(height='25px', width='50%'),…"
      ]
     },
     "metadata": {},
     "output_type": "display_data"
    }
   ],
   "source": [
    "from IPython import display \n",
    "import matplotlib.pyplot as plt\n",
    "import seaborn as sns\n",
    "import numpy as np \n",
    "import pandas as pd\n",
    "from pyspark import *"
   ]
  },
  {
   "cell_type": "code",
   "execution_count": 37,
   "metadata": {
    "scrolled": true
   },
   "outputs": [
    {
     "data": {
      "application/vnd.jupyter.widget-view+json": {
       "model_id": "2c6f354c01034e4286cc40e63d52a45b",
       "version_major": 2,
       "version_minor": 0
      },
      "text/plain": [
       "VBox()"
      ]
     },
     "metadata": {},
     "output_type": "display_data"
    },
    {
     "data": {
      "application/vnd.jupyter.widget-view+json": {
       "model_id": "",
       "version_major": 2,
       "version_minor": 0
      },
      "text/plain": [
       "FloatProgress(value=0.0, bar_style='info', description='Progress:', layout=Layout(height='25px', width='50%'),…"
      ]
     },
     "metadata": {},
     "output_type": "display_data"
    },
    {
     "name": "stdout",
     "output_type": "stream",
     "text": [
      "Package                    Version\n",
      "-------------------------- -------\n",
      "backcall                   0.1.0  \n",
      "beautifulsoup4             4.9.0  \n",
      "boto                       2.49.0 \n",
      "cycler                     0.10.0 \n",
      "decorator                  4.4.2  \n",
      "ipython                    7.14.0 \n",
      "ipython-genutils           0.2.0  \n",
      "jedi                       0.17.0 \n",
      "jmespath                   0.9.5  \n",
      "kiwisolver                 1.2.0  \n",
      "lxml                       4.5.0  \n",
      "matplotlib                 3.2.1  \n",
      "mysqlclient                1.4.2  \n",
      "nltk                       3.4.5  \n",
      "nose                       1.3.4  \n",
      "numpy                      1.18.4 \n",
      "pandas                     1.0.3  \n",
      "parso                      0.7.0  \n",
      "pexpect                    4.8.0  \n",
      "pickleshare                0.7.5  \n",
      "pip                        9.0.1  \n",
      "prompt-toolkit             3.0.5  \n",
      "ptyprocess                 0.6.0  \n",
      "py-dateutil                2.2    \n",
      "Pygments                   2.6.1  \n",
      "pyparsing                  2.4.7  \n",
      "python-dateutil            2.8.1  \n",
      "python37-sagemaker-pyspark 1.3.0  \n",
      "pytz                       2019.3 \n",
      "PyYAML                     5.3.1  \n",
      "scipy                      1.4.1  \n",
      "seaborn                    0.10.0 \n",
      "setuptools                 28.8.0 \n",
      "six                        1.13.0 \n",
      "soupsieve                  1.9.5  \n",
      "subprocess.run             0.0.8  \n",
      "traitlets                  4.3.3  \n",
      "wcwidth                    0.1.9  \n",
      "wheel                      0.29.0 \n",
      "windmill                   1.6"
     ]
    }
   ],
   "source": [
    "sc.list_packages()"
   ]
  },
  {
   "cell_type": "markdown",
   "metadata": {},
   "source": [
    "![](https://raw.githubusercontent.com/BenitaDiop/students/master/bin/Cables.png)"
   ]
  },
  {
   "cell_type": "markdown",
   "metadata": {},
   "source": [
    "#### Loading Data"
   ]
  },
  {
   "cell_type": "code",
   "execution_count": 7,
   "metadata": {},
   "outputs": [
    {
     "data": {
      "application/vnd.jupyter.widget-view+json": {
       "model_id": "e1aa52a419284cac9f6476cb6c87938d",
       "version_major": 2,
       "version_minor": 0
      },
      "text/plain": [
       "VBox()"
      ]
     },
     "metadata": {},
     "output_type": "display_data"
    },
    {
     "data": {
      "application/vnd.jupyter.widget-view+json": {
       "model_id": "",
       "version_major": 2,
       "version_minor": 0
      },
      "text/plain": [
       "FloatProgress(value=0.0, bar_style='info', description='Progress:', layout=Layout(height='25px', width='50%'),…"
      ]
     },
     "metadata": {},
     "output_type": "display_data"
    }
   ],
   "source": [
    "business = spark.read.json(\"s3://my-little-pony/yelp/yelp_academic_dataset_business.json\")"
   ]
  },
  {
   "cell_type": "markdown",
   "metadata": {},
   "source": [
    "#### Overview of Data"
   ]
  },
  {
   "cell_type": "code",
   "execution_count": 8,
   "metadata": {},
   "outputs": [
    {
     "data": {
      "application/vnd.jupyter.widget-view+json": {
       "model_id": "5ddd737b0d2f4f84962dda84942bf2dd",
       "version_major": 2,
       "version_minor": 0
      },
      "text/plain": [
       "VBox()"
      ]
     },
     "metadata": {},
     "output_type": "display_data"
    },
    {
     "data": {
      "application/vnd.jupyter.widget-view+json": {
       "model_id": "",
       "version_major": 2,
       "version_minor": 0
      },
      "text/plain": [
       "FloatProgress(value=0.0, bar_style='info', description='Progress:', layout=Layout(height='25px', width='50%'),…"
      ]
     },
     "metadata": {},
     "output_type": "display_data"
    },
    {
     "name": "stdout",
     "output_type": "stream",
     "text": [
      "Columns:14 | Rows:209393"
     ]
    }
   ],
   "source": [
    "iv = {'columns': len(business.columns), 'rows': business.count()}\n",
    "print(f\"Columns:{iv['columns']} | Rows:{iv['rows']}\")"
   ]
  },
  {
   "cell_type": "code",
   "execution_count": 9,
   "metadata": {
    "scrolled": false
   },
   "outputs": [
    {
     "data": {
      "application/vnd.jupyter.widget-view+json": {
       "model_id": "47cfe2f4e02d4ed79f9ae963881adf66",
       "version_major": 2,
       "version_minor": 0
      },
      "text/plain": [
       "VBox()"
      ]
     },
     "metadata": {},
     "output_type": "display_data"
    },
    {
     "data": {
      "application/vnd.jupyter.widget-view+json": {
       "model_id": "",
       "version_major": 2,
       "version_minor": 0
      },
      "text/plain": [
       "FloatProgress(value=0.0, bar_style='info', description='Progress:', layout=Layout(height='25px', width='50%'),…"
      ]
     },
     "metadata": {},
     "output_type": "display_data"
    },
    {
     "name": "stdout",
     "output_type": "stream",
     "text": [
      "root\n",
      " |-- address: string (nullable = true)\n",
      " |-- attributes: struct (nullable = true)\n",
      " |    |-- AcceptsInsurance: string (nullable = true)\n",
      " |    |-- AgesAllowed: string (nullable = true)\n",
      " |    |-- Alcohol: string (nullable = true)\n",
      " |    |-- Ambience: string (nullable = true)\n",
      " |    |-- BYOB: string (nullable = true)\n",
      " |    |-- BYOBCorkage: string (nullable = true)\n",
      " |    |-- BestNights: string (nullable = true)\n",
      " |    |-- BikeParking: string (nullable = true)\n",
      " |    |-- BusinessAcceptsBitcoin: string (nullable = true)\n",
      " |    |-- BusinessAcceptsCreditCards: string (nullable = true)\n",
      " |    |-- BusinessParking: string (nullable = true)\n",
      " |    |-- ByAppointmentOnly: string (nullable = true)\n",
      " |    |-- Caters: string (nullable = true)\n",
      " |    |-- CoatCheck: string (nullable = true)\n",
      " |    |-- Corkage: string (nullable = true)\n",
      " |    |-- DietaryRestrictions: string (nullable = true)\n",
      " |    |-- DogsAllowed: string (nullable = true)\n",
      " |    |-- DriveThru: string (nullable = true)\n",
      " |    |-- GoodForDancing: string (nullable = true)\n",
      " |    |-- GoodForKids: string (nullable = true)\n",
      " |    |-- GoodForMeal: string (nullable = true)\n",
      " |    |-- HairSpecializesIn: string (nullable = true)\n",
      " |    |-- HappyHour: string (nullable = true)\n",
      " |    |-- HasTV: string (nullable = true)\n",
      " |    |-- Music: string (nullable = true)\n",
      " |    |-- NoiseLevel: string (nullable = true)\n",
      " |    |-- Open24Hours: string (nullable = true)\n",
      " |    |-- OutdoorSeating: string (nullable = true)\n",
      " |    |-- RestaurantsAttire: string (nullable = true)\n",
      " |    |-- RestaurantsCounterService: string (nullable = true)\n",
      " |    |-- RestaurantsDelivery: string (nullable = true)\n",
      " |    |-- RestaurantsGoodForGroups: string (nullable = true)\n",
      " |    |-- RestaurantsPriceRange2: string (nullable = true)\n",
      " |    |-- RestaurantsReservations: string (nullable = true)\n",
      " |    |-- RestaurantsTableService: string (nullable = true)\n",
      " |    |-- RestaurantsTakeOut: string (nullable = true)\n",
      " |    |-- Smoking: string (nullable = true)\n",
      " |    |-- WheelchairAccessible: string (nullable = true)\n",
      " |    |-- WiFi: string (nullable = true)\n",
      " |-- business_id: string (nullable = true)\n",
      " |-- categories: string (nullable = true)\n",
      " |-- city: string (nullable = true)\n",
      " |-- hours: struct (nullable = true)\n",
      " |    |-- Friday: string (nullable = true)\n",
      " |    |-- Monday: string (nullable = true)\n",
      " |    |-- Saturday: string (nullable = true)\n",
      " |    |-- Sunday: string (nullable = true)\n",
      " |    |-- Thursday: string (nullable = true)\n",
      " |    |-- Tuesday: string (nullable = true)\n",
      " |    |-- Wednesday: string (nullable = true)\n",
      " |-- is_open: long (nullable = true)\n",
      " |-- latitude: double (nullable = true)\n",
      " |-- longitude: double (nullable = true)\n",
      " |-- name: string (nullable = true)\n",
      " |-- postal_code: string (nullable = true)\n",
      " |-- review_count: long (nullable = true)\n",
      " |-- stars: double (nullable = true)\n",
      " |-- state: string (nullable = true)"
     ]
    }
   ],
   "source": [
    "business.printSchema()"
   ]
  },
  {
   "cell_type": "code",
   "execution_count": 10,
   "metadata": {},
   "outputs": [
    {
     "data": {
      "application/vnd.jupyter.widget-view+json": {
       "model_id": "abfc9b87c168465aa8396dc7fa850b9d",
       "version_major": 2,
       "version_minor": 0
      },
      "text/plain": [
       "VBox()"
      ]
     },
     "metadata": {},
     "output_type": "display_data"
    },
    {
     "data": {
      "application/vnd.jupyter.widget-view+json": {
       "model_id": "",
       "version_major": 2,
       "version_minor": 0
      },
      "text/plain": [
       "FloatProgress(value=0.0, bar_style='info', description='Progress:', layout=Layout(height='25px', width='50%'),…"
      ]
     },
     "metadata": {},
     "output_type": "display_data"
    },
    {
     "name": "stdout",
     "output_type": "stream",
     "text": [
      "+--------------------+-----+-----+--------------------+--------------------+\n",
      "|                name|state|stars|          categories|         business_id|\n",
      "+--------------------+-----+-----+--------------------+--------------------+\n",
      "|         Tim Hortons|   ON|  2.0|Breakfast & Brunc...|2utGLjz9HlhK6QqPO...|\n",
      "|Pas D'cochon Dans...|   QC|  4.0|   Food, Food Trucks|yyvWWWGuoMWyINaOf...|\n",
      "|       Haulin' Goats|   OH|  3.5|Pets, Pet Service...|2k-ki66QUs1xJcPqG...|\n",
      "|       The Mutt Hutt|   OH|  4.5|Pet Services, Pet...|RsTqIM3xfeaWybqmF...|\n",
      "|Sleep Well Las Vegas|   NV|  4.5|Shopping, Mattres...|3lD7zRNc4h4aGGBRr...|\n",
      "+--------------------+-----+-----+--------------------+--------------------+"
     ]
    }
   ],
   "source": [
    "business.createOrReplaceTempView(\"biz\")\n",
    "biz = spark.sql(\"\"\" \n",
    "SELECT \\\n",
    "name,  \n",
    "state, \n",
    "stars, \n",
    "categories,\n",
    "business_id\n",
    "FROM biz limit 5\"\"\")\n",
    "biz.show()"
   ]
  },
  {
   "cell_type": "markdown",
   "metadata": {},
   "source": [
    "![](https://raw.githubusercontent.com/BenitaDiop/students/master/bin/Cables.png)"
   ]
  },
  {
   "cell_type": "markdown",
   "metadata": {},
   "source": [
    "<h2> <center> <font color='red'>\n",
    " Analyzing Categories\n",
    "    </center> </font> "
   ]
  },
  {
   "cell_type": "markdown",
   "metadata": {},
   "source": [
    "**Question** how many unique categories are represented in this dataset?\n",
    "Essentially, we have the categories per business as a list - this is useful to quickly see what each business might be represented as but it is difficult to easily answer questions such as:\n",
    "How many businesses are categorized as Active Life, for instance\n",
    "What are the top 20 most popular categories available?\n",
    "\n",
    "#### Association Table\n",
    "\n",
    "We need to \"break out\" these categories from the business ids. One common approach to take is to build an association table mapping a single business id multiple times to each distinct category. What this does is allow us to then perform a myriad of rollups and other analysis on this association table which can aid in answering the questions asked above."
   ]
  },
  {
   "cell_type": "code",
   "execution_count": 11,
   "metadata": {},
   "outputs": [
    {
     "data": {
      "application/vnd.jupyter.widget-view+json": {
       "model_id": "07bf25ce6aae42ca9146d61b3a54c88b",
       "version_major": 2,
       "version_minor": 0
      },
      "text/plain": [
       "VBox()"
      ]
     },
     "metadata": {},
     "output_type": "display_data"
    },
    {
     "data": {
      "application/vnd.jupyter.widget-view+json": {
       "model_id": "",
       "version_major": 2,
       "version_minor": 0
      },
      "text/plain": [
       "FloatProgress(value=0.0, bar_style='info', description='Progress:', layout=Layout(height='25px', width='50%'),…"
      ]
     },
     "metadata": {},
     "output_type": "display_data"
    },
    {
     "name": "stdout",
     "output_type": "stream",
     "text": [
      "+--------------------+-----------------+--------------------+\n",
      "|         business_id|              col|          categories|\n",
      "+--------------------+-----------------+--------------------+\n",
      "|f9NumwFMBDn751xgF...|      Active Life|Active Life, Gun/...|\n",
      "|f9NumwFMBDn751xgF...| Gun/Rifle Ranges|Active Life, Gun/...|\n",
      "|f9NumwFMBDn751xgF...|      Guns & Ammo|Active Life, Gun/...|\n",
      "|f9NumwFMBDn751xgF...|         Shopping|Active Life, Gun/...|\n",
      "+--------------------+-----------------+--------------------+\n",
      "only showing top 4 rows\n",
      "\n",
      "+--------------------+-----+\n",
      "|            Category|count|\n",
      "+--------------------+-----+\n",
      "|         Restaurants|44488|\n",
      "|            Shopping|26128|\n",
      "|                Food|24452|\n",
      "|         Restaurants|19456|\n",
      "|       Home Services|16205|\n",
      "|       Beauty & Spas|14216|\n",
      "|    Health & Medical|13978|\n",
      "|      Local Services|11958|\n",
      "|           Nightlife|11415|\n",
      "|                Bars|10201|\n",
      "|          Automotive|10063|\n",
      "| Event Planning &...| 8911|\n",
      "|                Food| 8539|\n",
      "|            Shopping| 8516|\n",
      "|         Active Life| 7771|\n",
      "|             Fashion| 6628|\n",
      "|       Beauty & Spas| 6304|\n",
      "|       Home Services| 6282|\n",
      "|        Coffee & Tea| 6257|\n",
      "|          Sandwiches| 6132|\n",
      "+--------------------+-----+\n",
      "only showing top 20 rows\n",
      "\n",
      "There is a total of  {2528}  Unique Categories"
     ]
    }
   ],
   "source": [
    "query = \"\"\"\n",
    "SELECT \n",
    "business_id,\n",
    "explode(split(categories, ',')),\n",
    "categories\n",
    "FROM biz\"\"\"\n",
    "\n",
    "bizcat = spark.sql(query)\n",
    "bizcat.show(4)\n",
    "\n",
    "tmp = bizcat.drop(\"categories\")\\\n",
    "            .withColumnRenamed('business_id', 'ID')\\\n",
    "            .withColumnRenamed('col', 'Category')\n",
    "\n",
    "categories = tmp.groupBy(\"Category\").count()\n",
    "categories = categories.sort(\"count\", ascending = False)\n",
    "categories.show(20)\n",
    "\n",
    "pdf=categories.toPandas()\n",
    "\n",
    "pdf.head(10).plot(x='Category', \n",
    "                 y='count', \n",
    "                 kind='barh',\n",
    "                 stacked = True,\n",
    "                 colormap='OrRd', \n",
    "                 fontsize = 5.5, \n",
    "                figsize = (5, 6), \n",
    "                  align=\"center\")\n",
    "plt.title(\"Top Business Categories\")\n",
    "\n",
    "print(\"There is a total of \", {categories.count()}, \" Unique Categories\")"
   ]
  },
  {
   "cell_type": "code",
   "execution_count": 12,
   "metadata": {
    "scrolled": false
   },
   "outputs": [
    {
     "data": {
      "application/vnd.jupyter.widget-view+json": {
       "model_id": "",
       "version_major": 2,
       "version_minor": 0
      },
      "text/plain": [
       "FloatProgress(value=0.0, bar_style='info', description='Progress:', layout=Layout(height='25px', width='50%'),…"
      ]
     },
     "metadata": {},
     "output_type": "display_data"
    },
    {
     "data": {
      "image/png": "[encoded data removed]",
      "text/plain": [
       "<IPython.core.display.Image object>"
      ]
     },
     "metadata": {},
     "output_type": "display_data"
    }
   ],
   "source": [
    "%matplot plt"
   ]
  },
  {
   "cell_type": "markdown",
   "metadata": {},
   "source": [
    "![](https://raw.githubusercontent.com/BenitaDiop/students/master/bin/Cables.png)"
   ]
  },
  {
   "cell_type": "markdown",
   "metadata": {},
   "source": [
    "# Do Yelp Reviews Skew Negative?\n",
    "\n",
    "Oftentimes, it is said that the only people who write a written review are those who are extremely dissatisfied or extremely satisfied with the service received.***How true is this really?***"
   ]
  },
  {
   "cell_type": "code",
   "execution_count": 13,
   "metadata": {},
   "outputs": [
    {
     "data": {
      "application/vnd.jupyter.widget-view+json": {
       "model_id": "48ae1dea973648319bbdec8fe762ab3f",
       "version_major": 2,
       "version_minor": 0
      },
      "text/plain": [
       "VBox()"
      ]
     },
     "metadata": {},
     "output_type": "display_data"
    },
    {
     "data": {
      "application/vnd.jupyter.widget-view+json": {
       "model_id": "",
       "version_major": 2,
       "version_minor": 0
      },
      "text/plain": [
       "FloatProgress(value=0.0, bar_style='info', description='Progress:', layout=Layout(height='25px', width='50%'),…"
      ]
     },
     "metadata": {},
     "output_type": "display_data"
    },
    {
     "name": "stdout",
     "output_type": "stream",
     "text": [
      "['business_id', 'stars', 'review_id', 'user_id', 'text']"
     ]
    }
   ],
   "source": [
    "review = spark.read.load('s3://my-little-pony/yelp/reviews.json', \n",
    "                         format='json'\n",
    "                        ).select(\"business_id\", \n",
    "                                 \"stars\", \n",
    "                                 \"review_id\", \n",
    "                                 \"user_id\", \n",
    "                                 \"text\")\n",
    "business = spark.read.load('s3://my-little-pony/yelp/yelp_academic_dataset_business.json', \n",
    "                           format = 'json'\n",
    "                          ).select(\"business_id\", \n",
    "                                   \"stars\")\n",
    "review.columns"
   ]
  },
  {
   "cell_type": "code",
   "execution_count": 14,
   "metadata": {},
   "outputs": [
    {
     "data": {
      "application/vnd.jupyter.widget-view+json": {
       "model_id": "eedda1d9a35e48e8bcc724f989cab023",
       "version_major": 2,
       "version_minor": 0
      },
      "text/plain": [
       "VBox()"
      ]
     },
     "metadata": {},
     "output_type": "display_data"
    },
    {
     "data": {
      "application/vnd.jupyter.widget-view+json": {
       "model_id": "",
       "version_major": 2,
       "version_minor": 0
      },
      "text/plain": [
       "FloatProgress(value=0.0, bar_style='info', description='Progress:', layout=Layout(height='25px', width='50%'),…"
      ]
     },
     "metadata": {},
     "output_type": "display_data"
    },
    {
     "name": "stdout",
     "output_type": "stream",
     "text": [
      "+--------------------+------------------+\n",
      "|         business_id|         avgRating|\n",
      "+--------------------+------------------+\n",
      "|VHsNB3pdGVcRgs6C3...| 3.411764705882353|\n",
      "|RMjCnixEY5i12Ciqn...|3.5316455696202533|\n",
      "|ipFreSFhjClfNETuM...|               2.6|\n",
      "|dLDMU8bOLnkDTmPUr...| 4.942857142857143|\n",
      "|Qm2datcYBPXrPATVG...| 4.352941176470588|\n",
      "+--------------------+------------------+\n",
      "only showing top 5 rows\n",
      "\n",
      "+--------------------+------------------+\n",
      "|             user_id|         avgRating|\n",
      "+--------------------+------------------+\n",
      "|1Dul59QEe-Q-7OQHT...|              3.75|\n",
      "|z2Gi5vo-8j544qN_g...|               4.5|\n",
      "|CzkWUMIYDxUSetfCR...| 4.235294117647059|\n",
      "|Uf_TVv1Z4s024jdI4...|               4.0|\n",
      "|QSWr7Oivp0mClj_PR...|3.6666666666666665|\n",
      "+--------------------+------------------+\n",
      "only showing top 5 rows\n",
      "\n",
      "+--------------------+-----------+\n",
      "|                 BID|TotalRating|\n",
      "+--------------------+-----------+\n",
      "|DloBjCZHlz0lzsrQJ...|        4.0|\n",
      "|RasF3XQRsFqfmY596...|        2.0|\n",
      "|VHsNB3pdGVcRgs6C3...|        3.5|\n",
      "|RMjCnixEY5i12Ciqn...|        3.5|\n",
      "|ei7SYxd07uETpASn1...|        4.0|\n",
      "+--------------------+-----------+\n",
      "only showing top 5 rows"
     ]
    }
   ],
   "source": [
    "review_sub = review.select(\"business_id\", \"stars\", \"user_id\") \n",
    "review_sub.createOrReplaceTempView(\"review_Bsub_avg\")\n",
    "review_Bsub_avg = review_sub.groupBy(\"business_id\"\n",
    "                                    ).mean(\"stars\"\n",
    "                                          ).withColumnRenamed(\n",
    "    \"avg(stars)\", \n",
    "    \"avgRating\")\n",
    "review_sub.createOrReplaceTempView(\"review_Usub_avg\")\n",
    "review_Usub_avg = review_sub.groupBy(\"user_id\").mean(\"stars\").withColumnRenamed(\"avg(stars)\", \"avgRating\")\n",
    "\n",
    "review_Bsub_avg.show(5)\n",
    "review_Usub_avg.show(5)\n",
    "\n",
    "business.createOrReplaceTempView(\"business_sub_avg\")\n",
    "business_sub_avg = spark.sql(\"\"\"\n",
    "SELECT business_id as BID, \n",
    "avg(stars) as TotalRating\n",
    "FROM biz \n",
    "GROUP BY business_id\"\"\")\n",
    "business_sub_avg.show(5)"
   ]
  },
  {
   "cell_type": "code",
   "execution_count": 15,
   "metadata": {
    "scrolled": true
   },
   "outputs": [
    {
     "data": {
      "application/vnd.jupyter.widget-view+json": {
       "model_id": "44a580ebf2bd436d898e4eef23005918",
       "version_major": 2,
       "version_minor": 0
      },
      "text/plain": [
       "VBox()"
      ]
     },
     "metadata": {},
     "output_type": "display_data"
    },
    {
     "data": {
      "application/vnd.jupyter.widget-view+json": {
       "model_id": "",
       "version_major": 2,
       "version_minor": 0
      },
      "text/plain": [
       "FloatProgress(value=0.0, bar_style='info', description='Progress:', layout=Layout(height='25px', width='50%'),…"
      ]
     },
     "metadata": {},
     "output_type": "display_data"
    },
    {
     "name": "stdout",
     "output_type": "stream",
     "text": [
      "+-------+------------------+------------------+\n",
      "|summary|      ReviewRating|       TotalRating|\n",
      "+-------+------------------+------------------+\n",
      "|  count|            209393|            209393|\n",
      "|   mean| 3.534304236620268|3.5380552358483808|\n",
      "| stddev|1.0152088475168217|1.0235430346225862|\n",
      "|    min|               1.0|               1.0|\n",
      "|    max|               5.0|               5.0|\n",
      "+-------+------------------+------------------+"
     ]
    }
   ],
   "source": [
    "tbl = review_Bsub_avg.join(business_sub_avg, \n",
    "                           business_sub_avg.BID == review_Bsub_avg.business_id,\n",
    "                           \"full\"\n",
    "                          ).drop('BID'\n",
    "                                ).withColumnRenamed('business_id', \n",
    "                                                    'ID'\n",
    "                                                   ).withColumnRenamed('avgRating', 'ReviewRating')\n",
    "\n",
    "tbl.select(\"ReviewRating\", \"TotalRating\").describe().show()\n"
   ]
  },
  {
   "cell_type": "markdown",
   "metadata": {},
   "source": [
    "![](https://raw.githubusercontent.com/BenitaDiop/students/master/bin/Cables.png)"
   ]
  },
  {
   "cell_type": "code",
   "execution_count": 16,
   "metadata": {
    "scrolled": false
   },
   "outputs": [
    {
     "data": {
      "application/vnd.jupyter.widget-view+json": {
       "model_id": "193ec1b7849148bbbf225f0a9e2e9e2f",
       "version_major": 2,
       "version_minor": 0
      },
      "text/plain": [
       "VBox()"
      ]
     },
     "metadata": {},
     "output_type": "display_data"
    },
    {
     "data": {
      "application/vnd.jupyter.widget-view+json": {
       "model_id": "",
       "version_major": 2,
       "version_minor": 0
      },
      "text/plain": [
       "FloatProgress(value=0.0, bar_style='info', description='Progress:', layout=Layout(height='25px', width='50%'),…"
      ]
     },
     "metadata": {},
     "output_type": "display_data"
    },
    {
     "name": "stdout",
     "output_type": "stream",
     "text": [
      "\n",
      "Are Business and Reviews Average Ratings The Same or Skewed?\n",
      "p_value = 0.214\n",
      "actual = 0.0037509992281146154\n",
      "ts max = 0.011005538931643244"
     ]
    }
   ],
   "source": [
    "import numpy \n",
    "import scipy.stats\n",
    "import matplotlib.pyplot as plt\n",
    "\n",
    "df = tbl.toPandas()\n",
    "\n",
    "g1 = numpy.array(df[\"ReviewRating\"])\n",
    "g2 = numpy.array(df[\"TotalRating\"])\n",
    "data  = (g1, g2 )\n",
    "\n",
    "iters = 0\n",
    "class HypothesisTesting(object): \n",
    "    \n",
    "    def __init__(self, data): \n",
    "        self.data = data \n",
    "        self.MakeModel() \n",
    "        self.actual = self.TestStatistic(numpy.array(data))\n",
    "        \n",
    "        self.test_stat = None \n",
    "    \n",
    "    def PValue(self, iters): \n",
    "        global count \n",
    "        if iters > 0:\n",
    "            self.test_stat = numpy.array(\n",
    "                [self.TestStatistic(self.RunModel()\n",
    "                                   ) for _ in range(iters)\n",
    "                ]\n",
    "            )\n",
    "                       \n",
    "        return sum(self.test_stat >= self.actual) / len(self.test_stat)\n",
    "    \n",
    "    def MaxTestStat(self):\n",
    "        for _ in range(1, iters):\n",
    "            pass \n",
    "        return max([self.test_stat])            \n",
    "            \n",
    "    def TestStatistic(self, data): \n",
    "        pass\n",
    "        \n",
    "    def MakeModel(self): \n",
    "        pass \n",
    "    \n",
    "    def RunModel(self): \n",
    "        pass \n",
    "\n",
    "\n",
    "class DiffMeansPermute(HypothesisTesting): \n",
    "    \n",
    "    def TestStatistic(self, data): \n",
    "        group1, group2 = data \n",
    "        test_stat = abs(group1.mean() - group2.mean())\n",
    "        \n",
    "        return test_stat\n",
    "    \n",
    "    def MakeModel(self): \n",
    "        group1, group2 = self.data \n",
    "        self.n, self.m = len(group1), len(group2)\n",
    "        self.pool = numpy.hstack((group1, group2))\n",
    "        \n",
    "    def RunModel(self): \n",
    "        numpy.random.shuffle(self.pool)\n",
    "        data = self.pool[:self.n], self.pool[self.n:]\n",
    "        return data     \n",
    "    \n",
    "    \n",
    "    \n",
    "    \n",
    "ht = DiffMeansPermute(data)\n",
    "p_value = ht.PValue(iters = 1000)\n",
    "\n",
    "print('\\nAre Business and Reviews Average Ratings The Same or Skewed?')\n",
    "print('p_value =', p_value)\n",
    "print('actual =', ht.actual)\n",
    "print('ts max =', max(ht.MaxTestStat()))\n",
    "\n",
    "from numpy import *\n",
    "import scipy.stats as ss\n",
    "import seaborn as sns\n",
    "import matplotlib.pyplot as p\n",
    "stat = ht.test_stat\n",
    "ys, xs, patches = plt.hist(stat, color='#ffff99')\n",
    "x = [xs,xs]\n",
    "X = abs(log10(x))"
   ]
  },
  {
   "cell_type": "code",
   "execution_count": 17,
   "metadata": {
    "scrolled": false
   },
   "outputs": [
    {
     "data": {
      "application/vnd.jupyter.widget-view+json": {
       "model_id": "44ce97a28a1d46168f98a293d066c98f",
       "version_major": 2,
       "version_minor": 0
      },
      "text/plain": [
       "VBox()"
      ]
     },
     "metadata": {},
     "output_type": "display_data"
    },
    {
     "data": {
      "application/vnd.jupyter.widget-view+json": {
       "model_id": "",
       "version_major": 2,
       "version_minor": 0
      },
      "text/plain": [
       "FloatProgress(value=0.0, bar_style='info', description='Progress:', layout=Layout(height='25px', width='50%'),…"
      ]
     },
     "metadata": {},
     "output_type": "display_data"
    },
    {
     "data": {
      "image/png": "[encoded data removed]",
      "text/plain": [
       "<IPython.core.display.Image object>"
      ]
     },
     "metadata": {},
     "output_type": "display_data"
    }
   ],
   "source": [
    "sns.distplot(X)\n",
    "plt.title(\"Review Rating vs. Business Rating Mean Difference\", fontsize= 13)\n",
    "plt.suptitle(\"Null Hypothesis:: Review Rating = Business Rating\", fontsize =8)\n",
    "%matplot plt"
   ]
  },
  {
   "cell_type": "markdown",
   "metadata": {},
   "source": [
    "![](https://raw.githubusercontent.com/BenitaDiop/students/master/bin/Cables.png)"
   ]
  },
  {
   "cell_type": "markdown",
   "metadata": {},
   "source": [
    "# Should the Elite be Trusted? \n",
    "For the final portion - you have a choice:\n",
    "\n",
    "Try and analyze some interesting dimension to this data. The ONLY requirement is that you must use the Users dataset and join on either the business* or reviews** dataset\n",
    "Or, you may try and answer the question posed: how accurate or close are the ratings of an \"elite\" user (check Users table schema) vs the actual business rating.\n",
    "Feel free to use any and all methodologies at your disposal - only requirement is you must render one visualization in your analysis"
   ]
  },
  {
   "cell_type": "code",
   "execution_count": 39,
   "metadata": {},
   "outputs": [
    {
     "data": {
      "application/vnd.jupyter.widget-view+json": {
       "model_id": "be7b5a3a0e964be0ae1e5ef2678c5033",
       "version_major": 2,
       "version_minor": 0
      },
      "text/plain": [
       "VBox()"
      ]
     },
     "metadata": {},
     "output_type": "display_data"
    },
    {
     "data": {
      "application/vnd.jupyter.widget-view+json": {
       "model_id": "",
       "version_major": 2,
       "version_minor": 0
      },
      "text/plain": [
       "FloatProgress(value=0.0, bar_style='info', description='Progress:', layout=Layout(height='25px', width='50%'),…"
      ]
     },
     "metadata": {},
     "output_type": "display_data"
    }
   ],
   "source": [
    "usr = spark.read.json(\"s3://my-little-pony/yelp/yelp_academic_dataset_user.json\")"
   ]
  },
  {
   "cell_type": "code",
   "execution_count": 40,
   "metadata": {},
   "outputs": [
    {
     "data": {
      "application/vnd.jupyter.widget-view+json": {
       "model_id": "d99b904dd3164aad965e3d3af0e0fe17",
       "version_major": 2,
       "version_minor": 0
      },
      "text/plain": [
       "VBox()"
      ]
     },
     "metadata": {},
     "output_type": "display_data"
    },
    {
     "data": {
      "application/vnd.jupyter.widget-view+json": {
       "model_id": "",
       "version_major": 2,
       "version_minor": 0
      },
      "text/plain": [
       "FloatProgress(value=0.0, bar_style='info', description='Progress:', layout=Layout(height='25px', width='50%'),…"
      ]
     },
     "metadata": {},
     "output_type": "display_data"
    }
   ],
   "source": [
    "view = spark.read.load('s3://my-little-pony/yelp/reviews.json', format='json')"
   ]
  },
  {
   "cell_type": "code",
   "execution_count": 41,
   "metadata": {},
   "outputs": [
    {
     "data": {
      "application/vnd.jupyter.widget-view+json": {
       "model_id": "e7ef60963908433199432c01323a5995",
       "version_major": 2,
       "version_minor": 0
      },
      "text/plain": [
       "VBox()"
      ]
     },
     "metadata": {},
     "output_type": "display_data"
    },
    {
     "data": {
      "application/vnd.jupyter.widget-view+json": {
       "model_id": "",
       "version_major": 2,
       "version_minor": 0
      },
      "text/plain": [
       "FloatProgress(value=0.0, bar_style='info', description='Progress:', layout=Layout(height='25px', width='50%'),…"
      ]
     },
     "metadata": {},
     "output_type": "display_data"
    },
    {
     "name": "stdout",
     "output_type": "stream",
     "text": [
      "+--------+--------------------+----+\n",
      "|    name|                  ID|year|\n",
      "+--------+--------------------+----+\n",
      "|  Rafael|ntlvfPzc8eglqvk92...|    |\n",
      "|Michelle|FOBRPlBHa3WPHFB5q...|2008|\n",
      "|Michelle|FOBRPlBHa3WPHFB5q...|2009|\n",
      "|Michelle|FOBRPlBHa3WPHFB5q...|2010|\n",
      "|Michelle|FOBRPlBHa3WPHFB5q...|2011|\n",
      "|Michelle|FOBRPlBHa3WPHFB5q...|2012|\n",
      "|Michelle|FOBRPlBHa3WPHFB5q...|2013|\n",
      "|  Martin|zZUnPeh2hEp0WydbA...|2010|\n",
      "|    John|QaELAmRcDc5TfJEyl...|2009|\n",
      "|    Anne|xvu8G900tezTzbbfq...|2009|\n",
      "|    Anne|xvu8G900tezTzbbfq...|2010|\n",
      "|    Anne|xvu8G900tezTzbbfq...|2011|\n",
      "|    Anne|xvu8G900tezTzbbfq...|2012|\n",
      "|    Anne|xvu8G900tezTzbbfq...|2014|\n",
      "|    Anne|xvu8G900tezTzbbfq...|2015|\n",
      "|    Anne|xvu8G900tezTzbbfq...|2016|\n",
      "|    Anne|xvu8G900tezTzbbfq...|2017|\n",
      "|    Anne|xvu8G900tezTzbbfq...|2018|\n",
      "|   Steve|z5_82komKV3mI4ASG...|2007|\n",
      "|  Stuart|ttumcu6hWshk_EJVW...|    |\n",
      "+--------+--------------------+----+\n",
      "only showing top 20 rows"
     ]
    }
   ],
   "source": [
    "usr.createOrReplaceTempView(\"usr\")\n",
    "query = \"\"\"\n",
    "SELECT \n",
    "name,\n",
    "user_id as ID,\n",
    "explode(split(elite, ',')),\n",
    "elite\n",
    "FROM usr\"\"\"\n",
    "usr1 = spark.sql(query).withColumnRenamed(\"col\", \"year\").drop(\"elite\")\n",
    "usr1.show()"
   ]
  },
  {
   "cell_type": "code",
   "execution_count": 42,
   "metadata": {},
   "outputs": [
    {
     "data": {
      "application/vnd.jupyter.widget-view+json": {
       "model_id": "8614a4ff77594dd3a7d43e05338693ba",
       "version_major": 2,
       "version_minor": 0
      },
      "text/plain": [
       "VBox()"
      ]
     },
     "metadata": {},
     "output_type": "display_data"
    },
    {
     "data": {
      "application/vnd.jupyter.widget-view+json": {
       "model_id": "",
       "version_major": 2,
       "version_minor": 0
      },
      "text/plain": [
       "FloatProgress(value=0.0, bar_style='info', description='Progress:', layout=Layout(height='25px', width='50%'),…"
      ]
     },
     "metadata": {},
     "output_type": "display_data"
    },
    {
     "name": "stdout",
     "output_type": "stream",
     "text": [
      "+--------------------+----+-------------------+-----+--------------------+-----+--------------------+------+--------------------+\n",
      "|         business_id|cool|               date|funny|           review_id|stars|                text|useful|             user_id|\n",
      "+--------------------+----+-------------------+-----+--------------------+-----+--------------------+------+--------------------+\n",
      "|-MhfebM0QIsKt87iD...|   0|2015-04-15 05:21:16|    0|xQY8N_XvtGbearJ5X...|  2.0|As someone who ha...|     5|OwjRMXRC0KyPrIlcj...|\n",
      "|lbrU8StCq3yDfr-QM...|   0|2013-12-07 03:16:52|    1|UmFMZ8PyXZTY2Qcwz...|  1.0|I am actually hor...|     1|nIJD_7ZXHq-FX8byP...|\n",
      "|HQl28KMwrEKHqhFrr...|   0|2015-12-05 03:18:11|    0|LG2ZaYiOgpr2DK_90...|  5.0|I love Deagan's. ...|     1|V34qejxNsCbcgD8C0...|\n",
      "|5JxlZaqCnk1MnbgRi...|   0|2011-05-27 05:30:52|    0|i6g_oA9Yf9Y31qt0w...|  1.0|Dismal, lukewarm,...|     0|ofKDkJKXSKZXu5xJN...|\n",
      "|IS4cv902ykd8wj1TR...|   0|2017-01-14 21:56:57|    0|6TdNDKywdbjoTkize...|  4.0|Oh happy day, fin...|     0|UgMW8bLE0QMJDCkQ1...|\n",
      "+--------------------+----+-------------------+-----+--------------------+-----+--------------------+------+--------------------+\n",
      "only showing top 5 rows\n",
      "\n",
      "['business_id', 'cool', 'date', 'funny', 'review_id', 'stars', 'text', 'useful', 'user_id']"
     ]
    }
   ],
   "source": [
    "import pyspark.sql.functions as f\n",
    "# \"\"\"\"\"\"\"\"\n",
    "usr.createOrReplaceTempView(\"csv\")\n",
    "query = \"\"\"\n",
    "SELECT *, \n",
    "explode(split(elite, ',')),\n",
    "elite\n",
    "FROM csv\"\"\"\n",
    "csv =spark.sql(query)\n",
    "\n",
    "\n",
    "\n",
    "view.show(5)\n",
    "\n",
    "usr.columns\n",
    "view.columns"
   ]
  },
  {
   "cell_type": "code",
   "execution_count": 43,
   "metadata": {
    "scrolled": false
   },
   "outputs": [
    {
     "data": {
      "application/vnd.jupyter.widget-view+json": {
       "model_id": "4f5ab44591914e10a2100b190c8ca2fc",
       "version_major": 2,
       "version_minor": 0
      },
      "text/plain": [
       "VBox()"
      ]
     },
     "metadata": {},
     "output_type": "display_data"
    },
    {
     "data": {
      "application/vnd.jupyter.widget-view+json": {
       "model_id": "",
       "version_major": 2,
       "version_minor": 0
      },
      "text/plain": [
       "FloatProgress(value=0.0, bar_style='info', description='Progress:', layout=Layout(height='25px', width='50%'),…"
      ]
     },
     "metadata": {},
     "output_type": "display_data"
    },
    {
     "name": "stdout",
     "output_type": "stream",
     "text": [
      "+-------+--------------------+--------+\n",
      "|   name|                  ID|YRSelite|\n",
      "+-------+--------------------+--------+\n",
      "|  Geoff|CNdJaOdUjLIceVxhW...|      13|\n",
      "|   Lisa|lufa4bHQd3XLYQE1z...|      13|\n",
      "|Heather|h7cX02YMLzyobfZ7E...|      13|\n",
      "| Carlos|nnImk681KaRqUVHlS...|      13|\n",
      "|   Atif|cD_hpkvErXCyQHBQz...|      13|\n",
      "+-------+--------------------+--------+\n",
      "only showing top 5 rows\n",
      "\n",
      "+------+--------------------+--------+---------+\n",
      "|  name|                  ID|YRSelite|eliteSTAT|\n",
      "+------+--------------------+--------+---------+\n",
      "| Vicky|LPTq2-fZ9_TsG5o8l...|      13|        1|\n",
      "|Miriam|gjhzKWsqCIrpEd9pe...|      13|        1|\n",
      "|   Ann|08mOpJRCpZe3D8UHs...|      13|        1|\n",
      "|Sherri|GpgBEengSGt1SDH67...|      13|        1|\n",
      "|Cassie|2hMNc8G87MGYw4Pom...|      13|        1|\n",
      "+------+--------------------+--------+---------+\n",
      "only showing top 5 rows"
     ]
    }
   ],
   "source": [
    "usr = usr1.groupBy(\"name\", \"ID\").count().withColumnRenamed('count', 'YRSelite').sort(\"YRSelite\", ascending=False)\n",
    "usr.show(5)\n",
    "\n",
    "usr = usr.withColumn('eliteSTAT', \n",
    "              f.when(usr.YRSelite > 1, 1).otherwise(0))\n",
    "usr.show(5)"
   ]
  },
  {
   "cell_type": "code",
   "execution_count": 44,
   "metadata": {
    "scrolled": true
   },
   "outputs": [
    {
     "data": {
      "application/vnd.jupyter.widget-view+json": {
       "model_id": "d955acb926144bef9565d988b57560b2",
       "version_major": 2,
       "version_minor": 0
      },
      "text/plain": [
       "VBox()"
      ]
     },
     "metadata": {},
     "output_type": "display_data"
    },
    {
     "data": {
      "application/vnd.jupyter.widget-view+json": {
       "model_id": "",
       "version_major": 2,
       "version_minor": 0
      },
      "text/plain": [
       "FloatProgress(value=0.0, bar_style='info', description='Progress:', layout=Layout(height='25px', width='50%'),…"
      ]
     },
     "metadata": {},
     "output_type": "display_data"
    },
    {
     "name": "stdout",
     "output_type": "stream",
     "text": [
      "+---------+---------+------------------+---------+---------+-------+---------+\n",
      "|eliteSTAT|Years_Num|         Years_Avg|Years_Min|Years_Max|  total|Percent %|\n",
      "+---------+---------+------------------+---------+---------+-------+---------+\n",
      "|        1|    57230|3.7365367814083523|        2|       13|1968703|      3%\n",
      "|\n",
      "|        0|  1911473|               1.0|        1|        1|1968703|     97%\n",
      "|\n",
      "+---------+---------+------------------+---------+---------+-------+---------+"
     ]
    }
   ],
   "source": [
    "from pyspark.sql import functions as f\n",
    "from pyspark.sql.functions import rank, sum, col \n",
    "from pyspark.sql import Window \n",
    "\n",
    "window = Window.rowsBetween(Window.unboundedPreceding, Window.unboundedFollowing)\n",
    "\n",
    "t = usr.select([\"YRSelite\", \"eliteSTAT\"])\\\n",
    "            .groupBy('eliteSTAT')\\\n",
    "            .agg(f.count('YRSelite')\\\n",
    "                 .alias('Years_Num'), \n",
    "                 f.mean('YRSelite')\\\n",
    "                 .alias('Years_Avg'),\n",
    "                 f.min('YRSelite')\\\n",
    "                 .alias('Years_Min'),\n",
    "                 f.max('YRSelite')\\\n",
    "                 .alias('Years_Max'))\\\n",
    ".withColumn('total', sum(col('Years_Num')).over(window))\\\n",
    ".withColumn('Percent %', f.format_string(\"%5.0f%%\\n\", col('Years_Num')*100/col('total')))\n",
    "tab = t.drop('Percent %').withColumn('Percent', col('Years_Num')*100/col('total'))\n",
    "t.drop(col('total'))\n",
    "t.show()\n",
    "tab = tab.toPandas()"
   ]
  },
  {
   "cell_type": "code",
   "execution_count": 45,
   "metadata": {},
   "outputs": [
    {
     "data": {
      "application/vnd.jupyter.widget-view+json": {
       "model_id": "2c447e6fd39e4331a992b4874c374baf",
       "version_major": 2,
       "version_minor": 0
      },
      "text/plain": [
       "VBox()"
      ]
     },
     "metadata": {},
     "output_type": "display_data"
    },
    {
     "data": {
      "application/vnd.jupyter.widget-view+json": {
       "model_id": "",
       "version_major": 2,
       "version_minor": 0
      },
      "text/plain": [
       "FloatProgress(value=0.0, bar_style='info', description='Progress:', layout=Layout(height='25px', width='50%'),…"
      ]
     },
     "metadata": {},
     "output_type": "display_data"
    },
    {
     "data": {
      "image/png": "[encoded data removed]",
      "text/plain": [
       "<IPython.core.display.Image object>"
      ]
     },
     "metadata": {},
     "output_type": "display_data"
    }
   ],
   "source": [
    "plot_data = pd.DataFrame(tab)\n",
    "labels = plot_data.eliteSTAT\n",
    "sizes = plot_data.Percent\n",
    "colors = ('lightcoral', 'cyan')\n",
    "explode = (0, 0.1)\n",
    "plt.figure(figsize=(10, 8))\n",
    "\n",
    "plt.pie(sizes, \n",
    "        explode=explode, \n",
    "        labels = ['elite', 'non-elite'], \n",
    "        colors = colors,\n",
    "        autopct='%1.1f%%',\n",
    "        shadow=True)\n",
    "plt.title(\"Elite vs Non-Elite Avg Years On Yelp \")\n",
    "\n",
    "plt.axis('equal')\n",
    "plt.show()\n",
    "%matplot plt"
   ]
  },
  {
   "cell_type": "code",
   "execution_count": 115,
   "metadata": {},
   "outputs": [
    {
     "data": {
      "application/vnd.jupyter.widget-view+json": {
       "model_id": "a440035747544cc586ebb6519bc615ae",
       "version_major": 2,
       "version_minor": 0
      },
      "text/plain": [
       "VBox()"
      ]
     },
     "metadata": {},
     "output_type": "display_data"
    },
    {
     "data": {
      "application/vnd.jupyter.widget-view+json": {
       "model_id": "",
       "version_major": 2,
       "version_minor": 0
      },
      "text/plain": [
       "FloatProgress(value=0.0, bar_style='info', description='Progress:', layout=Layout(height='25px', width='50%'),…"
      ]
     },
     "metadata": {},
     "output_type": "display_data"
    },
    {
     "name": "stderr",
     "output_type": "stream",
     "text": [
      "An error was encountered:\n",
      "invalid syntax (<stdin>, line 5)\n",
      "  File \"<stdin>\", line 5\n",
      "    \"average_stars\" as \"UserRating\",\n",
      "                     ^\n",
      "SyntaxError: invalid syntax\n",
      "\n"
     ]
    }
   ],
   "source": [
    "sub = csv.select(\"user_id\", \n",
    "                 \"fans\", \n",
    "                 \"cool\", \n",
    "                 \"useful\", \n",
    "                 \"average_stars\" as \"UserRating\",\n",
    "                \"compliment_cool\",\n",
    "                \"compliment_funny\", \n",
    "                \"compliment_hot\",\n",
    "                \"compliment_more\",\n",
    "                \"compliment_note\",\n",
    "                \"compliment_plain\", \n",
    "                \"compliment_photos\",\n",
    "                \"compliment_profile\")\n",
    "usr.createOrReplaceTempView(\"us\")\n",
    "us = usr.join(sub, usr.ID == sub.user_id, \"full\")\n",
    "us = us.withColumnRenamed('compliment_cool', 'cc')\\\n",
    "       .withColumnRenamed('compliment_funny', 'cf')\\\n",
    "       .withColumnRenamed('compliment_profile', 'cpr')\\\n",
    "       .withColumnRenamed('compliment_note', 'cn')\\\n",
    "       .withColumnRenamed('compliment_more', 'cm')\\\n",
    "       .withColumnRenamed('compliment_photos', 'cph')\\\n",
    "       .withColumnRenamed('compliment_plain', 'cpl')\\\n",
    "       .withColumnRenamed('compliment_hot', 'ch').drop(\"user_id\")\n",
    "\n",
    "us.columns"
   ]
  },
  {
   "cell_type": "code",
   "execution_count": 109,
   "metadata": {
    "scrolled": false
   },
   "outputs": [
    {
     "data": {
      "application/vnd.jupyter.widget-view+json": {
       "model_id": "b3f492bfd2f048d2afe4a2bc78acf349",
       "version_major": 2,
       "version_minor": 0
      },
      "text/plain": [
       "VBox()"
      ]
     },
     "metadata": {},
     "output_type": "display_data"
    },
    {
     "data": {
      "application/vnd.jupyter.widget-view+json": {
       "model_id": "",
       "version_major": 2,
       "version_minor": 0
      },
      "text/plain": [
       "FloatProgress(value=0.0, bar_style='info', description='Progress:', layout=Layout(height='25px', width='50%'),…"
      ]
     },
     "metadata": {},
     "output_type": "display_data"
    },
    {
     "name": "stdout",
     "output_type": "stream",
     "text": [
      "+--------------------+------------+--------------------+--------------------+--------------------+-------------------+\n",
      "|             user_id|ReviewRating|         business_id|           review_id|                text|               date|\n",
      "+--------------------+------------+--------------------+--------------------+--------------------+-------------------+\n",
      "|OwjRMXRC0KyPrIlcj...|         2.0|-MhfebM0QIsKt87iD...|xQY8N_XvtGbearJ5X...|As someone who ha...|2015-04-15 05:21:16|\n",
      "|nIJD_7ZXHq-FX8byP...|         1.0|lbrU8StCq3yDfr-QM...|UmFMZ8PyXZTY2Qcwz...|I am actually hor...|2013-12-07 03:16:52|\n",
      "|V34qejxNsCbcgD8C0...|         5.0|HQl28KMwrEKHqhFrr...|LG2ZaYiOgpr2DK_90...|I love Deagan's. ...|2015-12-05 03:18:11|\n",
      "|ofKDkJKXSKZXu5xJN...|         1.0|5JxlZaqCnk1MnbgRi...|i6g_oA9Yf9Y31qt0w...|Dismal, lukewarm,...|2011-05-27 05:30:52|\n",
      "|UgMW8bLE0QMJDCkQ1...|         4.0|IS4cv902ykd8wj1TR...|6TdNDKywdbjoTkize...|Oh happy day, fin...|2017-01-14 21:56:57|\n",
      "|5vD2kmE25YBrbayKh...|         5.0|nlxHRv1zXGT0c0K51...|L2O_INwlrRuoX05KS...|This is definitel...|2013-05-07 07:25:25|\n",
      "|aq_ZxGHiri48TUXJl...|         5.0|Pthe4qk5xh4n-ef-9...|ZayJ1zWyWgY9S_TRL...|Really good place...|2015-11-05 23:11:05|\n",
      "|dsd-KNYKMpx6ma_sR...|         5.0|FNCJpSn0tL9iqoY3J...|lpFIJYpsvDxyph-kP...|Awesome office an...|2017-07-18 18:31:54|\n",
      "|P6apihD4ASf1vpPxH...|         5.0|e_BiI4ej1CW1F0EyV...|JA-xnyHytKiOIHl_z...|Most delicious au...|2015-02-16 06:48:47|\n",
      "|jOERvhmK6_lo_XGUB...|         4.0|Ws8V970-mQt2X9CwC...|z4BCgTkfNtCu4XY5L...|I have been here ...|2009-10-13 04:16:41|\n",
      "|s5j_CRBWDCCMDJ6r7...|         5.0|PA61Rwk3AMwOEXHev...|TfVth7UNfgilv4J3e...|Maria is VERY goo...|2013-12-28 21:02:55|\n",
      "|HJECayULRM-6xh2GC...|         4.0|l-nL4BmhzpZjcavoo...|Tyx7AxYQfSRnBFUIX...|ORDER In (Deliver...|2015-10-17 01:38:13|\n",
      "|1YIQGP-a534nyksaw...|         5.0|Naa6E0YU0Wr7jCuCE...|wJMjt5C2y1RKgY0Xb...|We purchased new ...|2015-07-03 21:48:51|\n",
      "|qftVgPj_kRTildMDj...|         5.0|Ns4tjgLfqR1qawGlN...|QCxPzh7cuxJrLd6A_...|Everything that m...|2016-06-11 22:00:11|\n",
      "|5lb0POg2t-AkMFx66...|         5.0|ZlCSsWS07JulSBIQl...|qWHp2l2lysENZObh6...|Called for a 5:15...|2015-05-26 10:36:47|\n",
      "|TF4C-F5iqavACQgKT...|         1.0|7Ka9Pd8X9SRHs1D5E...|mjbs5CL4eMu4o6_Vt...|If I could give l...|2017-08-07 21:36:36|\n",
      "|2hRe26HSCAWbFRn5W...|         1.0|d4qwVw4PcN-_2mK2o...|bVTjZgRNq8Toxzvti...|10pm on a super b...|2015-02-02 06:28:00|\n",
      "|6sJN_HlM_uwpfLJ1p...|         4.0|oVuZtlCFg_zF090Nh...|Ne_2CSfcKIqXHmv_K...|A close friend wa...|2018-02-01 19:15:00|\n",
      "|kMkWON2lmw0s-M-fw...|         1.0|_iGvLfEsqDwPUxRUA...|Hy-gUXQh3RVhE8FLH...|Tried to have my ...|2017-06-28 00:39:18|\n",
      "|QodunSzok4nIYFNrT...|         3.0|poSV39UqEg-gpESXa...|UGErdm6bt48SXTVwJ...|My husband and I ...|2018-03-04 01:03:53|\n",
      "+--------------------+------------+--------------------+--------------------+--------------------+-------------------+\n",
      "only showing top 20 rows"
     ]
    }
   ],
   "source": [
    "view.createOrReplaceTempView(\"tmp2\")\n",
    "query = \"\"\"\n",
    "SELECT\n",
    "user_id,\n",
    "stars as ReviewRating,\n",
    "business_id,\n",
    "review_id,\n",
    "text, \n",
    "date \n",
    "FROM tmp2\n",
    "\"\"\"\n",
    "tmp2 = spark.sql(query)\n",
    "tmp2.show()"
   ]
  },
  {
   "cell_type": "code",
   "execution_count": 110,
   "metadata": {},
   "outputs": [
    {
     "data": {
      "application/vnd.jupyter.widget-view+json": {
       "model_id": "8b3479a79b67493db1c59f29398705df",
       "version_major": 2,
       "version_minor": 0
      },
      "text/plain": [
       "VBox()"
      ]
     },
     "metadata": {},
     "output_type": "display_data"
    },
    {
     "data": {
      "application/vnd.jupyter.widget-view+json": {
       "model_id": "",
       "version_major": 2,
       "version_minor": 0
      },
      "text/plain": [
       "FloatProgress(value=0.0, bar_style='info', description='Progress:', layout=Layout(height='25px', width='50%'),…"
      ]
     },
     "metadata": {},
     "output_type": "display_data"
    },
    {
     "name": "stdout",
     "output_type": "stream",
     "text": [
      "+--------------------+------------+--------------------+--------------------+--------------------+-------------------+---------+--------------------+--------+---------+----+----+------+-------------+---+---+---+---+---+---+---+---+\n",
      "|             user_id|ReviewRating|         business_id|           review_id|                text|               date|     name|                  ID|YRSelite|eliteSTAT|fans|cool|useful|average_stars| cc| cf| ch| cm| cn|cpl|cph|cpr|\n",
      "+--------------------+------------+--------------------+--------------------+--------------------+-------------------+---------+--------------------+--------+---------+----+----+------+-------------+---+---+---+---+---+---+---+---+\n",
      "|---RfKzBwQ8t3wu-L...|         5.0|Z3ZSar8IVAR2qIupq...|rv2EaVEP_cs0Yzc-z...|This pizza rules....|2018-01-13 04:09:32|    Jason|---RfKzBwQ8t3wu-L...|       1|        0|   0|   0|     0|          5.0|  0|  0|  0|  0|  0|  0|  0|  0|\n",
      "|--I4wRDhmM2J2VLzK...|         2.0|JmI9nslLD7KZqRr__...|YQN6mfSAX12LFsn6r...|Meh. Nothing spec...|2014-09-14 23:33:43|   Marvin|--I4wRDhmM2J2VLzK...|       1|        0|   0|   5|    24|          3.6|  0|  0|  0|  0|  0|  0|  0|  0|\n",
      "|--dhSVoOFDBiMCCwD...|         5.0|H9pG0BNhqID2MTj8K...|3Q9sB11yRl7zvt4mY...|First time here, ...|2016-01-17 01:14:50|    Lenny|--dhSVoOFDBiMCCwD...|       1|        0|   0|   0|     0|          5.0|  0|  0|  0|  0|  0|  0|  0|  0|\n",
      "|--dhSVoOFDBiMCCwD...|         5.0|LpGzgTGDr12P_xUaC...|syZjcOn-cyEcxd50l...|Had an unplanned ...|2017-04-23 23:38:33|    Lenny|--dhSVoOFDBiMCCwD...|       1|        0|   0|   0|     0|          5.0|  0|  0|  0|  0|  0|  0|  0|  0|\n",
      "|--t6W1JHbStaCp5RO...|         5.0|L-Yj3Y1bYKTSg4uE9...|A8N0h51TUvkyr_Ghs...|Me n my boys been...|2018-05-29 12:07:47|    Sonni|--t6W1JHbStaCp5RO...|       1|        0|   0|   0|     0|          5.0|  0|  0|  0|  0|  0|  0|  0|  0|\n",
      "|--yrdC1dIR6VYsW6k...|         1.0|1F7SjxEmqhFmDfQgp...|jhNNQ9N5C2sDuypvN...|The worst nail sa...|2018-02-11 19:08:34|    Kelly|--yrdC1dIR6VYsW6k...|       1|        0|   0|   0|     2|          1.0|  0|  0|  0|  0|  0|  0|  0|  0|\n",
      "|-0GWq37qu4Y7fHFYB...|         1.0|eqTC06H078dfgUeB0...|g22toiSEf0VVoK-6x...|Very difficult to...|2013-07-09 21:53:38|     Mark|-0GWq37qu4Y7fHFYB...|       1|        0|   0|   0|     1|         4.33|  0|  0|  0|  0|  0|  0|  0|  0|\n",
      "|-0GWq37qu4Y7fHFYB...|         5.0|wjrRAoqV0SrOjgiQl...|RVXmV-9A6JcZO7xnr...|Jessica was thoro...|2017-12-19 04:29:22|     Mark|-0GWq37qu4Y7fHFYB...|       1|        0|   0|   0|     1|         4.33|  0|  0|  0|  0|  0|  0|  0|  0|\n",
      "|-0PJyCuCFCuUk7_TS...|         1.0|QyiuN41DV7xe8Wc75...|wHZZY-FNdPtIOafT9...|I'm soooooooo dis...|2019-03-31 23:31:07|     Greg|-0PJyCuCFCuUk7_TS...|       1|        0|   2|   0|     4|          3.0|  0|  0|  0|  0|  0|  0|  0|  0|\n",
      "|-0fu5TVgRGvysK8Wy...|         1.0|sEjy65M87W8dLka1Y...|HeE5ogXYQmlKBvpJ-...|First time being ...|2015-04-05 09:39:51|   Marvin|-0fu5TVgRGvysK8Wy...|       1|        0|   0|   0|     0|          1.0|  0|  0|  0|  0|  0|  0|  0|  0|\n",
      "|-1A6IYfwlgaaZ2NWF...|         1.0|uBcwnALb3HFKZ-Vvj...|YP0RubSM8rkev04hq...|Cheap, yes. Take-...|2017-05-17 19:43:09|    Rilla|-1A6IYfwlgaaZ2NWF...|       1|        0|   0|   0|     1|          1.0|  0|  0|  0|  0|  0|  0|  0|  0|\n",
      "|-1EmUvmBM7kqlzRB2...|         1.0|vjKW-08TOOFR7KOMv...|_5dTXUqr35NYJyHN_...|Awful Experience....|2017-05-13 14:49:22|   Nicole|-1EmUvmBM7kqlzRB2...|       1|        0|   0|   0|     1|          1.0|  0|  0|  0|  0|  0|  0|  0|  0|\n",
      "|-1EmUvmBM7kqlzRB2...|         1.0|YpsMG1_Vf-rEVjl42...|iy1mD9Zl4BR8rt0_w...|If I could give t...|2017-05-17 17:04:43|   Nicole|-1EmUvmBM7kqlzRB2...|       1|        0|   0|   0|     1|          1.0|  0|  0|  0|  0|  0|  0|  0|  0|\n",
      "|-1sG97FFbwCOH9CmA...|         4.0|vOU39EEotZ-AY7m6t...|VRH_ZxrGQsXNXp0m1...|I noticed some pe...|2013-02-08 00:11:38|      Tom|-1sG97FFbwCOH9CmA...|       1|        0|   1|   8|    29|         3.57|  1|  1|  1|  0|  0|  0|  0|  0|\n",
      "|-23awFKqZxalZQrFP...|         3.0|lYsq47uDzdjYUGtyU...|lIkhh1w6jviVRKkXz...|Amazing food but ...|2014-02-23 07:06:56|  Tiffany|-23awFKqZxalZQrFP...|       1|        0|   0|   0|     5|          3.5|  0|  0|  0|  0|  0|  0|  0|  0|\n",
      "|-23awFKqZxalZQrFP...|         3.0|7vHvQCjPq5pWj7Rio...|q8UWxYevAG3mjAJU1...|Awesome deal for ...|2014-02-23 07:03:23|  Tiffany|-23awFKqZxalZQrFP...|       1|        0|   0|   0|     5|          3.5|  0|  0|  0|  0|  0|  0|  0|  0|\n",
      "|-26c8eroM4juoNcOX...|         5.0|yEQeUQZ4rtREOW8O4...|BkO0f0fzP90yu1bGV...|The place was ver...|2017-09-14 02:06:22|   Amanda|-26c8eroM4juoNcOX...|       1|        0|   1|   0|     5|          5.0|  0|  0|  0|  0|  0|  0|  0|  0|\n",
      "|-26c8eroM4juoNcOX...|         5.0|uX4LZEnPoMK7JWfwU...|1RoiS5gohNu4D1eD-...|The dispensary wa...|2017-09-14 02:07:48|   Amanda|-26c8eroM4juoNcOX...|       1|        0|   1|   0|     5|          5.0|  0|  0|  0|  0|  0|  0|  0|  0|\n",
      "|-2IrQfAK3H4v4ak7a...|         5.0|thLX_k20SPJ0KyusG...|taWzzGQHz9AzpWwhM...|Fantastic food, g...|2017-10-13 02:55:51|Christine|-2IrQfAK3H4v4ak7a...|       1|        0|   0|   0|     0|          3.0|  0|  0|  0|  0|  0|  0|  0|  0|\n",
      "|-2LMSDH0mOSgRnYcq...|         2.0|-CHzSNANra-TCIWYF...|r339QryLX6bSf6vmW...|It's nice & new, ...|2014-10-14 23:49:24|   Trisha|-2LMSDH0mOSgRnYcq...|       1|        0|   0|   4|    17|         3.44|  0|  0|  0|  0|  0|  1|  0|  0|\n",
      "+--------------------+------------+--------------------+--------------------+--------------------+-------------------+---------+--------------------+--------+---------+----+----+------+-------------+---+---+---+---+---+---+---+---+\n",
      "only showing top 20 rows"
     ]
    }
   ],
   "source": [
    "expo = tmp2.join(us, us.ID == tmp2.user_id, \"full\")\n",
    "expo.show(20)"
   ]
  },
  {
   "cell_type": "code",
   "execution_count": 111,
   "metadata": {
    "scrolled": true
   },
   "outputs": [
    {
     "data": {
      "application/vnd.jupyter.widget-view+json": {
       "model_id": "ad5ff98f8a9b4fddbcb57f9900d34426",
       "version_major": 2,
       "version_minor": 0
      },
      "text/plain": [
       "VBox()"
      ]
     },
     "metadata": {},
     "output_type": "display_data"
    },
    {
     "data": {
      "application/vnd.jupyter.widget-view+json": {
       "model_id": "",
       "version_major": 2,
       "version_minor": 0
      },
      "text/plain": [
       "FloatProgress(value=0.0, bar_style='info', description='Progress:', layout=Layout(height='25px', width='50%'),…"
      ]
     },
     "metadata": {},
     "output_type": "display_data"
    }
   ],
   "source": [
    "expo.createOrReplaceTempView(\"df\")\n",
    "query = \"\"\"\n",
    "(SELECT * FROM df)\"\"\"\n",
    "\n",
    "df = spark.sql(query)\n",
    "df = df.distinct()\n",
    "df = df.dropDuplicates()"
   ]
  },
  {
   "cell_type": "code",
   "execution_count": 112,
   "metadata": {},
   "outputs": [
    {
     "data": {
      "application/vnd.jupyter.widget-view+json": {
       "model_id": "882041fbab9b44ed9f5ed949cc48e2af",
       "version_major": 2,
       "version_minor": 0
      },
      "text/plain": [
       "VBox()"
      ]
     },
     "metadata": {},
     "output_type": "display_data"
    },
    {
     "data": {
      "application/vnd.jupyter.widget-view+json": {
       "model_id": "",
       "version_major": 2,
       "version_minor": 0
      },
      "text/plain": [
       "FloatProgress(value=0.0, bar_style='info', description='Progress:', layout=Layout(height='25px', width='50%'),…"
      ]
     },
     "metadata": {},
     "output_type": "display_data"
    }
   ],
   "source": [
    "import os\n",
    "import sys"
   ]
  },
  {
   "cell_type": "code",
   "execution_count": 113,
   "metadata": {
    "scrolled": true
   },
   "outputs": [
    {
     "data": {
      "application/vnd.jupyter.widget-view+json": {
       "model_id": "ba94d73b5af74b6a94c88c1c0a79c9a3",
       "version_major": 2,
       "version_minor": 0
      },
      "text/plain": [
       "VBox()"
      ]
     },
     "metadata": {},
     "output_type": "display_data"
    },
    {
     "data": {
      "application/vnd.jupyter.widget-view+json": {
       "model_id": "",
       "version_major": 2,
       "version_minor": 0
      },
      "text/plain": [
       "FloatProgress(value=0.0, bar_style='info', description='Progress:', layout=Layout(height='25px', width='50%'),…"
      ]
     },
     "metadata": {},
     "output_type": "display_data"
    }
   ],
   "source": [
    "df.write.csv('data')"
   ]
  },
  {
   "cell_type": "code",
   "execution_count": 114,
   "metadata": {},
   "outputs": [
    {
     "data": {
      "application/vnd.jupyter.widget-view+json": {
       "model_id": "5775fd27c2104116afbe7d16af79d0ac",
       "version_major": 2,
       "version_minor": 0
      },
      "text/plain": [
       "VBox()"
      ]
     },
     "metadata": {},
     "output_type": "display_data"
    },
    {
     "data": {
      "application/vnd.jupyter.widget-view+json": {
       "model_id": "",
       "version_major": 2,
       "version_minor": 0
      },
      "text/plain": [
       "FloatProgress(value=0.0, bar_style='info', description='Progress:', layout=Layout(height='25px', width='50%'),…"
      ]
     },
     "metadata": {},
     "output_type": "display_data"
    }
   ],
   "source": [
    "df.coalesce(1).write.format(\"csv\").option(\"header\",\"true\").save(write_uri)"
   ]
  },
  {
   "cell_type": "code",
   "execution_count": 74,
   "metadata": {},
   "outputs": [
    {
     "data": {
      "application/vnd.jupyter.widget-view+json": {
       "model_id": "69504d2c43124612aafed56abb52191b",
       "version_major": 2,
       "version_minor": 0
      },
      "text/plain": [
       "VBox()"
      ]
     },
     "metadata": {},
     "output_type": "display_data"
    },
    {
     "data": {
      "application/vnd.jupyter.widget-view+json": {
       "model_id": "",
       "version_major": 2,
       "version_minor": 0
      },
      "text/plain": [
       "FloatProgress(value=0.0, bar_style='info', description='Progress:', layout=Layout(height='25px', width='50%'),…"
      ]
     },
     "metadata": {},
     "output_type": "display_data"
    }
   ],
   "source": [
    "#target directory \n",
    "write_uri='/home/jovyan/work/workdir.csv'"
   ]
  },
  {
   "cell_type": "code",
   "execution_count": 35,
   "metadata": {
    "scrolled": true
   },
   "outputs": [
    {
     "data": {
      "application/vnd.jupyter.widget-view+json": {
       "model_id": "5f001899a7924060b64d5dd981d49314",
       "version_major": 2,
       "version_minor": 0
      },
      "text/plain": [
       "VBox()"
      ]
     },
     "metadata": {},
     "output_type": "display_data"
    },
    {
     "data": {
      "application/vnd.jupyter.widget-view+json": {
       "model_id": "",
       "version_major": 2,
       "version_minor": 0
      },
      "text/plain": [
       "FloatProgress(value=0.0, bar_style='info', description='Progress:', layout=Layout(height='25px', width='50%'),…"
      ]
     },
     "metadata": {},
     "output_type": "display_data"
    },
    {
     "name": "stdout",
     "output_type": "stream",
     "text": [
      "+--------------------+-----+--------------------+--------------------+--------------------+-------------------+------+--------------------+--------+---------+----+----+------+-------------+---+---+---+---+---+---+---+---+---+\n",
      "|             user_id|stars|         business_id|           review_id|                text|               date|  name|                  ID|YRSelite|eliteSTAT|fans|cool|useful|average_stars| cc| cf| ch| cc| cm| cn|cpl|cph|cpr|\n",
      "+--------------------+-----+--------------------+--------------------+--------------------+-------------------+------+--------------------+--------+---------+----+----+------+-------------+---+---+---+---+---+---+---+---+---+\n",
      "|---RfKzBwQ8t3wu-L...|  5.0|Z3ZSar8IVAR2qIupq...|rv2EaVEP_cs0Yzc-z...|This pizza rules....|2018-01-13 04:09:32| Jason|---RfKzBwQ8t3wu-L...|       1|        0|   0|   0|     0|          5.0|  0|  0|  0|  0|  0|  0|  0|  0|  0|\n",
      "|--I4wRDhmM2J2VLzK...|  2.0|JmI9nslLD7KZqRr__...|YQN6mfSAX12LFsn6r...|Meh. Nothing spec...|2014-09-14 23:33:43|Marvin|--I4wRDhmM2J2VLzK...|       1|        0|   0|   5|    24|          3.6|  0|  0|  0|  0|  0|  0|  0|  0|  0|\n",
      "|--dhSVoOFDBiMCCwD...|  5.0|LpGzgTGDr12P_xUaC...|syZjcOn-cyEcxd50l...|Had an unplanned ...|2017-04-23 23:38:33| Lenny|--dhSVoOFDBiMCCwD...|       1|        0|   0|   0|     0|          5.0|  0|  0|  0|  0|  0|  0|  0|  0|  0|\n",
      "|--dhSVoOFDBiMCCwD...|  5.0|H9pG0BNhqID2MTj8K...|3Q9sB11yRl7zvt4mY...|First time here, ...|2016-01-17 01:14:50| Lenny|--dhSVoOFDBiMCCwD...|       1|        0|   0|   0|     0|          5.0|  0|  0|  0|  0|  0|  0|  0|  0|  0|\n",
      "|--t6W1JHbStaCp5RO...|  5.0|L-Yj3Y1bYKTSg4uE9...|A8N0h51TUvkyr_Ghs...|Me n my boys been...|2018-05-29 12:07:47| Sonni|--t6W1JHbStaCp5RO...|       1|        0|   0|   0|     0|          5.0|  0|  0|  0|  0|  0|  0|  0|  0|  0|\n",
      "+--------------------+-----+--------------------+--------------------+--------------------+-------------------+------+--------------------+--------+---------+----+----+------+-------------+---+---+---+---+---+---+---+---+---+\n",
      "only showing top 5 rows"
     ]
    }
   ],
   "source": [
    "expo.show(5)"
   ]
  },
  {
   "cell_type": "code",
   "execution_count": 28,
   "metadata": {},
   "outputs": [
    {
     "data": {
      "application/vnd.jupyter.widget-view+json": {
       "model_id": "539545120763410580c3d9b89e91b7d4",
       "version_major": 2,
       "version_minor": 0
      },
      "text/plain": [
       "VBox()"
      ]
     },
     "metadata": {},
     "output_type": "display_data"
    },
    {
     "data": {
      "application/vnd.jupyter.widget-view+json": {
       "model_id": "",
       "version_major": 2,
       "version_minor": 0
      },
      "text/plain": [
       "FloatProgress(value=0.0, bar_style='info', description='Progress:', layout=Layout(height='25px', width='50%'),…"
      ]
     },
     "metadata": {},
     "output_type": "display_data"
    },
    {
     "name": "stdout",
     "output_type": "stream",
     "text": [
      "['user_id', 'stars', 'business_id', 'review_id', 'text', 'date', 'name', 'ID', 'YRSelite', 'eliteSTAT', 'fans', 'cool', 'useful', 'average_stars', 'cc', 'cf', 'ch', 'cc', 'cm', 'cn', 'cpl', 'cph', 'cpr']"
     ]
    }
   ],
   "source": [
    "colss = expo.columns \n",
    "colss"
   ]
  },
  {
   "cell_type": "markdown",
   "metadata": {
    "scrolled": true
   },
   "source": [
    "![](https://raw.githubusercontent.com/BenitaDiop/students/master/bin/Cables.png)"
   ]
  },
  {
   "cell_type": "code",
   "execution_count": 30,
   "metadata": {
    "scrolled": true
   },
   "outputs": [
    {
     "data": {
      "application/vnd.jupyter.widget-view+json": {
       "model_id": "9711694a8212426595f5f6cf55a1e479",
       "version_major": 2,
       "version_minor": 0
      },
      "text/plain": [
       "VBox()"
      ]
     },
     "metadata": {},
     "output_type": "display_data"
    },
    {
     "data": {
      "application/vnd.jupyter.widget-view+json": {
       "model_id": "",
       "version_major": 2,
       "version_minor": 0
      },
      "text/plain": [
       "FloatProgress(value=0.0, bar_style='info', description='Progress:', layout=Layout(height='25px', width='50%'),…"
      ]
     },
     "metadata": {},
     "output_type": "display_data"
    }
   ],
   "source": [
    "from pyspark.ml.feature import Tokenizer\n",
    "\n",
    "tokenization=Tokenizer(inputCol='text',outputCol='tokens')\n",
    "\n",
    "tokenized_df=tokenization.transform(expo)\n",
    "\n",
    "tokenized_df.select(\"text\", \"tokens\").show(5, False)"
   ]
  },
  {
   "cell_type": "code",
   "execution_count": 42,
   "metadata": {},
   "outputs": [
    {
     "data": {
      "application/vnd.jupyter.widget-view+json": {
       "model_id": "993e36e82405408692bc1e8125f45d39",
       "version_major": 2,
       "version_minor": 0
      },
      "text/plain": [
       "VBox()"
      ]
     },
     "metadata": {},
     "output_type": "display_data"
    },
    {
     "data": {
      "application/vnd.jupyter.widget-view+json": {
       "model_id": "",
       "version_major": 2,
       "version_minor": 0
      },
      "text/plain": [
       "FloatProgress(value=0.0, bar_style='info', description='Progress:', layout=Layout(height='25px', width='50%'),…"
      ]
     },
     "metadata": {},
     "output_type": "display_data"
    }
   ],
   "source": [
    "from pyspark.ml.feature import StopWordsRemover\n",
    "\n",
    "stopword_removal=StopWordsRemover(inputCol='tokens',outputCol='refined_tokens')\n",
    "\n",
    "refined_df=stopword_removal.transform(tokenized_df)\n",
    "\n",
    "refined_df.select(['user_id','tokens','refined_tokens']).show(2,False)"
   ]
  },
  {
   "cell_type": "code",
   "execution_count": 47,
   "metadata": {},
   "outputs": [
    {
     "data": {
      "application/vnd.jupyter.widget-view+json": {
       "model_id": "6cd9bdd2749d48e6a955822e867ee9f7",
       "version_major": 2,
       "version_minor": 0
      },
      "text/plain": [
       "VBox()"
      ]
     },
     "metadata": {},
     "output_type": "display_data"
    },
    {
     "data": {
      "application/vnd.jupyter.widget-view+json": {
       "model_id": "",
       "version_major": 2,
       "version_minor": 0
      },
      "text/plain": [
       "FloatProgress(value=0.0, bar_style='info', description='Progress:', layout=Layout(height='25px', width='50%'),…"
      ]
     },
     "metadata": {},
     "output_type": "display_data"
    }
   ],
   "source": [
    "from pyspark.ml.feature import CountVectorizer\n",
    "\n",
    "count_vec=CountVectorizer(inputCol='refined_tokens',outputCol='features')\n",
    "\n",
    "cv_df=count_vec.fit(refined_df).transform(refined_df)\n",
    "\n",
    "cv_df.select(['user_id','refined_tokens','features']).show(4,False)\n",
    "\n",
    "count_vec.fit(refined_df).vocabulary"
   ]
  },
  {
   "cell_type": "code",
   "execution_count": 32,
   "metadata": {
    "scrolled": true
   },
   "outputs": [
    {
     "data": {
      "application/vnd.jupyter.widget-view+json": {
       "model_id": "466304cf25d34a19879d95e61e7bb4ef",
       "version_major": 2,
       "version_minor": 0
      },
      "text/plain": [
       "VBox()"
      ]
     },
     "metadata": {},
     "output_type": "display_data"
    },
    {
     "data": {
      "application/vnd.jupyter.widget-view+json": {
       "model_id": "",
       "version_major": 2,
       "version_minor": 0
      },
      "text/plain": [
       "FloatProgress(value=0.0, bar_style='info', description='Progress:', layout=Layout(height='25px', width='50%'),…"
      ]
     },
     "metadata": {},
     "output_type": "display_data"
    }
   ],
   "source": [
    "from pyspark.ml.feature import HashingTF,IDF\n",
    "\n",
    "hashing_vec=HashingTF(inputCol='refined_tokens',outputCol='tf_features')\n",
    "\n",
    "\n",
    "\n"
   ]
  },
  {
   "cell_type": "code",
   "execution_count": null,
   "metadata": {},
   "outputs": [],
   "source": []
  },
  {
   "cell_type": "code",
   "execution_count": null,
   "metadata": {},
   "outputs": [],
   "source": []
  },
  {
   "cell_type": "code",
   "execution_count": null,
   "metadata": {},
   "outputs": [],
   "source": []
  },
  {
   "cell_type": "code",
   "execution_count": null,
   "metadata": {},
   "outputs": [],
   "source": []
  }
 ],
 "metadata": {
  "kernelspec": {
   "display_name": "PySpark",
   "language": "",
   "name": "pysparkkernel"
  },
  "language_info": {
   "codemirror_mode": {
    "name": "python",
    "version": 3
   },
   "mimetype": "text/x-python",
   "name": "pyspark",
   "pygments_lexer": "python3"
  }
 },
 "nbformat": 4,
 "nbformat_minor": 4
}
