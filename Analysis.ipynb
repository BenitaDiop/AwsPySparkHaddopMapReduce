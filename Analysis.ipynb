{
 "cells": [
  {
   "cell_type": "markdown",
   "metadata": {},
   "source": [
    "# Analysis of Yelp Business Intelligence Data"
   ]
  },
  {
   "cell_type": "markdown",
   "metadata": {},
   "source": [
    "# Installation and Initial Setup"
   ]
  },
  {
   "cell_type": "code",
   "execution_count": 1,
   "metadata": {
    "jupyter": {
     "outputs_hidden": true
    }
   },
   "outputs": [
    {
     "data": {
      "application/vnd.jupyter.widget-view+json": {
       "model_id": "424fc829ac4b4116a33fce20d726855f",
       "version_major": 2,
       "version_minor": 0
      },
      "text/plain": [
       "VBox()"
      ]
     },
     "metadata": {},
     "output_type": "display_data"
    },
    {
     "name": "stdout",
     "output_type": "stream",
     "text": [
      "Starting Spark application\n"
     ]
    },
    {
     "data": {
      "text/html": [
       "<table>\n",
       "<tr><th>ID</th><th>YARN Application ID</th><th>Kind</th><th>State</th><th>Spark UI</th><th>Driver log</th><th>Current session?</th></tr><tr><td>1</td><td>application_1588749333705_0002</td><td>pyspark</td><td>idle</td><td><a target=\"_blank\" href=\"http://ip-172-31-86-114.ec2.internal:20888/proxy/application_1588749333705_0002/\">Link</a></td><td><a target=\"_blank\" href=\"http://ip-172-31-95-180.ec2.internal:8042/node/containerlogs/container_1588749333705_0002_01_000001/livy\">Link</a></td><td>✔</td></tr></table>"
      ],
      "text/plain": [
       "<IPython.core.display.HTML object>"
      ]
     },
     "metadata": {},
     "output_type": "display_data"
    },
    {
     "data": {
      "application/vnd.jupyter.widget-view+json": {
       "model_id": "",
       "version_major": 2,
       "version_minor": 0
      },
      "text/plain": [
       "FloatProgress(value=0.0, bar_style='info', description='Progress:', layout=Layout(height='25px', width='50%'),…"
      ]
     },
     "metadata": {},
     "output_type": "display_data"
    },
    {
     "name": "stdout",
     "output_type": "stream",
     "text": [
      "SparkSession available as 'spark'.\n"
     ]
    },
    {
     "data": {
      "application/vnd.jupyter.widget-view+json": {
       "model_id": "",
       "version_major": 2,
       "version_minor": 0
      },
      "text/plain": [
       "FloatProgress(value=0.0, bar_style='info', description='Progress:', layout=Layout(height='25px', width='50%'),…"
      ]
     },
     "metadata": {},
     "output_type": "display_data"
    },
    {
     "name": "stdout",
     "output_type": "stream",
     "text": [
      "Collecting matplotlib==3.2.1\n",
      "  Using cached matplotlib-3.2.1-cp36-cp36m-manylinux1_x86_64.whl (12.4 MB)\n",
      "Collecting pyparsing!=2.0.4,!=2.1.2,!=2.1.6,>=2.0.1\n",
      "  Using cached pyparsing-2.4.7-py2.py3-none-any.whl (67 kB)\n",
      "Requirement already satisfied: numpy>=1.11 in /usr/local/lib64/python3.6/site-packages (from matplotlib==3.2.1) (1.14.5)\n",
      "Collecting python-dateutil>=2.1\n",
      "  Using cached python_dateutil-2.8.1-py2.py3-none-any.whl (227 kB)\n",
      "Collecting kiwisolver>=1.0.1\n",
      "  Using cached kiwisolver-1.2.0-cp36-cp36m-manylinux1_x86_64.whl (88 kB)\n",
      "Collecting cycler>=0.10\n",
      "  Using cached cycler-0.10.0-py2.py3-none-any.whl (6.5 kB)\n",
      "Requirement already satisfied: six>=1.5 in /usr/local/lib/python3.6/site-packages (from python-dateutil>=2.1->matplotlib==3.2.1) (1.13.0)\n",
      "Installing collected packages: pyparsing, python-dateutil, kiwisolver, cycler, matplotlib\n",
      "Successfully installed cycler-0.10.0 kiwisolver-1.2.0 matplotlib-3.2.1 pyparsing-2.4.7 python-dateutil-2.8.1\n",
      "\n",
      "Collecting pandas==1.0.3\n",
      "  Using cached pandas-1.0.3-cp36-cp36m-manylinux1_x86_64.whl (10.0 MB)\n",
      "Requirement already satisfied: python-dateutil>=2.6.1 in /mnt/tmp/1589387057452-0/lib/python3.6/site-packages (from pandas==1.0.3) (2.8.1)\n",
      "Requirement already satisfied: numpy>=1.13.3 in /usr/local/lib64/python3.6/site-packages (from pandas==1.0.3) (1.14.5)\n",
      "Requirement already satisfied: pytz>=2017.2 in /usr/local/lib/python3.6/site-packages (from pandas==1.0.3) (2019.3)\n",
      "Requirement already satisfied: six>=1.5 in /usr/local/lib/python3.6/site-packages (from python-dateutil>=2.6.1->pandas==1.0.3) (1.13.0)\n",
      "Installing collected packages: pandas\n",
      "Successfully installed pandas-1.0.3\n",
      "\n",
      "Collecting seaborn==0.10.0\n",
      "  Using cached seaborn-0.10.0-py3-none-any.whl (215 kB)\n",
      "Collecting scipy>=1.0.1\n",
      "  Using cached scipy-1.4.1-cp36-cp36m-manylinux1_x86_64.whl (26.1 MB)\n",
      "Requirement already satisfied: matplotlib>=2.1.2 in /mnt/tmp/1589387057452-0/lib64/python3.6/site-packages (from seaborn==0.10.0) (3.2.1)\n",
      "Requirement already satisfied: numpy>=1.13.3 in /usr/local/lib64/python3.6/site-packages (from seaborn==0.10.0) (1.14.5)\n",
      "Requirement already satisfied: pandas>=0.22.0 in /mnt/tmp/1589387057452-0/lib64/python3.6/site-packages (from seaborn==0.10.0) (1.0.3)\n",
      "Requirement already satisfied: pyparsing!=2.0.4,!=2.1.2,!=2.1.6,>=2.0.1 in /mnt/tmp/1589387057452-0/lib/python3.6/site-packages (from matplotlib>=2.1.2->seaborn==0.10.0) (2.4.7)\n",
      "Requirement already satisfied: python-dateutil>=2.1 in /mnt/tmp/1589387057452-0/lib/python3.6/site-packages (from matplotlib>=2.1.2->seaborn==0.10.0) (2.8.1)\n",
      "Requirement already satisfied: kiwisolver>=1.0.1 in /mnt/tmp/1589387057452-0/lib64/python3.6/site-packages (from matplotlib>=2.1.2->seaborn==0.10.0) (1.2.0)\n",
      "Requirement already satisfied: cycler>=0.10 in /mnt/tmp/1589387057452-0/lib/python3.6/site-packages (from matplotlib>=2.1.2->seaborn==0.10.0) (0.10.0)\n",
      "Requirement already satisfied: pytz>=2017.2 in /usr/local/lib/python3.6/site-packages (from pandas>=0.22.0->seaborn==0.10.0) (2019.3)\n",
      "Requirement already satisfied: six>=1.5 in /usr/local/lib/python3.6/site-packages (from python-dateutil>=2.1->matplotlib>=2.1.2->seaborn==0.10.0) (1.13.0)\n",
      "Installing collected packages: scipy, seaborn\n",
      "Successfully installed scipy-1.4.1 seaborn-0.10.0\n",
      "\n",
      "Collecting numpy==1.18.4\n",
      "  Using cached numpy-1.18.4-cp36-cp36m-manylinux1_x86_64.whl (20.2 MB)\n",
      "Installing collected packages: numpy\n",
      "  Attempting uninstall: numpy\n",
      "    Found existing installation: numpy 1.14.5\n",
      "    Not uninstalling numpy at /usr/local/lib64/python3.6/site-packages, outside environment /tmp/1589387057452-0\n",
      "    Can't uninstall 'numpy'. No files were found to uninstall.\n",
      "Successfully installed numpy-1.18.4\n",
      "\n",
      "Processing /mnt/var/lib/livy/.cache/pip/wheels/84/30/e3/c51c5cd0229631e662d29d7b578a3e5949a4c8db033ffb70aa/pyspark-2.4.5-py2.py3-none-any.whl\n",
      "Collecting py4j==0.10.7\n",
      "  Using cached py4j-0.10.7-py2.py3-none-any.whl (197 kB)\n",
      "Installing collected packages: py4j, pyspark\n",
      "Successfully installed py4j-0.10.7 pyspark-2.4.5\n",
      "\n",
      "Collecting ipython==7.14.0\n",
      "  Using cached ipython-7.14.0-py3-none-any.whl (782 kB)\n",
      "Collecting traitlets>=4.2\n",
      "  Using cached traitlets-4.3.3-py2.py3-none-any.whl (75 kB)\n",
      "Collecting pexpect; sys_platform != \"win32\"\n",
      "  Using cached pexpect-4.8.0-py2.py3-none-any.whl (59 kB)\n",
      "Collecting decorator\n",
      "  Using cached decorator-4.4.2-py2.py3-none-any.whl (9.2 kB)\n",
      "Collecting pygments\n",
      "  Using cached Pygments-2.6.1-py3-none-any.whl (914 kB)\n",
      "Collecting pickleshare\n",
      "  Using cached pickleshare-0.7.5-py2.py3-none-any.whl (6.9 kB)\n",
      "Processing /mnt/var/lib/livy/.cache/pip/wheels/b4/cb/f1/d142b3bb45d488612cf3943d8a1db090eb95e6687045ba61d1/backcall-0.1.0-py3-none-any.whl\n",
      "Collecting prompt-toolkit!=3.0.0,!=3.0.1,<3.1.0,>=2.0.0\n",
      "  Using cached prompt_toolkit-3.0.5-py3-none-any.whl (351 kB)\n",
      "Requirement already satisfied: setuptools>=18.5 in /mnt/tmp/1589387057452-0/lib/python3.6/site-packages (from ipython==7.14.0) (46.3.0)\n",
      "Collecting jedi>=0.10\n",
      "  Using cached jedi-0.17.0-py2.py3-none-any.whl (1.1 MB)\n",
      "Collecting ipython-genutils\n",
      "  Using cached ipython_genutils-0.2.0-py2.py3-none-any.whl (26 kB)\n",
      "Requirement already satisfied: six in /usr/local/lib/python3.6/site-packages (from traitlets>=4.2->ipython==7.14.0) (1.13.0)\n",
      "Collecting ptyprocess>=0.5\n",
      "  Using cached ptyprocess-0.6.0-py2.py3-none-any.whl (39 kB)\n",
      "Collecting wcwidth\n",
      "  Using cached wcwidth-0.1.9-py2.py3-none-any.whl (19 kB)\n",
      "Collecting parso>=0.7.0\n",
      "  Using cached parso-0.7.0-py2.py3-none-any.whl (100 kB)\n",
      "Installing collected packages: ipython-genutils, decorator, traitlets, ptyprocess, pexpect, pygments, pickleshare, backcall, wcwidth, prompt-toolkit, parso, jedi, ipython\n",
      "Successfully installed backcall-0.1.0 decorator-4.4.2 ipython-7.14.0 ipython-genutils-0.2.0 jedi-0.17.0 parso-0.7.0 pexpect-4.8.0 pickleshare-0.7.5 prompt-toolkit-3.0.5 ptyprocess-0.6.0 pygments-2.6.1 traitlets-4.3.3 wcwidth-0.1.9\n",
      "\n",
      "Processing /mnt/var/lib/livy/.cache/pip/wheels/19/20/58/cc9bc70361c517120ee83bbc4ecc35bafc5e1bfa3e9c8e93bc/subprocess.run-0.0.8-py3-none-any.whl\n",
      "Installing collected packages: subprocess.run\n",
      "Successfully installed subprocess.run-0.0.8\n",
      "\n",
      "\n",
      "\n",
      "\n",
      "ERROR: keras-applications 1.0.6 requires h5py, which is not installed.\n",
      "ERROR: python36-sagemaker-pyspark 1.2.6 requires pyspark==2.3.2, which is not installed.\n",
      "\n",
      "ERROR: python36-sagemaker-pyspark 1.2.6 has requirement pyspark==2.3.2, but you'll have pyspark 2.4.5 which is incompatible."
     ]
    }
   ],
   "source": [
    "sc.install_pypi_package(\"matplotlib==3.2.1\")\n",
    "sc.install_pypi_package(\"pandas==1.0.3\")\n",
    "sc.install_pypi_package(\"seaborn==0.10.0\")\n",
    "sc.install_pypi_package(\"numpy==1.18.4\")\n",
    "sc.install_pypi_package(\"pyspark==2.4.5\")\n",
    "sc.install_pypi_package(\"ipython==7.14.0\")\n",
    "sc.install_pypi_package(\"subprocess.run==0.0.8\")"
   ]
  },
  {
   "cell_type": "markdown",
   "metadata": {},
   "source": [
    "# Importing"
   ]
  },
  {
   "cell_type": "code",
   "execution_count": 176,
   "metadata": {
    "scrolled": true
   },
   "outputs": [
    {
     "data": {
      "application/vnd.jupyter.widget-view+json": {
       "model_id": "f00e7086019e4b3d8a1b9e51b8406002",
       "version_major": 2,
       "version_minor": 0
      },
      "text/plain": [
       "VBox()"
      ]
     },
     "metadata": {},
     "output_type": "display_data"
    },
    {
     "data": {
      "application/vnd.jupyter.widget-view+json": {
       "model_id": "",
       "version_major": 2,
       "version_minor": 0
      },
      "text/plain": [
       "FloatProgress(value=0.0, bar_style='info', description='Progress:', layout=Layout(height='25px', width='50%'),…"
      ]
     },
     "metadata": {},
     "output_type": "display_data"
    }
   ],
   "source": [
    "from IPython import display \n",
    "import matplotlib.pyplot as plt\n",
    "import seaborn as sns\n",
    "import numpy as np \n",
    "import pandas as pd\n",
    "from pyspark import *"
   ]
  },
  {
   "cell_type": "code",
   "execution_count": 3,
   "metadata": {},
   "outputs": [
    {
     "data": {
      "application/vnd.jupyter.widget-view+json": {
       "model_id": "1570723c080248149d1ba80d65e2b6a6",
       "version_major": 2,
       "version_minor": 0
      },
      "text/plain": [
       "VBox()"
      ]
     },
     "metadata": {},
     "output_type": "display_data"
    },
    {
     "data": {
      "application/vnd.jupyter.widget-view+json": {
       "model_id": "",
       "version_major": 2,
       "version_minor": 0
      },
      "text/plain": [
       "FloatProgress(value=0.0, bar_style='info', description='Progress:', layout=Layout(height='25px', width='50%'),…"
      ]
     },
     "metadata": {},
     "output_type": "display_data"
    },
    {
     "name": "stdout",
     "output_type": "stream",
     "text": [
      "Package                    Version\n",
      "-------------------------- -------\n",
      "absl-py                    0.8.1\n",
      "astor                      0.8.0\n",
      "backcall                   0.1.0\n",
      "beautifulsoup4             4.8.1\n",
      "bleach                     3.1.0\n",
      "boto                       2.49.0\n",
      "cycler                     0.10.0\n",
      "decorator                  4.4.2\n",
      "funcsigs                   1.0.2\n",
      "gast                       0.3.2\n",
      "google-pasta               0.1.7\n",
      "grpcio                     1.24.3\n",
      "html5lib                   1.0.1\n",
      "ipython                    7.14.0\n",
      "ipython-genutils           0.2.0\n",
      "jedi                       0.17.0\n",
      "jmespath                   0.9.4\n",
      "Keras-Applications         1.0.6\n",
      "Keras-Preprocessing        1.0.5\n",
      "kiwisolver                 1.2.0\n",
      "lxml                       4.4.2\n",
      "Markdown                   3.1.1\n",
      "matplotlib                 3.2.1\n",
      "mysqlclient                1.4.6\n",
      "nltk                       3.4.5\n",
      "nose                       1.3.4\n",
      "numpy                      1.18.4\n",
      "pandas                     1.0.3\n",
      "parso                      0.7.0\n",
      "pexpect                    4.8.0\n",
      "pickleshare                0.7.5\n",
      "pip                        20.1\n",
      "prompt-toolkit             3.0.5\n",
      "protobuf                   3.10.0\n",
      "ptyprocess                 0.6.0\n",
      "py-dateutil                2.2\n",
      "py4j                       0.10.7\n",
      "Pygments                   2.6.1\n",
      "pyparsing                  2.4.7\n",
      "pyspark                    2.4.5\n",
      "python-dateutil            2.8.1\n",
      "python36-sagemaker-pyspark 1.2.6\n",
      "pytz                       2019.3\n",
      "PyYAML                     3.11\n",
      "scipy                      1.4.1\n",
      "seaborn                    0.10.0\n",
      "setuptools                 46.3.0\n",
      "six                        1.13.0\n",
      "soupsieve                  1.9.5\n",
      "subprocess.run             0.0.8\n",
      "tensorboard                1.14.0\n",
      "tensorflow                 1.14.0\n",
      "tensorflow-estimator       1.14.0\n",
      "termcolor                  1.1.0\n",
      "traitlets                  4.3.3\n",
      "wcwidth                    0.1.9\n",
      "webencodings               0.5.1\n",
      "Werkzeug                   0.16.0\n",
      "wheel                      0.34.2\n",
      "windmill                   1.6\n",
      "wrapt                      1.11.2"
     ]
    }
   ],
   "source": [
    "sc.list_packages()"
   ]
  },
  {
   "cell_type": "markdown",
   "metadata": {},
   "source": [
    "# Loading Data"
   ]
  },
  {
   "cell_type": "code",
   "execution_count": 4,
   "metadata": {},
   "outputs": [
    {
     "data": {
      "application/vnd.jupyter.widget-view+json": {
       "model_id": "c96bf9e4d1cb49da860d53dff825d944",
       "version_major": 2,
       "version_minor": 0
      },
      "text/plain": [
       "VBox()"
      ]
     },
     "metadata": {},
     "output_type": "display_data"
    },
    {
     "data": {
      "application/vnd.jupyter.widget-view+json": {
       "model_id": "",
       "version_major": 2,
       "version_minor": 0
      },
      "text/plain": [
       "FloatProgress(value=0.0, bar_style='info', description='Progress:', layout=Layout(height='25px', width='50%'),…"
      ]
     },
     "metadata": {},
     "output_type": "display_data"
    }
   ],
   "source": [
    "business = spark.read.json(\"s3://my-little-pony/yelp/yelp_academic_dataset_business.json\")"
   ]
  },
  {
   "cell_type": "markdown",
   "metadata": {},
   "source": [
    "# Overview of Data"
   ]
  },
  {
   "cell_type": "code",
   "execution_count": 5,
   "metadata": {},
   "outputs": [
    {
     "data": {
      "application/vnd.jupyter.widget-view+json": {
       "model_id": "2e3100ff74c84ce2999547b3f3b24f7e",
       "version_major": 2,
       "version_minor": 0
      },
      "text/plain": [
       "VBox()"
      ]
     },
     "metadata": {},
     "output_type": "display_data"
    },
    {
     "data": {
      "application/vnd.jupyter.widget-view+json": {
       "model_id": "",
       "version_major": 2,
       "version_minor": 0
      },
      "text/plain": [
       "FloatProgress(value=0.0, bar_style='info', description='Progress:', layout=Layout(height='25px', width='50%'),…"
      ]
     },
     "metadata": {},
     "output_type": "display_data"
    },
    {
     "name": "stdout",
     "output_type": "stream",
     "text": [
      "Columns:14 | Rows:209393"
     ]
    }
   ],
   "source": [
    "iv = {'columns': len(business.columns), 'rows': business.count()}\n",
    "print(f\"Columns:{iv['columns']} | Rows:{iv['rows']}\")"
   ]
  },
  {
   "cell_type": "code",
   "execution_count": 6,
   "metadata": {
    "scrolled": false
   },
   "outputs": [
    {
     "data": {
      "application/vnd.jupyter.widget-view+json": {
       "model_id": "c11642fb0ea14731807d0bc3c441cb11",
       "version_major": 2,
       "version_minor": 0
      },
      "text/plain": [
       "VBox()"
      ]
     },
     "metadata": {},
     "output_type": "display_data"
    },
    {
     "data": {
      "application/vnd.jupyter.widget-view+json": {
       "model_id": "",
       "version_major": 2,
       "version_minor": 0
      },
      "text/plain": [
       "FloatProgress(value=0.0, bar_style='info', description='Progress:', layout=Layout(height='25px', width='50%'),…"
      ]
     },
     "metadata": {},
     "output_type": "display_data"
    },
    {
     "name": "stdout",
     "output_type": "stream",
     "text": [
      "root\n",
      " |-- address: string (nullable = true)\n",
      " |-- attributes: struct (nullable = true)\n",
      " |    |-- AcceptsInsurance: string (nullable = true)\n",
      " |    |-- AgesAllowed: string (nullable = true)\n",
      " |    |-- Alcohol: string (nullable = true)\n",
      " |    |-- Ambience: string (nullable = true)\n",
      " |    |-- BYOB: string (nullable = true)\n",
      " |    |-- BYOBCorkage: string (nullable = true)\n",
      " |    |-- BestNights: string (nullable = true)\n",
      " |    |-- BikeParking: string (nullable = true)\n",
      " |    |-- BusinessAcceptsBitcoin: string (nullable = true)\n",
      " |    |-- BusinessAcceptsCreditCards: string (nullable = true)\n",
      " |    |-- BusinessParking: string (nullable = true)\n",
      " |    |-- ByAppointmentOnly: string (nullable = true)\n",
      " |    |-- Caters: string (nullable = true)\n",
      " |    |-- CoatCheck: string (nullable = true)\n",
      " |    |-- Corkage: string (nullable = true)\n",
      " |    |-- DietaryRestrictions: string (nullable = true)\n",
      " |    |-- DogsAllowed: string (nullable = true)\n",
      " |    |-- DriveThru: string (nullable = true)\n",
      " |    |-- GoodForDancing: string (nullable = true)\n",
      " |    |-- GoodForKids: string (nullable = true)\n",
      " |    |-- GoodForMeal: string (nullable = true)\n",
      " |    |-- HairSpecializesIn: string (nullable = true)\n",
      " |    |-- HappyHour: string (nullable = true)\n",
      " |    |-- HasTV: string (nullable = true)\n",
      " |    |-- Music: string (nullable = true)\n",
      " |    |-- NoiseLevel: string (nullable = true)\n",
      " |    |-- Open24Hours: string (nullable = true)\n",
      " |    |-- OutdoorSeating: string (nullable = true)\n",
      " |    |-- RestaurantsAttire: string (nullable = true)\n",
      " |    |-- RestaurantsCounterService: string (nullable = true)\n",
      " |    |-- RestaurantsDelivery: string (nullable = true)\n",
      " |    |-- RestaurantsGoodForGroups: string (nullable = true)\n",
      " |    |-- RestaurantsPriceRange2: string (nullable = true)\n",
      " |    |-- RestaurantsReservations: string (nullable = true)\n",
      " |    |-- RestaurantsTableService: string (nullable = true)\n",
      " |    |-- RestaurantsTakeOut: string (nullable = true)\n",
      " |    |-- Smoking: string (nullable = true)\n",
      " |    |-- WheelchairAccessible: string (nullable = true)\n",
      " |    |-- WiFi: string (nullable = true)\n",
      " |-- business_id: string (nullable = true)\n",
      " |-- categories: string (nullable = true)\n",
      " |-- city: string (nullable = true)\n",
      " |-- hours: struct (nullable = true)\n",
      " |    |-- Friday: string (nullable = true)\n",
      " |    |-- Monday: string (nullable = true)\n",
      " |    |-- Saturday: string (nullable = true)\n",
      " |    |-- Sunday: string (nullable = true)\n",
      " |    |-- Thursday: string (nullable = true)\n",
      " |    |-- Tuesday: string (nullable = true)\n",
      " |    |-- Wednesday: string (nullable = true)\n",
      " |-- is_open: long (nullable = true)\n",
      " |-- latitude: double (nullable = true)\n",
      " |-- longitude: double (nullable = true)\n",
      " |-- name: string (nullable = true)\n",
      " |-- postal_code: string (nullable = true)\n",
      " |-- review_count: long (nullable = true)\n",
      " |-- stars: double (nullable = true)\n",
      " |-- state: string (nullable = true)"
     ]
    }
   ],
   "source": [
    "business.printSchema()"
   ]
  },
  {
   "cell_type": "code",
   "execution_count": 237,
   "metadata": {},
   "outputs": [
    {
     "data": {
      "application/vnd.jupyter.widget-view+json": {
       "model_id": "6c1579406dd0461b9d8f5e5eaea1bf1a",
       "version_major": 2,
       "version_minor": 0
      },
      "text/plain": [
       "VBox()"
      ]
     },
     "metadata": {},
     "output_type": "display_data"
    },
    {
     "data": {
      "application/vnd.jupyter.widget-view+json": {
       "model_id": "",
       "version_major": 2,
       "version_minor": 0
      },
      "text/plain": [
       "FloatProgress(value=0.0, bar_style='info', description='Progress:', layout=Layout(height='25px', width='50%'),…"
      ]
     },
     "metadata": {},
     "output_type": "display_data"
    },
    {
     "name": "stdout",
     "output_type": "stream",
     "text": [
      "+--------------------+-----+-----+--------------------+--------------------+\n",
      "|                name|state|stars|          categories|         business_id|\n",
      "+--------------------+-----+-----+--------------------+--------------------+\n",
      "|The Range At Lake...|   NC|  3.5|Active Life, Gun/...|f9NumwFMBDn751xgF...|\n",
      "|   Carlos Santo, NMD|   AZ|  5.0|Health & Medical,...|Yzvjg0SayhoZgCljU...|\n",
      "|             Felinus|   QC|  5.0|Pets, Pet Service...|XNoUzKckATkOD1hP6...|\n",
      "|Nevada House of Hose|   NV|  2.5|Hardware Stores, ...|6OAZjbxqM5ol29BuH...|\n",
      "|USE MY GUY SERVIC...|   AZ|  4.5|Home Services, Pl...|51M2Kk903DFYI6gnB...|\n",
      "+--------------------+-----+-----+--------------------+--------------------+"
     ]
    }
   ],
   "source": [
    "business.createOrReplaceTempView(\"biz\")\n",
    "biz = spark.sql(\"\"\" \n",
    "SELECT \\\n",
    "name,  \n",
    "state, \n",
    "stars, \n",
    "categories,\n",
    "business_id\n",
    "FROM business limit 5\"\"\")\n",
    "biz.show()"
   ]
  },
  {
   "cell_type": "markdown",
   "metadata": {},
   "source": [
    "# Analyzing Categories\n",
    "Let's now answer this question: how many unique categories are represented in this dataset?\n",
    "\n",
    "Essentially, we have the categories per business as a list - this is useful to quickly see what each business might be represented as but it is difficult to easily answer questions such as:\n",
    "\n",
    "How many businesses are categorized as Active Life, for instance\n",
    "What are the top 20 most popular categories available?\n",
    "\n",
    "## Association Table\n",
    "\n",
    "We need to \"break out\" these categories from the business ids? One common approach to take is to build an association table mapping a single business id multiple times to each distinct category.\n",
    "\n",
    "What this does is allow us to then perform a myriad of rollups and other analysis on this association table which can aid us in answering the questions asked above.\n",
    "\n",
    "Implement the code necessary to derive the table described from your original yelp dataframe.\n",
    "\n",
    "\n",
    "### Total Unique Categories\n",
    "what is the total number of unique categories available?\n",
    "\n",
    "### Top  Business Categories"
   ]
  },
  {
   "cell_type": "code",
   "execution_count": 282,
   "metadata": {},
   "outputs": [
    {
     "data": {
      "application/vnd.jupyter.widget-view+json": {
       "model_id": "69c3f3f5ea414ecc8b61d32cf1cf981a",
       "version_major": 2,
       "version_minor": 0
      },
      "text/plain": [
       "VBox()"
      ]
     },
     "metadata": {},
     "output_type": "display_data"
    },
    {
     "data": {
      "application/vnd.jupyter.widget-view+json": {
       "model_id": "",
       "version_major": 2,
       "version_minor": 0
      },
      "text/plain": [
       "FloatProgress(value=0.0, bar_style='info', description='Progress:', layout=Layout(height='25px', width='50%'),…"
      ]
     },
     "metadata": {},
     "output_type": "display_data"
    },
    {
     "name": "stdout",
     "output_type": "stream",
     "text": [
      "+--------------------+-----------------+--------------------+\n",
      "|         business_id|              col|          categories|\n",
      "+--------------------+-----------------+--------------------+\n",
      "|f9NumwFMBDn751xgF...|      Active Life|Active Life, Gun/...|\n",
      "|f9NumwFMBDn751xgF...| Gun/Rifle Ranges|Active Life, Gun/...|\n",
      "|f9NumwFMBDn751xgF...|      Guns & Ammo|Active Life, Gun/...|\n",
      "|f9NumwFMBDn751xgF...|         Shopping|Active Life, Gun/...|\n",
      "+--------------------+-----------------+--------------------+\n",
      "only showing top 4 rows\n",
      "\n",
      "+--------------------+-----+\n",
      "|            Category|count|\n",
      "+--------------------+-----+\n",
      "|         Restaurants|44488|\n",
      "|            Shopping|26128|\n",
      "|                Food|24452|\n",
      "|         Restaurants|19456|\n",
      "|       Home Services|16205|\n",
      "|       Beauty & Spas|14216|\n",
      "|    Health & Medical|13978|\n",
      "|      Local Services|11958|\n",
      "|           Nightlife|11415|\n",
      "|                Bars|10201|\n",
      "|          Automotive|10063|\n",
      "| Event Planning &...| 8911|\n",
      "|                Food| 8539|\n",
      "|            Shopping| 8516|\n",
      "|         Active Life| 7771|\n",
      "|             Fashion| 6628|\n",
      "|       Beauty & Spas| 6304|\n",
      "|       Home Services| 6282|\n",
      "|        Coffee & Tea| 6257|\n",
      "|          Sandwiches| 6132|\n",
      "+--------------------+-----+\n",
      "only showing top 20 rows\n",
      "\n",
      "There is a total of  {2528}  Unique Categories"
     ]
    }
   ],
   "source": [
    "\n",
    "query = \"\"\"\n",
    "SELECT \n",
    "business_id,\n",
    "explode(split(categories, ',')),\n",
    "categories\n",
    "FROM biz\"\"\"\n",
    "\n",
    "bizcat = spark.sql(query)\n",
    "bizcat.show(4)\n",
    "\n",
    "tmp = bizcat.drop(\"categories\")\\\n",
    "            .withColumnRenamed('business_id', 'ID')\\\n",
    "            .withColumnRenamed('col', 'Category')\n",
    "\n",
    "categories = tmp.groupBy(\"Category\").count()\n",
    "categories = categories.sort(\"count\", ascending = False)\n",
    "categories.show(20)\n",
    "\n",
    "pdf=categories.toPandas()\n",
    "\n",
    "pdf.head(10).plot(x='Category', \n",
    "                 y='count', \n",
    "                 kind='barh',\n",
    "                 stacked = True,\n",
    "                 colormap='hot', \n",
    "                 fontsize = 5.5, \n",
    "                figsize = (5, 6), \n",
    "                  align=\"center\")\n",
    "\n",
    "print(\"There is a total of \", {categories.count()}, \" Unique Categories\")"
   ]
  },
  {
   "cell_type": "code",
   "execution_count": 283,
   "metadata": {
    "scrolled": false
   },
   "outputs": [
    {
     "data": {
      "application/vnd.jupyter.widget-view+json": {
       "model_id": "",
       "version_major": 2,
       "version_minor": 0
      },
      "text/plain": [
       "FloatProgress(value=0.0, bar_style='info', description='Progress:', layout=Layout(height='25px', width='50%'),…"
      ]
     },
     "metadata": {},
     "output_type": "display_data"
    },
    {
     "data": {
      "image/png": "[encoded data removed]",
      "text/plain": [
       "<IPython.core.display.Image object>"
      ]
     },
     "metadata": {},
     "output_type": "display_data"
    }
   ],
   "source": [
    "%matplot plt"
   ]
  },
  {
   "cell_type": "markdown",
   "metadata": {},
   "source": [
    "# Do Yelp Reviews Skew Negative?\n",
    "Oftentimes, it is said that the only people who write a written review are those who are extremely dissatisfied or extremely satisfied with the service received.\n",
    "\n",
    "How true is this really? Let's try and answer this question.\n",
    "\n",
    "Loading User Data\n",
    "Begin by loading the user data set from S3 and printing schema to determine what data is available."
   ]
  },
  {
   "cell_type": "code",
   "execution_count": 308,
   "metadata": {},
   "outputs": [
    {
     "data": {
      "application/vnd.jupyter.widget-view+json": {
       "model_id": "62680b8106b341f8b025fbdb5aaaceba",
       "version_major": 2,
       "version_minor": 0
      },
      "text/plain": [
       "VBox()"
      ]
     },
     "metadata": {},
     "output_type": "display_data"
    },
    {
     "data": {
      "application/vnd.jupyter.widget-view+json": {
       "model_id": "",
       "version_major": 2,
       "version_minor": 0
      },
      "text/plain": [
       "FloatProgress(value=0.0, bar_style='info', description='Progress:', layout=Layout(height='25px', width='50%'),…"
      ]
     },
     "metadata": {},
     "output_type": "display_data"
    },
    {
     "name": "stdout",
     "output_type": "stream",
     "text": [
      "+--------------------+------------------+\n",
      "|         business_id|         avgRating|\n",
      "+--------------------+------------------+\n",
      "|ATeOjZzE3VOI-RW7F...| 3.433734939759036|\n",
      "|RMjCnixEY5i12Ciqn...|3.5316455696202533|\n",
      "|vbUABNAQI2iwN7v0x...|2.4545454545454546|\n",
      "|VHsNB3pdGVcRgs6C3...| 3.411764705882353|\n",
      "|r-W1HPIZ3V6S2DaXh...| 4.852459016393443|\n",
      "+--------------------+------------------+\n",
      "only showing top 5 rows\n",
      "\n",
      "+--------------------+------------------+\n",
      "|             user_id|         avgRating|\n",
      "+--------------------+------------------+\n",
      "|KWFiZKiZBANVxuhm4...| 4.142857142857143|\n",
      "|VmYpF5C3GL-7wFnvO...|               3.6|\n",
      "|1Dul59QEe-Q-7OQHT...|              3.75|\n",
      "|xS6kmkMXp0PRrFwkS...|3.9473684210526314|\n",
      "|j56G3m8vYtA_2Io6F...|              4.25|\n",
      "+--------------------+------------------+\n",
      "only showing top 5 rows"
     ]
    }
   ],
   "source": [
    "review = spark.read.load('s3://my-little-pony/yelp/reviews.json', \n",
    "                         format='json'\n",
    "                        ).select(\"business_id\", \n",
    "                                 \"stars\", \n",
    "                                 \"review_id\", \n",
    "                                 \"user_id\", \n",
    "                                 \"text\")\n",
    "business = spark.read.load('s3://my-little-pony/yelp/yelp_academic_dataset_business.json', \n",
    "                           format = 'json'\n",
    "                          ).select(\"business_id\", \n",
    "                                   \"stars\")\n",
    "\n",
    "\n",
    "review_sub = review.select(\"business_id\", \"stars\", \"user_id\") \n",
    "review_sub.createOrReplaceTempView(\"review_Bsub_avg\")\n",
    "review_Bsub_avg = review_sub.groupBy(\"business_id\"\n",
    "                                    ).mean(\"stars\"\n",
    "                                          ).withColumnRenamed(\n",
    "    \"avg(stars)\", \n",
    "    \"avgRating\")\n",
    "review_sub.createOrReplaceTempView(\"review_Usub_avg\")\n",
    "review_Usub_avg = review_sub.groupBy(\"user_id\").mean(\"stars\").withColumnRenamed(\"avg(stars)\", \"avgRating\")\n",
    "\n",
    "review_Bsub_avg.show(5)\n",
    "review_Usub_avg.show(5)"
   ]
  },
  {
   "cell_type": "code",
   "execution_count": 357,
   "metadata": {
    "scrolled": true
   },
   "outputs": [
    {
     "data": {
      "application/vnd.jupyter.widget-view+json": {
       "model_id": "071a83e913504c6990c79805880acd8b",
       "version_major": 2,
       "version_minor": 0
      },
      "text/plain": [
       "VBox()"
      ]
     },
     "metadata": {},
     "output_type": "display_data"
    },
    {
     "data": {
      "application/vnd.jupyter.widget-view+json": {
       "model_id": "",
       "version_major": 2,
       "version_minor": 0
      },
      "text/plain": [
       "FloatProgress(value=0.0, bar_style='info', description='Progress:', layout=Layout(height='25px', width='50%'),…"
      ]
     },
     "metadata": {},
     "output_type": "display_data"
    },
    {
     "name": "stdout",
     "output_type": "stream",
     "text": [
      "+--------------------+-----------+\n",
      "|                 BID|TotalRating|\n",
      "+--------------------+-----------+\n",
      "|JUFIUjadF1rCMQJ01...|        3.0|\n",
      "|VdlbAvRYAqb8B4SIe...|        1.0|\n",
      "+--------------------+-----------+\n",
      "only showing top 2 rows"
     ]
    }
   ],
   "source": [
    "business.createOrReplaceTempView(\"business_sub_avg\")\n",
    "business_sub_avg = spark.sql(\"\"\"\n",
    "SELECT business_id as BID, \n",
    "avg(stars) as TotalRating\n",
    "FROM business \n",
    "GROUP BY business_id\"\"\")\n",
    "business_sub_avg.show(2)"
   ]
  },
  {
   "cell_type": "code",
   "execution_count": 382,
   "metadata": {
    "scrolled": false
   },
   "outputs": [
    {
     "data": {
      "application/vnd.jupyter.widget-view+json": {
       "model_id": "93a1ddf4134844bdb381394583b81e4e",
       "version_major": 2,
       "version_minor": 0
      },
      "text/plain": [
       "VBox()"
      ]
     },
     "metadata": {},
     "output_type": "display_data"
    },
    {
     "data": {
      "application/vnd.jupyter.widget-view+json": {
       "model_id": "",
       "version_major": 2,
       "version_minor": 0
      },
      "text/plain": [
       "FloatProgress(value=0.0, bar_style='info', description='Progress:', layout=Layout(height='25px', width='50%'),…"
      ]
     },
     "metadata": {},
     "output_type": "display_data"
    },
    {
     "name": "stdout",
     "output_type": "stream",
     "text": [
      "+--------------------+------------------+-----------+\n",
      "|                  ID|      ReviewRating|TotalRating|\n",
      "+--------------------+------------------+-----------+\n",
      "|--9e1ONYQuAa-CB_R...|  4.11784140969163|        4.0|\n",
      "|-6c_bJblLXUwoWfmY...|2.3333333333333335|        2.5|\n",
      "|-ElDqujEn1u64ynQr...|             4.375|        4.5|\n",
      "|-Gh9a15ijNii-8rnp...|3.3333333333333335|        3.5|\n",
      "|-I06hkMFrX0KBqu61...|               5.0|        5.0|\n",
      "|-Qb6U1MotJfpt6OU_...|               5.0|        5.0|\n",
      "|-RRnldwSqCZT6OpuW...|               5.0|        5.0|\n",
      "|-Spbg8zeDHA49Ys_f...|               5.0|        5.0|\n",
      "|-TGwtTiieh_JLml5_...|               3.5|        3.5|\n",
      "|-VAsjhmAbKF3Pb_-8...|2.0833333333333335|        2.0|\n",
      "|-WGjtt88-6zBiIUiK...|2.6666666666666665|        2.5|\n",
      "|-cxD1NimFldATDUsN...| 2.217391304347826|        2.0|\n",
      "|-m8v19CXrGEYr3PAL...|               4.0|        4.0|\n",
      "|-qL-wX-UuMaHDBA2X...| 3.801418439716312|        4.0|\n",
      "|-r8SvItXXG6_T3mP5...|               4.0|        4.0|\n",
      "|-tUFV7Zk3RCvPL8QI...| 4.833333333333333|        5.0|\n",
      "|-wby-wyqaq1ZDTFDT...|               3.0|        3.0|\n",
      "|069TWjwxctY-3X_Ti...| 3.848684210526316|        4.0|\n",
      "|0859wfd1BQHG46Zpw...|4.4397394136807815|        4.5|\n",
      "|09OYbFNrS1n8u5gE6...| 4.222222222222222|        4.0|\n",
      "+--------------------+------------------+-----------+\n",
      "only showing top 20 rows\n",
      "\n",
      "                       ID  ReviewRating  TotalRating\n",
      "0  --9e1ONYQuAa-CB_Rrw7Tw      4.117841          4.0\n",
      "1  -6c_bJblLXUwoWfmYLtH_w      2.333333          2.5"
     ]
    }
   ],
   "source": [
    "tbl = review_Bsub_avg.join(business_sub_avg, business_sub_avg.BID == review_Bsub_avg.business_id,\"full\" ).drop('BID').withColumnRenamed('business_id', 'ID').withColumnRenamed('avgRating', 'ReviewRating')\n",
    "tbl.show(20)\n",
    "df = tbl.toPandas()\n",
    "df.head(2)"
   ]
  },
  {
   "cell_type": "code",
   "execution_count": 399,
   "metadata": {
    "scrolled": true
   },
   "outputs": [
    {
     "data": {
      "application/vnd.jupyter.widget-view+json": {
       "model_id": "a1bf4e38292448aa8f7b35354aa77c1c",
       "version_major": 2,
       "version_minor": 0
      },
      "text/plain": [
       "VBox()"
      ]
     },
     "metadata": {},
     "output_type": "display_data"
    },
    {
     "data": {
      "application/vnd.jupyter.widget-view+json": {
       "model_id": "",
       "version_major": 2,
       "version_minor": 0
      },
      "text/plain": [
       "FloatProgress(value=0.0, bar_style='info', description='Progress:', layout=Layout(height='25px', width='50%'),…"
      ]
     },
     "metadata": {},
     "output_type": "display_data"
    },
    {
     "name": "stdout",
     "output_type": "stream",
     "text": [
      "0         4.117841\n",
      "1         2.333333\n",
      "2         4.375000\n",
      "3         3.333333\n",
      "4         5.000000\n",
      "            ...   \n",
      "209388    3.714286\n",
      "209389    4.555556\n",
      "209390    3.923077\n",
      "209391    3.621359\n",
      "209392    3.666667\n",
      "Name: ReviewRating, Length: 209393, dtype: float64"
     ]
    }
   ],
   "source": [
    "df[\"ReviewRating\"]"
   ]
  },
  {
   "cell_type": "code",
   "execution_count": null,
   "metadata": {},
   "outputs": [],
   "source": [
    "class HypothesisTesting(obj): \n",
    "    def __init__(self,data): \n",
    "        self.data = data \n",
    "        self.MakeModel() \n",
    "        self.actual = self.TestStatistic(data)\n",
    "        self.test_stats = None \n",
    "    def PValue(self, iters = 1000): \n",
    "        self.test_stats = numpy.array([self.TestStatistics(self.RunModel())\n",
    "                                                          for _ in range(iters)])\n",
    "        count = sum(self.test_stats >= self.actual)\n",
    "        return count/iters \n",
    "    def MaxTestStat(self): \n",
    "        retun max(self.test_stats)\n",
    "    def PlotHist(self, label=None): \n",
    "        def VertLine(x): \n",
    "            pyplot.plot([x,x], [0, max(ys)], linewidth=3, color='0.8')\n",
    "            ys, xs, patches, = pylot.hist(ht.test_stats, color='#ffff99')\n",
    "            VertLine(self.actual)\n",
    "            pyplot.xlabel('test statistic')\n",
    "            pyplot"
   ]
  },
  {
   "cell_type": "code",
   "execution_count": 400,
   "metadata": {
    "scrolled": true
   },
   "outputs": [
    {
     "data": {
      "application/vnd.jupyter.widget-view+json": {
       "model_id": "a46f60adb5ea4aa19a863c43d1d03b4a",
       "version_major": 2,
       "version_minor": 0
      },
      "text/plain": [
       "VBox()"
      ]
     },
     "metadata": {},
     "output_type": "display_data"
    },
    {
     "data": {
      "application/vnd.jupyter.widget-view+json": {
       "model_id": "",
       "version_major": 2,
       "version_minor": 0
      },
      "text/plain": [
       "FloatProgress(value=0.0, bar_style='info', description='Progress:', layout=Layout(height='25px', width='50%'),…"
      ]
     },
     "metadata": {},
     "output_type": "display_data"
    },
    {
     "name": "stderr",
     "output_type": "stream",
     "text": [
      "invalid syntax (<stdin>, line 7)\n",
      "  File \"<stdin>\", line 7\n",
      "    abs(g1.mean() - g2.mean()) = test_stat for g1, g2 in _\n",
      "                                             ^\n",
      "SyntaxError: invalid syntax\n",
      "\n"
     ]
    }
   ],
   "source": [
    "import numpy \n",
    "import scipy.stats\n",
    "import matplotlib.pyplot as plt\n",
    "\n",
    "\n",
    "def TestStatistics(g1, g2): \n",
    "    abs(g1.mean() - g2.mean()) = test_stat for g1, g2 in _\n",
    "    print(\"The difference in the means \\nbetweeen the two groups is {t}\".format(t=test_stat))\n",
    "    \n",
    "    if any((g1, g2)):\n",
    "        n, m = len(g1), len(g2)\n",
    "        pool = numpy.hstack((g1, g2))\n",
    "        def Hypothesis(pool):\n",
    "            numpy.random.shuffle(pool)\n",
    "            data = pool[:n], pool[n:]  \n",
    "    test_stat = TestStatistics()\n",
    "    data = Hypothesis() \n",
    "    sim = numpy.array([TestStatistics(Hypothesis()) for i in range(1000)])\n",
    "    def Vert(x): \n",
    "        pyplot.plot([x, x], [0, 300], linewidth=3, color='0.8')\n",
    "return Vert(test_stat)\n",
    "pyplot.hist(test_stats, color=COLORS)\n",
    "pyplot.xlabel('difference in means')\n",
    "pyplot.ylabel('count')\n",
    "TestStatistics(df[\"ReviewRating\"], df[\"TotalRating\"])"
   ]
  },
  {
   "cell_type": "code",
   "execution_count": null,
   "metadata": {},
   "outputs": [],
   "source": [
    "\n",
    "review = spark.sql(\"\"\"\n",
    "SELECT business_id, review_id, stars, text, user_id FROM review\"\"\")\n",
    "review = review.drop(\"date\", \"useful\", \"funny\", \"cool\")\n",
    "\n",
    "query = \"\"\"\n",
    "SELECT * FROM review\n",
    "INNER JOIN biz\n",
    "ON review.business_id = biz.business_id \"\"\"\n",
    "\n",
    "review.createOrReplaceTempView(\"joindf\")\n",
    "joindf = spark.sql(query)\n",
    "joindf.show(10)\n",
    "\n",
    "review = spark.sql(\"\"\"\n",
    "SELECT business_id, review_id, stars, text, user_id FROM review\"\"\")\n",
    "review = review.drop(\"date\", \"useful\", \"funny\", \"cool\")\n",
    "\n",
    "query = \"\"\"\n",
    "SELECT * FROM review\n",
    "INNER JOIN biz\n",
    "ON review.business_id = biz.business_id \"\"\"\n",
    "\n",
    "review.createOrReplaceTempView(\"joindf\")\n",
    "joindf = spark.sql(query)\n",
    "joindf.show(10)"
   ]
  },
  {
   "cell_type": "code",
   "execution_count": null,
   "metadata": {},
   "outputs": [],
   "source": [
    "rdf = rf.select(\"business_id\", \"stars\")\n",
    "\n",
    "rdf.createOrReplaceTempView(\"A1\")\n",
    "A1 = spark.sql(\n",
    "\"\"\"\n",
    "SELECT business_id, avg(stars) AS r_avgstars\n",
    "FROM A1\n",
    "GROUP BY business_id\n",
    "\"\"\")\n",
    "\n",
    "BB = business.select(\"business_id\", \"stars\")\n",
    "BB.createOrReplaceTempView(\"biz\")\n",
    "A2 = spark.sql(\n",
    "\"\"\"\n",
    "SELECT business_id, avg(stars) AS b_avgstars\n",
    "FROM biz\n",
    "GROUP BY business_id\n",
    "\"\"\")\n",
    "\n",
    "A1.describe(\"r_avgstars\").show()\n",
    "A2.describe(\"b_avgstars\").show()"
   ]
  },
  {
   "cell_type": "markdown",
   "metadata": {},
   "source": [
    "# Should the Elite be Trusted? \n",
    "For the final portion - you have a choice:\n",
    "\n",
    "Try and analyze some interesting dimension to this data. The ONLY requirement is that you must use the Users dataset and join on either the business* or reviews** dataset\n",
    "Or, you may try and answer the question posed: how accurate or close are the ratings of an \"elite\" user (check Users table schema) vs the actual business rating.\n",
    "Feel free to use any and all methodologies at your disposal - only requirement is you must render one visualization in your analysis"
   ]
  },
  {
   "cell_type": "code",
   "execution_count": null,
   "metadata": {},
   "outputs": [],
   "source": [
    "df = spark.read.json(\"s3://my-little-pony/yelp/yelp_academic_dataset_user.json\")\n",
    "df.printSchema()"
   ]
  },
  {
   "cell_type": "code",
   "execution_count": null,
   "metadata": {},
   "outputs": [],
   "source": [
    "BigFans = df.createOrReplaceTempView(\"elitesOnly\")\n",
    "BF = spark.sql(\n",
    "\"\"\"\n",
    "SELECT elite, useful,average_stars \n",
    "FROM elitesOnly\n",
    "WHERE fans>=100\n",
    "LIMIT 30\n",
    "\"\"\").orderBy(\"fans\", ascending=False)\n",
    "\n",
    "LittleFans = df.createOrReplaceTempView(\"elitesOnly\")\n",
    "LF = spark.sql(\n",
    "\"\"\"\n",
    "SELECT elite, fans, cool, average_stars \n",
    "FROM elitesOnly\n",
    "WHERE fans<=100\n",
    "LIMIT 30\n",
    "\"\"\").orderBy(\"fans\", ascending=False)"
   ]
  },
  {
   "cell_type": "code",
   "execution_count": null,
   "metadata": {},
   "outputs": [],
   "source": [
    "search = BF.groupby(\"useful\", \"average_stars\").count().orderBy(\"average_stars\", ascending=False)\n",
    "search.show()\n",
    "\n",
    "v= search.toPandas()\n",
    "sns.relplot(x=\"average_stars\", y=\"useful\", hue= \"useful\", data=v)\n",
    "plt.title(f\"How useful are the Average Ratings of the Elites ?\")\n",
    "\n",
    "%matplot plt"
   ]
  },
  {
   "cell_type": "code",
   "execution_count": null,
   "metadata": {},
   "outputs": [],
   "source": []
  }
 ],
 "metadata": {
  "kernelspec": {
   "display_name": "PySpark",
   "language": "",
   "name": "pysparkkernel"
  },
  "language_info": {
   "codemirror_mode": {
    "name": "python",
    "version": 2
   },
   "mimetype": "text/x-python",
   "name": "pyspark",
   "pygments_lexer": "python2"
  }
 },
 "nbformat": 4,
 "nbformat_minor": 4
}
