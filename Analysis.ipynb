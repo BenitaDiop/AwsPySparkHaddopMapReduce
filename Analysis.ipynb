{
 "cells": [
  {
   "cell_type": "markdown",
   "metadata": {},
   "source": [
    "# Analysis of Yelp Business Intelligence Data"
   ]
  },
  {
   "cell_type": "markdown",
   "metadata": {},
   "source": [
    "# Installation and Initial Setup"
   ]
  },
  {
   "cell_type": "code",
   "execution_count": 1,
   "metadata": {
    "jupyter": {
     "outputs_hidden": true
    }
   },
   "outputs": [
    {
     "data": {
      "application/vnd.jupyter.widget-view+json": {
       "model_id": "adc1e944af6d44c08d5ede85ce88d636",
       "version_major": 2,
       "version_minor": 0
      },
      "text/plain": [
       "VBox()"
      ]
     },
     "metadata": {},
     "output_type": "display_data"
    },
    {
     "name": "stdout",
     "output_type": "stream",
     "text": [
      "Starting Spark application\n"
     ]
    },
    {
     "data": {
      "text/html": [
       "<table>\n",
       "<tr><th>ID</th><th>YARN Application ID</th><th>Kind</th><th>State</th><th>Spark UI</th><th>Driver log</th><th>Current session?</th></tr><tr><td>2</td><td>application_1588749333705_0003</td><td>pyspark</td><td>idle</td><td><a target=\"_blank\" href=\"http://ip-172-31-86-114.ec2.internal:20888/proxy/application_1588749333705_0003/\">Link</a></td><td><a target=\"_blank\" href=\"http://ip-172-31-90-3.ec2.internal:8042/node/containerlogs/container_1588749333705_0003_01_000001/livy\">Link</a></td><td>✔</td></tr></table>"
      ],
      "text/plain": [
       "<IPython.core.display.HTML object>"
      ]
     },
     "metadata": {},
     "output_type": "display_data"
    },
    {
     "data": {
      "application/vnd.jupyter.widget-view+json": {
       "model_id": "",
       "version_major": 2,
       "version_minor": 0
      },
      "text/plain": [
       "FloatProgress(value=0.0, bar_style='info', description='Progress:', layout=Layout(height='25px', width='50%'),…"
      ]
     },
     "metadata": {},
     "output_type": "display_data"
    },
    {
     "name": "stdout",
     "output_type": "stream",
     "text": [
      "SparkSession available as 'spark'.\n"
     ]
    },
    {
     "data": {
      "application/vnd.jupyter.widget-view+json": {
       "model_id": "",
       "version_major": 2,
       "version_minor": 0
      },
      "text/plain": [
       "FloatProgress(value=0.0, bar_style='info', description='Progress:', layout=Layout(height='25px', width='50%'),…"
      ]
     },
     "metadata": {},
     "output_type": "display_data"
    },
    {
     "name": "stdout",
     "output_type": "stream",
     "text": [
      "Collecting matplotlib==3.2.1\n",
      "  Using cached matplotlib-3.2.1-cp36-cp36m-manylinux1_x86_64.whl (12.4 MB)\n",
      "Collecting pyparsing!=2.0.4,!=2.1.2,!=2.1.6,>=2.0.1\n",
      "  Using cached pyparsing-2.4.7-py2.py3-none-any.whl (67 kB)\n",
      "Requirement already satisfied: numpy>=1.11 in /usr/local/lib64/python3.6/site-packages (from matplotlib==3.2.1) (1.14.5)\n",
      "Collecting python-dateutil>=2.1\n",
      "  Using cached python_dateutil-2.8.1-py2.py3-none-any.whl (227 kB)\n",
      "Collecting kiwisolver>=1.0.1\n",
      "  Using cached kiwisolver-1.2.0-cp36-cp36m-manylinux1_x86_64.whl (88 kB)\n",
      "Collecting cycler>=0.10\n",
      "  Using cached cycler-0.10.0-py2.py3-none-any.whl (6.5 kB)\n",
      "Requirement already satisfied: six>=1.5 in /usr/local/lib/python3.6/site-packages (from python-dateutil>=2.1->matplotlib==3.2.1) (1.13.0)\n",
      "Installing collected packages: pyparsing, python-dateutil, kiwisolver, cycler, matplotlib\n",
      "Successfully installed cycler-0.10.0 kiwisolver-1.2.0 matplotlib-3.2.1 pyparsing-2.4.7 python-dateutil-2.8.1\n",
      "\n",
      "Collecting pandas==1.0.3\n",
      "  Using cached pandas-1.0.3-cp36-cp36m-manylinux1_x86_64.whl (10.0 MB)\n",
      "Requirement already satisfied: python-dateutil>=2.6.1 in /mnt/tmp/1589406452357-0/lib/python3.6/site-packages (from pandas==1.0.3) (2.8.1)\n",
      "Requirement already satisfied: numpy>=1.13.3 in /usr/local/lib64/python3.6/site-packages (from pandas==1.0.3) (1.14.5)\n",
      "Requirement already satisfied: pytz>=2017.2 in /usr/local/lib/python3.6/site-packages (from pandas==1.0.3) (2019.3)\n",
      "Requirement already satisfied: six>=1.5 in /usr/local/lib/python3.6/site-packages (from python-dateutil>=2.6.1->pandas==1.0.3) (1.13.0)\n",
      "Installing collected packages: pandas\n",
      "Successfully installed pandas-1.0.3\n",
      "\n",
      "Collecting seaborn==0.10.0\n",
      "  Using cached seaborn-0.10.0-py3-none-any.whl (215 kB)\n",
      "Collecting scipy>=1.0.1\n",
      "  Using cached scipy-1.4.1-cp36-cp36m-manylinux1_x86_64.whl (26.1 MB)\n",
      "Requirement already satisfied: matplotlib>=2.1.2 in /mnt/tmp/1589406452357-0/lib64/python3.6/site-packages (from seaborn==0.10.0) (3.2.1)\n",
      "Requirement already satisfied: numpy>=1.13.3 in /usr/local/lib64/python3.6/site-packages (from seaborn==0.10.0) (1.14.5)\n",
      "Requirement already satisfied: pandas>=0.22.0 in /mnt/tmp/1589406452357-0/lib64/python3.6/site-packages (from seaborn==0.10.0) (1.0.3)\n",
      "Requirement already satisfied: pyparsing!=2.0.4,!=2.1.2,!=2.1.6,>=2.0.1 in /mnt/tmp/1589406452357-0/lib/python3.6/site-packages (from matplotlib>=2.1.2->seaborn==0.10.0) (2.4.7)\n",
      "Requirement already satisfied: python-dateutil>=2.1 in /mnt/tmp/1589406452357-0/lib/python3.6/site-packages (from matplotlib>=2.1.2->seaborn==0.10.0) (2.8.1)\n",
      "Requirement already satisfied: kiwisolver>=1.0.1 in /mnt/tmp/1589406452357-0/lib64/python3.6/site-packages (from matplotlib>=2.1.2->seaborn==0.10.0) (1.2.0)\n",
      "Requirement already satisfied: cycler>=0.10 in /mnt/tmp/1589406452357-0/lib/python3.6/site-packages (from matplotlib>=2.1.2->seaborn==0.10.0) (0.10.0)\n",
      "Requirement already satisfied: pytz>=2017.2 in /usr/local/lib/python3.6/site-packages (from pandas>=0.22.0->seaborn==0.10.0) (2019.3)\n",
      "Requirement already satisfied: six>=1.5 in /usr/local/lib/python3.6/site-packages (from python-dateutil>=2.1->matplotlib>=2.1.2->seaborn==0.10.0) (1.13.0)\n",
      "Installing collected packages: scipy, seaborn\n",
      "Successfully installed scipy-1.4.1 seaborn-0.10.0\n",
      "\n",
      "Collecting numpy==1.18.4\n",
      "  Using cached numpy-1.18.4-cp36-cp36m-manylinux1_x86_64.whl (20.2 MB)\n",
      "Installing collected packages: numpy\n",
      "  Attempting uninstall: numpy\n",
      "    Found existing installation: numpy 1.14.5\n",
      "    Not uninstalling numpy at /usr/local/lib64/python3.6/site-packages, outside environment /tmp/1589406452357-0\n",
      "    Can't uninstall 'numpy'. No files were found to uninstall.\n",
      "Successfully installed numpy-1.18.4\n",
      "\n",
      "Processing /mnt/var/lib/livy/.cache/pip/wheels/84/30/e3/c51c5cd0229631e662d29d7b578a3e5949a4c8db033ffb70aa/pyspark-2.4.5-py2.py3-none-any.whl\n",
      "Collecting py4j==0.10.7\n",
      "  Using cached py4j-0.10.7-py2.py3-none-any.whl (197 kB)\n",
      "Installing collected packages: py4j, pyspark\n",
      "Successfully installed py4j-0.10.7 pyspark-2.4.5\n",
      "\n",
      "Collecting ipython==7.14.0\n",
      "  Using cached ipython-7.14.0-py3-none-any.whl (782 kB)\n",
      "Collecting traitlets>=4.2\n",
      "  Using cached traitlets-4.3.3-py2.py3-none-any.whl (75 kB)\n",
      "Collecting pexpect; sys_platform != \"win32\"\n",
      "  Using cached pexpect-4.8.0-py2.py3-none-any.whl (59 kB)\n",
      "Collecting decorator\n",
      "  Using cached decorator-4.4.2-py2.py3-none-any.whl (9.2 kB)\n",
      "Collecting pygments\n",
      "  Using cached Pygments-2.6.1-py3-none-any.whl (914 kB)\n",
      "Collecting pickleshare\n",
      "  Using cached pickleshare-0.7.5-py2.py3-none-any.whl (6.9 kB)\n",
      "Processing /mnt/var/lib/livy/.cache/pip/wheels/b4/cb/f1/d142b3bb45d488612cf3943d8a1db090eb95e6687045ba61d1/backcall-0.1.0-py3-none-any.whl\n",
      "Collecting prompt-toolkit!=3.0.0,!=3.0.1,<3.1.0,>=2.0.0\n",
      "  Using cached prompt_toolkit-3.0.5-py3-none-any.whl (351 kB)\n",
      "Requirement already satisfied: setuptools>=18.5 in /mnt/tmp/1589406452357-0/lib/python3.6/site-packages (from ipython==7.14.0) (46.3.0)\n",
      "Collecting jedi>=0.10\n",
      "  Using cached jedi-0.17.0-py2.py3-none-any.whl (1.1 MB)\n",
      "Collecting ipython-genutils\n",
      "  Using cached ipython_genutils-0.2.0-py2.py3-none-any.whl (26 kB)\n",
      "Requirement already satisfied: six in /usr/local/lib/python3.6/site-packages (from traitlets>=4.2->ipython==7.14.0) (1.13.0)\n",
      "Collecting ptyprocess>=0.5\n",
      "  Using cached ptyprocess-0.6.0-py2.py3-none-any.whl (39 kB)\n",
      "Collecting wcwidth\n",
      "  Using cached wcwidth-0.1.9-py2.py3-none-any.whl (19 kB)\n",
      "Collecting parso>=0.7.0\n",
      "  Using cached parso-0.7.0-py2.py3-none-any.whl (100 kB)\n",
      "Installing collected packages: ipython-genutils, decorator, traitlets, ptyprocess, pexpect, pygments, pickleshare, backcall, wcwidth, prompt-toolkit, parso, jedi, ipython\n",
      "Successfully installed backcall-0.1.0 decorator-4.4.2 ipython-7.14.0 ipython-genutils-0.2.0 jedi-0.17.0 parso-0.7.0 pexpect-4.8.0 pickleshare-0.7.5 prompt-toolkit-3.0.5 ptyprocess-0.6.0 pygments-2.6.1 traitlets-4.3.3 wcwidth-0.1.9\n",
      "\n",
      "Processing /mnt/var/lib/livy/.cache/pip/wheels/19/20/58/cc9bc70361c517120ee83bbc4ecc35bafc5e1bfa3e9c8e93bc/subprocess.run-0.0.8-py3-none-any.whl\n",
      "Installing collected packages: subprocess.run\n",
      "Successfully installed subprocess.run-0.0.8\n",
      "\n",
      "\n",
      "\n",
      "\n",
      "ERROR: keras-applications 1.0.6 requires h5py, which is not installed.\n",
      "ERROR: python36-sagemaker-pyspark 1.2.6 requires pyspark==2.3.2, which is not installed.\n",
      "\n",
      "ERROR: python36-sagemaker-pyspark 1.2.6 has requirement pyspark==2.3.2, but you'll have pyspark 2.4.5 which is incompatible."
     ]
    }
   ],
   "source": [
    "sc.install_pypi_package(\"matplotlib==3.2.1\")\n",
    "sc.install_pypi_package(\"pandas==1.0.3\")\n",
    "sc.install_pypi_package(\"seaborn==0.10.0\")\n",
    "sc.install_pypi_package(\"numpy==1.18.4\")\n",
    "sc.install_pypi_package(\"pyspark==2.4.5\")\n",
    "sc.install_pypi_package(\"ipython==7.14.0\")\n",
    "sc.install_pypi_package(\"subprocess.run==0.0.8\")"
   ]
  },
  {
   "cell_type": "markdown",
   "metadata": {},
   "source": [
    "# Importing"
   ]
  },
  {
   "cell_type": "code",
   "execution_count": 2,
   "metadata": {
    "scrolled": true
   },
   "outputs": [
    {
     "data": {
      "application/vnd.jupyter.widget-view+json": {
       "model_id": "dd962c27af614b8f9c8fecb8752c108d",
       "version_major": 2,
       "version_minor": 0
      },
      "text/plain": [
       "VBox()"
      ]
     },
     "metadata": {},
     "output_type": "display_data"
    },
    {
     "data": {
      "application/vnd.jupyter.widget-view+json": {
       "model_id": "",
       "version_major": 2,
       "version_minor": 0
      },
      "text/plain": [
       "FloatProgress(value=0.0, bar_style='info', description='Progress:', layout=Layout(height='25px', width='50%'),…"
      ]
     },
     "metadata": {},
     "output_type": "display_data"
    }
   ],
   "source": [
    "from IPython import display \n",
    "import matplotlib.pyplot as plt\n",
    "import seaborn as sns\n",
    "import numpy as np \n",
    "import pandas as pd\n",
    "from pyspark import *"
   ]
  },
  {
   "cell_type": "code",
   "execution_count": 3,
   "metadata": {},
   "outputs": [
    {
     "data": {
      "application/vnd.jupyter.widget-view+json": {
       "model_id": "de6e3d02a15142d0af435aa2f4854e00",
       "version_major": 2,
       "version_minor": 0
      },
      "text/plain": [
       "VBox()"
      ]
     },
     "metadata": {},
     "output_type": "display_data"
    },
    {
     "data": {
      "application/vnd.jupyter.widget-view+json": {
       "model_id": "",
       "version_major": 2,
       "version_minor": 0
      },
      "text/plain": [
       "FloatProgress(value=0.0, bar_style='info', description='Progress:', layout=Layout(height='25px', width='50%'),…"
      ]
     },
     "metadata": {},
     "output_type": "display_data"
    },
    {
     "name": "stdout",
     "output_type": "stream",
     "text": [
      "Package                    Version\n",
      "-------------------------- -------\n",
      "absl-py                    0.8.1\n",
      "astor                      0.8.0\n",
      "backcall                   0.1.0\n",
      "beautifulsoup4             4.8.1\n",
      "bleach                     3.1.0\n",
      "boto                       2.49.0\n",
      "cycler                     0.10.0\n",
      "decorator                  4.4.2\n",
      "funcsigs                   1.0.2\n",
      "gast                       0.3.2\n",
      "google-pasta               0.1.7\n",
      "grpcio                     1.24.3\n",
      "html5lib                   1.0.1\n",
      "ipython                    7.14.0\n",
      "ipython-genutils           0.2.0\n",
      "jedi                       0.17.0\n",
      "jmespath                   0.9.4\n",
      "Keras-Applications         1.0.6\n",
      "Keras-Preprocessing        1.0.5\n",
      "kiwisolver                 1.2.0\n",
      "lxml                       4.4.2\n",
      "Markdown                   3.1.1\n",
      "matplotlib                 3.2.1\n",
      "mysqlclient                1.4.6\n",
      "nltk                       3.4.5\n",
      "nose                       1.3.4\n",
      "numpy                      1.18.4\n",
      "pandas                     1.0.3\n",
      "parso                      0.7.0\n",
      "pexpect                    4.8.0\n",
      "pickleshare                0.7.5\n",
      "pip                        20.1\n",
      "prompt-toolkit             3.0.5\n",
      "protobuf                   3.10.0\n",
      "ptyprocess                 0.6.0\n",
      "py-dateutil                2.2\n",
      "py4j                       0.10.7\n",
      "Pygments                   2.6.1\n",
      "pyparsing                  2.4.7\n",
      "pyspark                    2.4.5\n",
      "python-dateutil            2.8.1\n",
      "python36-sagemaker-pyspark 1.2.6\n",
      "pytz                       2019.3\n",
      "PyYAML                     3.11\n",
      "scipy                      1.4.1\n",
      "seaborn                    0.10.0\n",
      "setuptools                 46.3.0\n",
      "six                        1.13.0\n",
      "soupsieve                  1.9.5\n",
      "subprocess.run             0.0.8\n",
      "tensorboard                1.14.0\n",
      "tensorflow                 1.14.0\n",
      "tensorflow-estimator       1.14.0\n",
      "termcolor                  1.1.0\n",
      "traitlets                  4.3.3\n",
      "wcwidth                    0.1.9\n",
      "webencodings               0.5.1\n",
      "Werkzeug                   0.16.0\n",
      "wheel                      0.34.2\n",
      "windmill                   1.6\n",
      "wrapt                      1.11.2"
     ]
    }
   ],
   "source": [
    "sc.list_packages()"
   ]
  },
  {
   "cell_type": "markdown",
   "metadata": {},
   "source": [
    "# Loading Data"
   ]
  },
  {
   "cell_type": "code",
   "execution_count": 4,
   "metadata": {},
   "outputs": [
    {
     "data": {
      "application/vnd.jupyter.widget-view+json": {
       "model_id": "b3b2173681a149ccb48aabb2864915b7",
       "version_major": 2,
       "version_minor": 0
      },
      "text/plain": [
       "VBox()"
      ]
     },
     "metadata": {},
     "output_type": "display_data"
    },
    {
     "data": {
      "application/vnd.jupyter.widget-view+json": {
       "model_id": "",
       "version_major": 2,
       "version_minor": 0
      },
      "text/plain": [
       "FloatProgress(value=0.0, bar_style='info', description='Progress:', layout=Layout(height='25px', width='50%'),…"
      ]
     },
     "metadata": {},
     "output_type": "display_data"
    }
   ],
   "source": [
    "business = spark.read.json(\"s3://my-little-pony/yelp/yelp_academic_dataset_business.json\")"
   ]
  },
  {
   "cell_type": "markdown",
   "metadata": {},
   "source": [
    "# Overview of Data"
   ]
  },
  {
   "cell_type": "code",
   "execution_count": 5,
   "metadata": {},
   "outputs": [
    {
     "data": {
      "application/vnd.jupyter.widget-view+json": {
       "model_id": "3809dd6b19e2406594475d969ea4b795",
       "version_major": 2,
       "version_minor": 0
      },
      "text/plain": [
       "VBox()"
      ]
     },
     "metadata": {},
     "output_type": "display_data"
    },
    {
     "data": {
      "application/vnd.jupyter.widget-view+json": {
       "model_id": "",
       "version_major": 2,
       "version_minor": 0
      },
      "text/plain": [
       "FloatProgress(value=0.0, bar_style='info', description='Progress:', layout=Layout(height='25px', width='50%'),…"
      ]
     },
     "metadata": {},
     "output_type": "display_data"
    },
    {
     "name": "stdout",
     "output_type": "stream",
     "text": [
      "Columns:14 | Rows:209393"
     ]
    }
   ],
   "source": [
    "iv = {'columns': len(business.columns), 'rows': business.count()}\n",
    "print(f\"Columns:{iv['columns']} | Rows:{iv['rows']}\")"
   ]
  },
  {
   "cell_type": "code",
   "execution_count": 6,
   "metadata": {
    "scrolled": false
   },
   "outputs": [
    {
     "data": {
      "application/vnd.jupyter.widget-view+json": {
       "model_id": "b76e474f583745b582e4504186937e3d",
       "version_major": 2,
       "version_minor": 0
      },
      "text/plain": [
       "VBox()"
      ]
     },
     "metadata": {},
     "output_type": "display_data"
    },
    {
     "data": {
      "application/vnd.jupyter.widget-view+json": {
       "model_id": "",
       "version_major": 2,
       "version_minor": 0
      },
      "text/plain": [
       "FloatProgress(value=0.0, bar_style='info', description='Progress:', layout=Layout(height='25px', width='50%'),…"
      ]
     },
     "metadata": {},
     "output_type": "display_data"
    },
    {
     "name": "stdout",
     "output_type": "stream",
     "text": [
      "root\n",
      " |-- address: string (nullable = true)\n",
      " |-- attributes: struct (nullable = true)\n",
      " |    |-- AcceptsInsurance: string (nullable = true)\n",
      " |    |-- AgesAllowed: string (nullable = true)\n",
      " |    |-- Alcohol: string (nullable = true)\n",
      " |    |-- Ambience: string (nullable = true)\n",
      " |    |-- BYOB: string (nullable = true)\n",
      " |    |-- BYOBCorkage: string (nullable = true)\n",
      " |    |-- BestNights: string (nullable = true)\n",
      " |    |-- BikeParking: string (nullable = true)\n",
      " |    |-- BusinessAcceptsBitcoin: string (nullable = true)\n",
      " |    |-- BusinessAcceptsCreditCards: string (nullable = true)\n",
      " |    |-- BusinessParking: string (nullable = true)\n",
      " |    |-- ByAppointmentOnly: string (nullable = true)\n",
      " |    |-- Caters: string (nullable = true)\n",
      " |    |-- CoatCheck: string (nullable = true)\n",
      " |    |-- Corkage: string (nullable = true)\n",
      " |    |-- DietaryRestrictions: string (nullable = true)\n",
      " |    |-- DogsAllowed: string (nullable = true)\n",
      " |    |-- DriveThru: string (nullable = true)\n",
      " |    |-- GoodForDancing: string (nullable = true)\n",
      " |    |-- GoodForKids: string (nullable = true)\n",
      " |    |-- GoodForMeal: string (nullable = true)\n",
      " |    |-- HairSpecializesIn: string (nullable = true)\n",
      " |    |-- HappyHour: string (nullable = true)\n",
      " |    |-- HasTV: string (nullable = true)\n",
      " |    |-- Music: string (nullable = true)\n",
      " |    |-- NoiseLevel: string (nullable = true)\n",
      " |    |-- Open24Hours: string (nullable = true)\n",
      " |    |-- OutdoorSeating: string (nullable = true)\n",
      " |    |-- RestaurantsAttire: string (nullable = true)\n",
      " |    |-- RestaurantsCounterService: string (nullable = true)\n",
      " |    |-- RestaurantsDelivery: string (nullable = true)\n",
      " |    |-- RestaurantsGoodForGroups: string (nullable = true)\n",
      " |    |-- RestaurantsPriceRange2: string (nullable = true)\n",
      " |    |-- RestaurantsReservations: string (nullable = true)\n",
      " |    |-- RestaurantsTableService: string (nullable = true)\n",
      " |    |-- RestaurantsTakeOut: string (nullable = true)\n",
      " |    |-- Smoking: string (nullable = true)\n",
      " |    |-- WheelchairAccessible: string (nullable = true)\n",
      " |    |-- WiFi: string (nullable = true)\n",
      " |-- business_id: string (nullable = true)\n",
      " |-- categories: string (nullable = true)\n",
      " |-- city: string (nullable = true)\n",
      " |-- hours: struct (nullable = true)\n",
      " |    |-- Friday: string (nullable = true)\n",
      " |    |-- Monday: string (nullable = true)\n",
      " |    |-- Saturday: string (nullable = true)\n",
      " |    |-- Sunday: string (nullable = true)\n",
      " |    |-- Thursday: string (nullable = true)\n",
      " |    |-- Tuesday: string (nullable = true)\n",
      " |    |-- Wednesday: string (nullable = true)\n",
      " |-- is_open: long (nullable = true)\n",
      " |-- latitude: double (nullable = true)\n",
      " |-- longitude: double (nullable = true)\n",
      " |-- name: string (nullable = true)\n",
      " |-- postal_code: string (nullable = true)\n",
      " |-- review_count: long (nullable = true)\n",
      " |-- stars: double (nullable = true)\n",
      " |-- state: string (nullable = true)"
     ]
    }
   ],
   "source": [
    "business.printSchema()"
   ]
  },
  {
   "cell_type": "code",
   "execution_count": 8,
   "metadata": {},
   "outputs": [
    {
     "data": {
      "application/vnd.jupyter.widget-view+json": {
       "model_id": "52efb0f4d96e457cbd75ecc40fedc2ae",
       "version_major": 2,
       "version_minor": 0
      },
      "text/plain": [
       "VBox()"
      ]
     },
     "metadata": {},
     "output_type": "display_data"
    },
    {
     "data": {
      "application/vnd.jupyter.widget-view+json": {
       "model_id": "",
       "version_major": 2,
       "version_minor": 0
      },
      "text/plain": [
       "FloatProgress(value=0.0, bar_style='info', description='Progress:', layout=Layout(height='25px', width='50%'),…"
      ]
     },
     "metadata": {},
     "output_type": "display_data"
    },
    {
     "name": "stdout",
     "output_type": "stream",
     "text": [
      "+--------------------+-----+-----+--------------------+--------------------+\n",
      "|                name|state|stars|          categories|         business_id|\n",
      "+--------------------+-----+-----+--------------------+--------------------+\n",
      "|The Range At Lake...|   NC|  3.5|Active Life, Gun/...|f9NumwFMBDn751xgF...|\n",
      "|   Carlos Santo, NMD|   AZ|  5.0|Health & Medical,...|Yzvjg0SayhoZgCljU...|\n",
      "|             Felinus|   QC|  5.0|Pets, Pet Service...|XNoUzKckATkOD1hP6...|\n",
      "|Nevada House of Hose|   NV|  2.5|Hardware Stores, ...|6OAZjbxqM5ol29BuH...|\n",
      "|USE MY GUY SERVIC...|   AZ|  4.5|Home Services, Pl...|51M2Kk903DFYI6gnB...|\n",
      "+--------------------+-----+-----+--------------------+--------------------+"
     ]
    }
   ],
   "source": [
    "business.createOrReplaceTempView(\"biz\")\n",
    "biz = spark.sql(\"\"\" \n",
    "SELECT \\\n",
    "name,  \n",
    "state, \n",
    "stars, \n",
    "categories,\n",
    "business_id\n",
    "FROM biz limit 5\"\"\")\n",
    "biz.show()"
   ]
  },
  {
   "cell_type": "markdown",
   "metadata": {},
   "source": [
    "# Analyzing Categories\n",
    "Let's now answer this question: how many unique categories are represented in this dataset?\n",
    "\n",
    "Essentially, we have the categories per business as a list - this is useful to quickly see what each business might be represented as but it is difficult to easily answer questions such as:\n",
    "\n",
    "How many businesses are categorized as Active Life, for instance\n",
    "What are the top 20 most popular categories available?\n",
    "\n",
    "## Association Table\n",
    "\n",
    "We need to \"break out\" these categories from the business ids? One common approach to take is to build an association table mapping a single business id multiple times to each distinct category.\n",
    "\n",
    "What this does is allow us to then perform a myriad of rollups and other analysis on this association table which can aid us in answering the questions asked above.\n",
    "\n",
    "Implement the code necessary to derive the table described from your original yelp dataframe.\n",
    "\n",
    "\n",
    "### Total Unique Categories\n",
    "what is the total number of unique categories available?\n",
    "\n",
    "### Top  Business Categories"
   ]
  },
  {
   "cell_type": "code",
   "execution_count": 387,
   "metadata": {},
   "outputs": [
    {
     "data": {
      "application/vnd.jupyter.widget-view+json": {
       "model_id": "64d5475e716741f591cec768740a0346",
       "version_major": 2,
       "version_minor": 0
      },
      "text/plain": [
       "VBox()"
      ]
     },
     "metadata": {},
     "output_type": "display_data"
    },
    {
     "data": {
      "application/vnd.jupyter.widget-view+json": {
       "model_id": "",
       "version_major": 2,
       "version_minor": 0
      },
      "text/plain": [
       "FloatProgress(value=0.0, bar_style='info', description='Progress:', layout=Layout(height='25px', width='50%'),…"
      ]
     },
     "metadata": {},
     "output_type": "display_data"
    },
    {
     "name": "stdout",
     "output_type": "stream",
     "text": [
      "+--------------------+-----------------+--------------------+\n",
      "|         business_id|              col|          categories|\n",
      "+--------------------+-----------------+--------------------+\n",
      "|f9NumwFMBDn751xgF...|      Active Life|Active Life, Gun/...|\n",
      "|f9NumwFMBDn751xgF...| Gun/Rifle Ranges|Active Life, Gun/...|\n",
      "|f9NumwFMBDn751xgF...|      Guns & Ammo|Active Life, Gun/...|\n",
      "|f9NumwFMBDn751xgF...|         Shopping|Active Life, Gun/...|\n",
      "+--------------------+-----------------+--------------------+\n",
      "only showing top 4 rows\n",
      "\n",
      "+--------------------+-----+\n",
      "|            Category|count|\n",
      "+--------------------+-----+\n",
      "|         Restaurants|44488|\n",
      "|            Shopping|26128|\n",
      "|                Food|24452|\n",
      "|         Restaurants|19456|\n",
      "|       Home Services|16205|\n",
      "|       Beauty & Spas|14216|\n",
      "|    Health & Medical|13978|\n",
      "|      Local Services|11958|\n",
      "|           Nightlife|11415|\n",
      "|                Bars|10201|\n",
      "|          Automotive|10063|\n",
      "| Event Planning &...| 8911|\n",
      "|                Food| 8539|\n",
      "|            Shopping| 8516|\n",
      "|         Active Life| 7771|\n",
      "|             Fashion| 6628|\n",
      "|       Beauty & Spas| 6304|\n",
      "|       Home Services| 6282|\n",
      "|        Coffee & Tea| 6257|\n",
      "|          Sandwiches| 6132|\n",
      "+--------------------+-----+\n",
      "only showing top 20 rows\n",
      "\n",
      "There is a total of  {2528}  Unique Categories"
     ]
    }
   ],
   "source": [
    "query = \"\"\"\n",
    "SELECT \n",
    "business_id,\n",
    "explode(split(categories, ',')),\n",
    "categories\n",
    "FROM biz\"\"\"\n",
    "\n",
    "bizcat = spark.sql(query)\n",
    "bizcat.show(4)\n",
    "\n",
    "tmp = bizcat.drop(\"categories\")\\\n",
    "            .withColumnRenamed('business_id', 'ID')\\\n",
    "            .withColumnRenamed('col', 'Category')\n",
    "\n",
    "categories = tmp.groupBy(\"Category\").count()\n",
    "categories = categories.sort(\"count\", ascending = False)\n",
    "categories.show(20)\n",
    "\n",
    "pdf=categories.toPandas()\n",
    "\n",
    "pdf.head(10).plot(x='Category', \n",
    "                 y='count', \n",
    "                 kind='barh',\n",
    "                 stacked = True,\n",
    "                 colormap='OrRd', \n",
    "                 fontsize = 5.5, \n",
    "                figsize = (5, 6), \n",
    "                  align=\"center\")\n",
    "plt.title(\"Top Business Categories\")\n",
    "\n",
    "print(\"There is a total of \", {categories.count()}, \" Unique Categories\")"
   ]
  },
  {
   "cell_type": "code",
   "execution_count": 388,
   "metadata": {
    "scrolled": false
   },
   "outputs": [
    {
     "data": {
      "application/vnd.jupyter.widget-view+json": {
       "model_id": "",
       "version_major": 2,
       "version_minor": 0
      },
      "text/plain": [
       "FloatProgress(value=0.0, bar_style='info', description='Progress:', layout=Layout(height='25px', width='50%'),…"
      ]
     },
     "metadata": {},
     "output_type": "display_data"
    },
    {
     "data": {
      "image/png": "[encoded data removed]",
      "text/plain": [
       "<IPython.core.display.Image object>"
      ]
     },
     "metadata": {},
     "output_type": "display_data"
    }
   ],
   "source": [
    "%matplot plt"
   ]
  },
  {
   "cell_type": "markdown",
   "metadata": {},
   "source": [
    "# Do Yelp Reviews Skew Negative?\n",
    "Oftentimes, it is said that the only people who write a written review are those who are extremely dissatisfied or extremely satisfied with the service received.\n",
    "\n",
    "How true is this really? Let's try and answer this question.\n",
    "\n",
    "Loading User Data\n",
    "Begin by loading the user data set from S3 and printing schema to determine what data is available."
   ]
  },
  {
   "cell_type": "code",
   "execution_count": 586,
   "metadata": {},
   "outputs": [
    {
     "data": {
      "application/vnd.jupyter.widget-view+json": {
       "model_id": "7f0ed7f504c844dcaf8038b1a5438850",
       "version_major": 2,
       "version_minor": 0
      },
      "text/plain": [
       "VBox()"
      ]
     },
     "metadata": {},
     "output_type": "display_data"
    },
    {
     "data": {
      "application/vnd.jupyter.widget-view+json": {
       "model_id": "",
       "version_major": 2,
       "version_minor": 0
      },
      "text/plain": [
       "FloatProgress(value=0.0, bar_style='info', description='Progress:', layout=Layout(height='25px', width='50%'),…"
      ]
     },
     "metadata": {},
     "output_type": "display_data"
    },
    {
     "name": "stdout",
     "output_type": "stream",
     "text": [
      "['business_id', 'stars', 'review_id', 'user_id', 'text']"
     ]
    }
   ],
   "source": [
    "review = spark.read.load('s3://my-little-pony/yelp/reviews.json', \n",
    "                         format='json'\n",
    "                        ).select(\"business_id\", \n",
    "                                 \"stars\", \n",
    "                                 \"review_id\", \n",
    "                                 \"user_id\", \n",
    "                                 \"text\")\n",
    "business = spark.read.load('s3://my-little-pony/yelp/yelp_academic_dataset_business.json', \n",
    "                           format = 'json'\n",
    "                          ).select(\"business_id\", \n",
    "                                   \"stars\")\n",
    "review.columns"
   ]
  },
  {
   "cell_type": "code",
   "execution_count": 389,
   "metadata": {},
   "outputs": [
    {
     "data": {
      "application/vnd.jupyter.widget-view+json": {
       "model_id": "fb320cf199ee46a189cebdc1fd13cae4",
       "version_major": 2,
       "version_minor": 0
      },
      "text/plain": [
       "VBox()"
      ]
     },
     "metadata": {},
     "output_type": "display_data"
    },
    {
     "data": {
      "application/vnd.jupyter.widget-view+json": {
       "model_id": "",
       "version_major": 2,
       "version_minor": 0
      },
      "text/plain": [
       "FloatProgress(value=0.0, bar_style='info', description='Progress:', layout=Layout(height='25px', width='50%'),…"
      ]
     },
     "metadata": {},
     "output_type": "display_data"
    },
    {
     "name": "stdout",
     "output_type": "stream",
     "text": [
      "+--------------------+------------------+\n",
      "|         business_id|         avgRating|\n",
      "+--------------------+------------------+\n",
      "|VHsNB3pdGVcRgs6C3...| 3.411764705882353|\n",
      "|RMjCnixEY5i12Ciqn...|3.5316455696202533|\n",
      "|vQGZjrDiDBuznOkUe...| 4.454545454545454|\n",
      "|vyu1WGlnHGv2Z2MVE...|               5.0|\n",
      "|r-W1HPIZ3V6S2DaXh...| 4.852459016393443|\n",
      "+--------------------+------------------+\n",
      "only showing top 5 rows\n",
      "\n",
      "+--------------------+------------------+\n",
      "|             user_id|         avgRating|\n",
      "+--------------------+------------------+\n",
      "|KWFiZKiZBANVxuhm4...| 4.142857142857143|\n",
      "|VmYpF5C3GL-7wFnvO...|               3.6|\n",
      "|1Dul59QEe-Q-7OQHT...|              3.75|\n",
      "|xS6kmkMXp0PRrFwkS...|3.9473684210526314|\n",
      "|j56G3m8vYtA_2Io6F...|              4.25|\n",
      "+--------------------+------------------+\n",
      "only showing top 5 rows\n",
      "\n",
      "+--------------------+-----------+\n",
      "|                 BID|TotalRating|\n",
      "+--------------------+-----------+\n",
      "|M_guz7Dj7hX0evS67...|        3.5|\n",
      "|oqbNgOBAxsa49c2WQ...|        3.5|\n",
      "|2BKKUjLSocdlgfsMC...|        5.0|\n",
      "|DloBjCZHlz0lzsrQJ...|        4.0|\n",
      "|lj0MiK5_fyv9df2tw...|        4.5|\n",
      "+--------------------+-----------+\n",
      "only showing top 5 rows"
     ]
    }
   ],
   "source": [
    "review_sub = review.select(\"business_id\", \"stars\", \"user_id\") \n",
    "review_sub.createOrReplaceTempView(\"review_Bsub_avg\")\n",
    "review_Bsub_avg = review_sub.groupBy(\"business_id\"\n",
    "                                    ).mean(\"stars\"\n",
    "                                          ).withColumnRenamed(\n",
    "    \"avg(stars)\", \n",
    "    \"avgRating\")\n",
    "review_sub.createOrReplaceTempView(\"review_Usub_avg\")\n",
    "review_Usub_avg = review_sub.groupBy(\"user_id\").mean(\"stars\").withColumnRenamed(\"avg(stars)\", \"avgRating\")\n",
    "\n",
    "review_Bsub_avg.show(5)\n",
    "review_Usub_avg.show(5)\n",
    "\n",
    "business.createOrReplaceTempView(\"business_sub_avg\")\n",
    "business_sub_avg = spark.sql(\"\"\"\n",
    "SELECT business_id as BID, \n",
    "avg(stars) as TotalRating\n",
    "FROM biz \n",
    "GROUP BY business_id\"\"\")\n",
    "business_sub_avg.show(5)"
   ]
  },
  {
   "cell_type": "code",
   "execution_count": 386,
   "metadata": {
    "scrolled": false
   },
   "outputs": [
    {
     "data": {
      "application/vnd.jupyter.widget-view+json": {
       "model_id": "c89d3c35c52545a49ab7b24580dcd1ce",
       "version_major": 2,
       "version_minor": 0
      },
      "text/plain": [
       "VBox()"
      ]
     },
     "metadata": {},
     "output_type": "display_data"
    },
    {
     "data": {
      "application/vnd.jupyter.widget-view+json": {
       "model_id": "",
       "version_major": 2,
       "version_minor": 0
      },
      "text/plain": [
       "FloatProgress(value=0.0, bar_style='info', description='Progress:', layout=Layout(height='25px', width='50%'),…"
      ]
     },
     "metadata": {},
     "output_type": "display_data"
    },
    {
     "name": "stdout",
     "output_type": "stream",
     "text": [
      "+-------+------------------+------------------+\n",
      "|summary|      ReviewRating|       TotalRating|\n",
      "+-------+------------------+------------------+\n",
      "|  count|            209393|            209393|\n",
      "|   mean| 3.534304236620265|3.5380552358483808|\n",
      "| stddev|1.0152088475168215|1.0235430346225862|\n",
      "|    min|               1.0|               1.0|\n",
      "|    max|               5.0|               5.0|\n",
      "+-------+------------------+------------------+"
     ]
    }
   ],
   "source": [
    "tbl = review_Bsub_avg.join(business_sub_avg, \n",
    "                           business_sub_avg.BID == review_Bsub_avg.business_id,\n",
    "                           \"full\"\n",
    "                          ).drop('BID'\n",
    "                                ).withColumnRenamed('business_id', \n",
    "                                                    'ID'\n",
    "                                                   ).withColumnRenamed('avgRating', 'ReviewRating')\n",
    "\n",
    "tbl.select(\"ReviewRating\", \"TotalRating\").describe().show()\n"
   ]
  },
  {
   "cell_type": "code",
   "execution_count": 653,
   "metadata": {
    "scrolled": false
   },
   "outputs": [
    {
     "data": {
      "application/vnd.jupyter.widget-view+json": {
       "model_id": "3cb7ca38824446b98bb448be0918986d",
       "version_major": 2,
       "version_minor": 0
      },
      "text/plain": [
       "VBox()"
      ]
     },
     "metadata": {},
     "output_type": "display_data"
    },
    {
     "data": {
      "application/vnd.jupyter.widget-view+json": {
       "model_id": "",
       "version_major": 2,
       "version_minor": 0
      },
      "text/plain": [
       "FloatProgress(value=0.0, bar_style='info', description='Progress:', layout=Layout(height='25px', width='50%'),…"
      ]
     },
     "metadata": {},
     "output_type": "display_data"
    },
    {
     "name": "stdout",
     "output_type": "stream",
     "text": [
      "\n",
      "Are Business and Reviews Average Rating The Same or Skewed?\n",
      "p_value = 0.248\n",
      "actual = 0.003750999228113283\n",
      "ts max = 0.010952332491801275"
     ]
    }
   ],
   "source": [
    "import numpy \n",
    "import scipy.stats\n",
    "import matplotlib.pyplot as plt\n",
    "\n",
    "df = tbl.toPandas()\n",
    "iters == 0\n",
    "g1 = numpy.array(df[\"ReviewRating\"])\n",
    "g2 = numpy.array(df[\"TotalRating\"])\n",
    "data  = (g1, g2 )\n",
    "\n",
    "class DiffMeansPermute(HypothesisTesting): \n",
    "    \n",
    "    def TestStatistic(self, data): \n",
    "        group1, group2 = data \n",
    "        test_stat = abs(group1.mean() - group2.mean())\n",
    "        \n",
    "        return test_stat\n",
    "    \n",
    "    def MakeModel(self): \n",
    "        group1, group2 = self.data \n",
    "        self.n, self.m = len(group1), len(group2)\n",
    "        self.pool = numpy.hstack((group1, group2))\n",
    "        \n",
    "    def RunModel(self): \n",
    "        numpy.random.shuffle(self.pool)\n",
    "        data = self.pool[:self.n], self.pool[self.n:]\n",
    "        return data \n",
    "\n",
    "class HypothesisTesting(object): \n",
    "    \n",
    "    def __init__(self, data): \n",
    "        self.data = data \n",
    "        self.MakeModel() \n",
    "        self.actual = self.TestStatistic(numpy.array(data))\n",
    "        \n",
    "        self.test_stat = None \n",
    "    \n",
    "\n",
    "    def PValue(self, iters): \n",
    "        global count \n",
    "        if iters > 0:\n",
    "            self.test_stat = numpy.array(\n",
    "                [self.TestStatistic(self.RunModel()\n",
    "                                   ) for _ in range(iters)\n",
    "                ]\n",
    "            )\n",
    "                       \n",
    "        return sum(self.test_stat >= self.actual) / len(self.test_stat)\n",
    "    \n",
    "    def MaxTestStat(self):\n",
    "        for _ in range(1, iters):\n",
    "            pass \n",
    "        return max([self.test_stat])            \n",
    "            \n",
    "    def TestStatistic(self, data): \n",
    "        pass\n",
    "        \n",
    "    def MakeModel(self): \n",
    "        pass \n",
    "    \n",
    "    def RunModel(self): \n",
    "        pass \n",
    "\n",
    "ht = DiffMeansPermute(data)\n",
    "p_value = ht.PValue(iters = 1000)\n",
    "\n",
    "print('\\nAre Business and Reviews Average Ratings The Same or Skewed?')\n",
    "print('p_value =', p_value)\n",
    "print('actual =', ht.actual)\n",
    "print('ts max =', max(ht.MaxTestStat()))\n",
    "\n",
    "from numpy import *\n",
    "import scipy.stats as ss\n",
    "import seaborn as sns\n",
    "import matplotlib.pyplot as p\n",
    "stat = ht.test_stat\n",
    "ys, xs, patches = plt.hist(stat, color='#ffff99')\n",
    "x = [xs,xs]\n",
    "X = abs(log10(x))"
   ]
  },
  {
   "cell_type": "code",
   "execution_count": 408,
   "metadata": {},
   "outputs": [
    {
     "data": {
      "application/vnd.jupyter.widget-view+json": {
       "model_id": "f2c38b49697e4bda851bcb1d8023e673",
       "version_major": 2,
       "version_minor": 0
      },
      "text/plain": [
       "VBox()"
      ]
     },
     "metadata": {},
     "output_type": "display_data"
    },
    {
     "data": {
      "application/vnd.jupyter.widget-view+json": {
       "model_id": "",
       "version_major": 2,
       "version_minor": 0
      },
      "text/plain": [
       "FloatProgress(value=0.0, bar_style='info', description='Progress:', layout=Layout(height='25px', width='50%'),…"
      ]
     },
     "metadata": {},
     "output_type": "display_data"
    },
    {
     "data": {
      "image/png": "[encoded data removed]",
      "text/plain": [
       "<IPython.core.display.Image object>"
      ]
     },
     "metadata": {},
     "output_type": "display_data"
    }
   ],
   "source": [
    "sns.distplot(X)\n",
    "plt.title(\"Review Rating vs. Business Rating Mean Difference\", fontsize= 13)\n",
    "plt.suptitle(\"Null Hypothesis:: Review Rating = Business Rating\", fontsize =8)\n",
    "%matplot plt"
   ]
  },
  {
   "cell_type": "code",
   "execution_count": 782,
   "metadata": {},
   "outputs": [
    {
     "data": {
      "application/vnd.jupyter.widget-view+json": {
       "model_id": "0842a075adfc4c0ea9c83f23eceba5e1",
       "version_major": 2,
       "version_minor": 0
      },
      "text/plain": [
       "VBox()"
      ]
     },
     "metadata": {},
     "output_type": "display_data"
    },
    {
     "data": {
      "application/vnd.jupyter.widget-view+json": {
       "model_id": "",
       "version_major": 2,
       "version_minor": 0
      },
      "text/plain": [
       "FloatProgress(value=0.0, bar_style='info', description='Progress:', layout=Layout(height='25px', width='50%'),…"
      ]
     },
     "metadata": {},
     "output_type": "display_data"
    }
   ],
   "source": [
    "plt.clf()"
   ]
  },
  {
   "cell_type": "markdown",
   "metadata": {},
   "source": [
    "# Should the Elite be Trusted? \n",
    "For the final portion - you have a choice:\n",
    "\n",
    "Try and analyze some interesting dimension to this data. The ONLY requirement is that you must use the Users dataset and join on either the business* or reviews** dataset\n",
    "Or, you may try and answer the question posed: how accurate or close are the ratings of an \"elite\" user (check Users table schema) vs the actual business rating.\n",
    "Feel free to use any and all methodologies at your disposal - only requirement is you must render one visualization in your analysis"
   ]
  },
  {
   "cell_type": "code",
   "execution_count": 787,
   "metadata": {},
   "outputs": [
    {
     "data": {
      "application/vnd.jupyter.widget-view+json": {
       "model_id": "13a6b29d549940498b0ee693ffdade67",
       "version_major": 2,
       "version_minor": 0
      },
      "text/plain": [
       "VBox()"
      ]
     },
     "metadata": {},
     "output_type": "display_data"
    },
    {
     "data": {
      "application/vnd.jupyter.widget-view+json": {
       "model_id": "",
       "version_major": 2,
       "version_minor": 0
      },
      "text/plain": [
       "FloatProgress(value=0.0, bar_style='info', description='Progress:', layout=Layout(height='25px', width='50%'),…"
      ]
     },
     "metadata": {},
     "output_type": "display_data"
    },
    {
     "name": "stdout",
     "output_type": "stream",
     "text": [
      "['name', 'ID', 'YRSelite', 'eliteSTAT']"
     ]
    }
   ],
   "source": [
    "# import pyspark.sql.functions as f\n",
    "# \"\"\"\"\"\"\"\"\n",
    "# usr.createOrReplaceTempView(\"csv\")\n",
    "# query = \"\"\"\n",
    "# SELECT *, \n",
    "# explode(split(elite, ',')),\n",
    "# elite\n",
    "# FROM csv\n",
    "# \"\"\"\n",
    "# csv =spark.sql(query)\n",
    "# view = spark.read.load('s3://my-little-pony/yelp/reviews.json', format='json')\n",
    "\n",
    "view.columns\n",
    "# view.show(5)\n",
    "# usr = spark.read.json(\"s3://my-little-pony/yelp/yelp_academic_dataset_user.json\")\n",
    "usr.columns"
   ]
  },
  {
   "cell_type": "code",
   "execution_count": 634,
   "metadata": {},
   "outputs": [
    {
     "data": {
      "application/vnd.jupyter.widget-view+json": {
       "model_id": "ec6cf9bd56044c3a80eff22d8eecbb43",
       "version_major": 2,
       "version_minor": 0
      },
      "text/plain": [
       "VBox()"
      ]
     },
     "metadata": {},
     "output_type": "display_data"
    },
    {
     "data": {
      "application/vnd.jupyter.widget-view+json": {
       "model_id": "",
       "version_major": 2,
       "version_minor": 0
      },
      "text/plain": [
       "FloatProgress(value=0.0, bar_style='info', description='Progress:', layout=Layout(height='25px', width='50%'),…"
      ]
     },
     "metadata": {},
     "output_type": "display_data"
    },
    {
     "name": "stdout",
     "output_type": "stream",
     "text": [
      "+--------+--------------------+----+\n",
      "|    name|                  ID|year|\n",
      "+--------+--------------------+----+\n",
      "|  Rafael|ntlvfPzc8eglqvk92...|    |\n",
      "|Michelle|FOBRPlBHa3WPHFB5q...|2008|\n",
      "|Michelle|FOBRPlBHa3WPHFB5q...|2009|\n",
      "|Michelle|FOBRPlBHa3WPHFB5q...|2010|\n",
      "|Michelle|FOBRPlBHa3WPHFB5q...|2011|\n",
      "|Michelle|FOBRPlBHa3WPHFB5q...|2012|\n",
      "|Michelle|FOBRPlBHa3WPHFB5q...|2013|\n",
      "|  Martin|zZUnPeh2hEp0WydbA...|2010|\n",
      "|    John|QaELAmRcDc5TfJEyl...|2009|\n",
      "|    Anne|xvu8G900tezTzbbfq...|2009|\n",
      "|    Anne|xvu8G900tezTzbbfq...|2010|\n",
      "|    Anne|xvu8G900tezTzbbfq...|2011|\n",
      "|    Anne|xvu8G900tezTzbbfq...|2012|\n",
      "|    Anne|xvu8G900tezTzbbfq...|2014|\n",
      "|    Anne|xvu8G900tezTzbbfq...|2015|\n",
      "|    Anne|xvu8G900tezTzbbfq...|2016|\n",
      "|    Anne|xvu8G900tezTzbbfq...|2017|\n",
      "|    Anne|xvu8G900tezTzbbfq...|2018|\n",
      "|   Steve|z5_82komKV3mI4ASG...|2007|\n",
      "|  Stuart|ttumcu6hWshk_EJVW...|    |\n",
      "+--------+--------------------+----+\n",
      "only showing top 20 rows"
     ]
    }
   ],
   "source": [
    "# usr.createOrReplaceTempView(\"usr\")\n",
    "# query = \"\"\"\n",
    "# SELECT \n",
    "# name,\n",
    "# user_id as ID,\n",
    "# explode(split(elite, ',')),\n",
    "# elite\n",
    "# FROM usr\"\"\"\n",
    "# usr1 = spark.sql(query).withColumnRenamed(\"col\", \"year\").drop(\"elite\")\n",
    "# usr1.show()"
   ]
  },
  {
   "cell_type": "code",
   "execution_count": 784,
   "metadata": {
    "scrolled": false
   },
   "outputs": [
    {
     "data": {
      "application/vnd.jupyter.widget-view+json": {
       "model_id": "f250154ae0af4886af31532afa089edd",
       "version_major": 2,
       "version_minor": 0
      },
      "text/plain": [
       "VBox()"
      ]
     },
     "metadata": {},
     "output_type": "display_data"
    },
    {
     "data": {
      "application/vnd.jupyter.widget-view+json": {
       "model_id": "",
       "version_major": 2,
       "version_minor": 0
      },
      "text/plain": [
       "FloatProgress(value=0.0, bar_style='info', description='Progress:', layout=Layout(height='25px', width='50%'),…"
      ]
     },
     "metadata": {},
     "output_type": "display_data"
    },
    {
     "name": "stdout",
     "output_type": "stream",
     "text": [
      "+--------+--------------------+--------+\n",
      "|    name|                  ID|YRSelite|\n",
      "+--------+--------------------+--------+\n",
      "|  Krista|wjClsIuhEjZN2Olko...|      13|\n",
      "|   David|jX52sZoojxyYV2viW...|      13|\n",
      "|   Ellen|5F_ASUSCHFf3YotkK...|      13|\n",
      "|     Amy|YbZg36FoMgkKcTEPa...|      13|\n",
      "|   Susie|FCTEAWv-QiGr0lfva...|      13|\n",
      "| Cassidy|seAX967Wk8qiVXOYj...|      13|\n",
      "|   Vicky|LPTq2-fZ9_TsG5o8l...|      13|\n",
      "|    Lori|5DgFmyjW6hkBtXtTM...|      13|\n",
      "|     dan|m7mQf4FbNRZ6u1wrH...|      13|\n",
      "|   Anita|nzsv-p1O8gCfP3Xij...|      13|\n",
      "|    Matt|HYQoxBC1y1DGPq6pG...|      13|\n",
      "|Jennifer|Dd6ElS2Cng3Qag_h4...|      13|\n",
      "| Shannon|fyS8H0BNDv5du_X7t...|      13|\n",
      "|   Sarah|8h1r7mXd-H225yDgc...|      13|\n",
      "|  Cassie|2hMNc8G87MGYw4Pom...|      13|\n",
      "|     Hen|JnGtgOPpkjyWOvWM0...|      13|\n",
      "|  Jeremy|nkN_do3fJ9xekchVC...|      13|\n",
      "|    Mary|OGa2q6LvuQLYFUG_R...|      13|\n",
      "|    Lisa|LnZUtFx6qTWs8NV6l...|      13|\n",
      "|    Joan|23J4vG9_xxxdnmi8C...|      13|\n",
      "+--------+--------------------+--------+\n",
      "only showing top 20 rows\n",
      "\n",
      "+------+--------------------+--------+---------+\n",
      "|  name|                  ID|YRSelite|eliteSTAT|\n",
      "+------+--------------------+--------+---------+\n",
      "| Sarah|8h1r7mXd-H225yDgc...|      13|        1|\n",
      "|Jeremy|nkN_do3fJ9xekchVC...|      13|        1|\n",
      "|   Hen|JnGtgOPpkjyWOvWM0...|      13|        1|\n",
      "|  Joan|23J4vG9_xxxdnmi8C...|      13|        1|\n",
      "|  Lisa|LnZUtFx6qTWs8NV6l...|      13|        1|\n",
      "+------+--------------------+--------+---------+\n",
      "only showing top 5 rows"
     ]
    }
   ],
   "source": [
    "usr = usr1.groupBy(\"name\", \"ID\").count().withColumnRenamed('count', 'YRSelite').sort(\"YRSelite\", ascending=False)\n",
    "usr.show(5)\n",
    "\n",
    "usr = usr.withColumn('eliteSTAT', \n",
    "              f.when(usr.YRSelite > 1, 1).otherwise(0))\n",
    "usr.show(5)"
   ]
  },
  {
   "cell_type": "code",
   "execution_count": 761,
   "metadata": {
    "scrolled": true
   },
   "outputs": [
    {
     "data": {
      "application/vnd.jupyter.widget-view+json": {
       "model_id": "38228941d4a34eb992a1d2a7c1dab174",
       "version_major": 2,
       "version_minor": 0
      },
      "text/plain": [
       "VBox()"
      ]
     },
     "metadata": {},
     "output_type": "display_data"
    },
    {
     "data": {
      "application/vnd.jupyter.widget-view+json": {
       "model_id": "",
       "version_major": 2,
       "version_minor": 0
      },
      "text/plain": [
       "FloatProgress(value=0.0, bar_style='info', description='Progress:', layout=Layout(height='25px', width='50%'),…"
      ]
     },
     "metadata": {},
     "output_type": "display_data"
    },
    {
     "name": "stdout",
     "output_type": "stream",
     "text": [
      "+---------+---------+------------------+---------+---------+-------+---------+\n",
      "|eliteSTAT|Years_Num|         Years_Avg|Years_Min|Years_Max|  total|Percent %|\n",
      "+---------+---------+------------------+---------+---------+-------+---------+\n",
      "|        1|    57230|3.7365367814083523|        2|       13|1968703|      3%\n",
      "|\n",
      "|        0|  1911473|               1.0|        1|        1|1968703|     97%\n",
      "|\n",
      "+---------+---------+------------------+---------+---------+-------+---------+"
     ]
    }
   ],
   "source": [
    "from pyspark.sql import functions as f\n",
    "from pyspark.sql.functions import rank, sum, col \n",
    "from pyspark.sql import Window \n",
    "\n",
    "window = Window.rowsBetween(Window.unboundedPreceding, Window.unboundedFollowing)\n",
    "\n",
    "t = usr.select([\"YRSelite\", \"eliteSTAT\"])\\\n",
    "            .groupBy('eliteSTAT')\\\n",
    "            .agg(f.count('YRSelite')\\\n",
    "                 .alias('Years_Num'), \n",
    "                 f.mean('YRSelite')\\\n",
    "                 .alias('Years_Avg'),\n",
    "                 f.min('YRSelite')\\\n",
    "                 .alias('Years_Min'),\n",
    "                 f.max('YRSelite')\\\n",
    "                 .alias('Years_Max'))\\\n",
    ".withColumn('total', sum(col('Years_Num')).over(window))\\\n",
    ".withColumn('Percent %', f.format_string(\"%5.0f%%\\n\", col('Years_Num')*100/col('total')))\n",
    "tab = t.drop('Percent %').withColumn('Percent', col('Years_Num')*100/col('total'))\n",
    "t.drop(col('total'))\n",
    "t.show()\n",
    "tab = tab.toPandas()"
   ]
  },
  {
   "cell_type": "code",
   "execution_count": 780,
   "metadata": {},
   "outputs": [
    {
     "data": {
      "application/vnd.jupyter.widget-view+json": {
       "model_id": "928acbe0f8384231ad4ca654cc8b05f6",
       "version_major": 2,
       "version_minor": 0
      },
      "text/plain": [
       "VBox()"
      ]
     },
     "metadata": {},
     "output_type": "display_data"
    },
    {
     "data": {
      "application/vnd.jupyter.widget-view+json": {
       "model_id": "",
       "version_major": 2,
       "version_minor": 0
      },
      "text/plain": [
       "FloatProgress(value=0.0, bar_style='info', description='Progress:', layout=Layout(height='25px', width='50%'),…"
      ]
     },
     "metadata": {},
     "output_type": "display_data"
    },
    {
     "data": {
      "image/png": "[encoded data removed]",
      "text/plain": [
       "<IPython.core.display.Image object>"
      ]
     },
     "metadata": {},
     "output_type": "display_data"
    }
   ],
   "source": [
    "plot_data = pd.DataFrame(tab)\n",
    "labels = plot_data.eliteSTAT\n",
    "sizes = plot_data.Percent\n",
    "colors = ('lightcoral', 'cyan')\n",
    "explode = (0, 0.1)\n",
    "plt.figure(figsize=(10, 8))\n",
    "\n",
    "plt.pie(sizes, \n",
    "        explode=explode, \n",
    "        labels = ['elite', 'non-elite'], \n",
    "        colors = colors,\n",
    "        autopct='%1.1f%%',\n",
    "        shadow=True)\n",
    "plt.title(\"Elite vs Non-Elite Avg Years On Yelp \")\n",
    "\n",
    "plt.axis('equal')\n",
    "plt.show()\n",
    "%matplot plt"
   ]
  },
  {
   "cell_type": "code",
   "execution_count": 687,
   "metadata": {},
   "outputs": [
    {
     "data": {
      "application/vnd.jupyter.widget-view+json": {
       "model_id": "2586e4a201d042a7ac32b38df73bcc54",
       "version_major": 2,
       "version_minor": 0
      },
      "text/plain": [
       "VBox()"
      ]
     },
     "metadata": {},
     "output_type": "display_data"
    },
    {
     "data": {
      "application/vnd.jupyter.widget-view+json": {
       "model_id": "",
       "version_major": 2,
       "version_minor": 0
      },
      "text/plain": [
       "FloatProgress(value=0.0, bar_style='info', description='Progress:', layout=Layout(height='25px', width='50%'),…"
      ]
     },
     "metadata": {},
     "output_type": "display_data"
    },
    {
     "name": "stdout",
     "output_type": "stream",
     "text": [
      "['name', 'ID', 'YRSelite', 'eliteSTAT', 'fans', 'cool', 'useful', 'average_stars', 'cc', 'cf', 'ch', 'cc', 'cm', 'cn', 'cpl', 'cph', 'cpr']"
     ]
    }
   ],
   "source": [
    "# sub = csv.select(\"user_id\", \n",
    "#                  \"fans\", \n",
    "#                  \"cool\", \n",
    "#                  \"useful\", \n",
    "#                  \"average_stars\",\n",
    "#                 \"compliment_cool\",\n",
    "#                 \"compliment_funny\", \n",
    "#                 \"compliment_hot\",\n",
    "#                 \"compliment_cool\", \n",
    "#                 \"compliment_more\",\n",
    "#                 \"compliment_note\",\n",
    "#                 \"compliment_plain\", \n",
    "#                 \"compliment_photos\",\n",
    "#                 \"compliment_profile\")\n",
    "usr.createOrReplaceTempView(\"us\")\n",
    "# us = usr.join(sub, usr.ID == sub.user_id, \"full\")\n",
    "# us = us.withColumnRenamed('compliment_cool', 'cc')\\\n",
    "#        .withColumnRenamed('compliment_funny', 'cf')\\\n",
    "#        .withColumnRenamed('compliment_profile', 'cpr')\\\n",
    "#        .withColumnRenamed('compliment_note', 'cn')\\\n",
    "#        .withColumnRenamed('compliment_more', 'cm')\\\n",
    "#        .withColumnRenamed('compliment_photos', 'cph')\\\n",
    "#        .withColumnRenamed('compliment_plain', 'cpl')\\\n",
    "#        .withColumnRenamed('compliment_hot', 'ch').drop(\"user_id\")\n",
    "\n",
    "us.columns"
   ]
  },
  {
   "cell_type": "code",
   "execution_count": 789,
   "metadata": {},
   "outputs": [
    {
     "data": {
      "application/vnd.jupyter.widget-view+json": {
       "model_id": "db8d551a02894dd98d7f60ad051c4035",
       "version_major": 2,
       "version_minor": 0
      },
      "text/plain": [
       "VBox()"
      ]
     },
     "metadata": {},
     "output_type": "display_data"
    },
    {
     "data": {
      "application/vnd.jupyter.widget-view+json": {
       "model_id": "",
       "version_major": 2,
       "version_minor": 0
      },
      "text/plain": [
       "FloatProgress(value=0.0, bar_style='info', description='Progress:', layout=Layout(height='25px', width='50%'),…"
      ]
     },
     "metadata": {},
     "output_type": "display_data"
    },
    {
     "name": "stdout",
     "output_type": "stream",
     "text": [
      "+--------------------+-----+--------------------+--------------------+--------------------+-------------------+\n",
      "|             user_id|stars|         business_id|           review_id|                text|               date|\n",
      "+--------------------+-----+--------------------+--------------------+--------------------+-------------------+\n",
      "|OwjRMXRC0KyPrIlcj...|  2.0|-MhfebM0QIsKt87iD...|xQY8N_XvtGbearJ5X...|As someone who ha...|2015-04-15 05:21:16|\n",
      "|nIJD_7ZXHq-FX8byP...|  1.0|lbrU8StCq3yDfr-QM...|UmFMZ8PyXZTY2Qcwz...|I am actually hor...|2013-12-07 03:16:52|\n",
      "|V34qejxNsCbcgD8C0...|  5.0|HQl28KMwrEKHqhFrr...|LG2ZaYiOgpr2DK_90...|I love Deagan's. ...|2015-12-05 03:18:11|\n",
      "|ofKDkJKXSKZXu5xJN...|  1.0|5JxlZaqCnk1MnbgRi...|i6g_oA9Yf9Y31qt0w...|Dismal, lukewarm,...|2011-05-27 05:30:52|\n",
      "|UgMW8bLE0QMJDCkQ1...|  4.0|IS4cv902ykd8wj1TR...|6TdNDKywdbjoTkize...|Oh happy day, fin...|2017-01-14 21:56:57|\n",
      "|5vD2kmE25YBrbayKh...|  5.0|nlxHRv1zXGT0c0K51...|L2O_INwlrRuoX05KS...|This is definitel...|2013-05-07 07:25:25|\n",
      "|aq_ZxGHiri48TUXJl...|  5.0|Pthe4qk5xh4n-ef-9...|ZayJ1zWyWgY9S_TRL...|Really good place...|2015-11-05 23:11:05|\n",
      "|dsd-KNYKMpx6ma_sR...|  5.0|FNCJpSn0tL9iqoY3J...|lpFIJYpsvDxyph-kP...|Awesome office an...|2017-07-18 18:31:54|\n",
      "|P6apihD4ASf1vpPxH...|  5.0|e_BiI4ej1CW1F0EyV...|JA-xnyHytKiOIHl_z...|Most delicious au...|2015-02-16 06:48:47|\n",
      "|jOERvhmK6_lo_XGUB...|  4.0|Ws8V970-mQt2X9CwC...|z4BCgTkfNtCu4XY5L...|I have been here ...|2009-10-13 04:16:41|\n",
      "|s5j_CRBWDCCMDJ6r7...|  5.0|PA61Rwk3AMwOEXHev...|TfVth7UNfgilv4J3e...|Maria is VERY goo...|2013-12-28 21:02:55|\n",
      "|HJECayULRM-6xh2GC...|  4.0|l-nL4BmhzpZjcavoo...|Tyx7AxYQfSRnBFUIX...|ORDER In (Deliver...|2015-10-17 01:38:13|\n",
      "|1YIQGP-a534nyksaw...|  5.0|Naa6E0YU0Wr7jCuCE...|wJMjt5C2y1RKgY0Xb...|We purchased new ...|2015-07-03 21:48:51|\n",
      "|qftVgPj_kRTildMDj...|  5.0|Ns4tjgLfqR1qawGlN...|QCxPzh7cuxJrLd6A_...|Everything that m...|2016-06-11 22:00:11|\n",
      "|5lb0POg2t-AkMFx66...|  5.0|ZlCSsWS07JulSBIQl...|qWHp2l2lysENZObh6...|Called for a 5:15...|2015-05-26 10:36:47|\n",
      "|TF4C-F5iqavACQgKT...|  1.0|7Ka9Pd8X9SRHs1D5E...|mjbs5CL4eMu4o6_Vt...|If I could give l...|2017-08-07 21:36:36|\n",
      "|2hRe26HSCAWbFRn5W...|  1.0|d4qwVw4PcN-_2mK2o...|bVTjZgRNq8Toxzvti...|10pm on a super b...|2015-02-02 06:28:00|\n",
      "|6sJN_HlM_uwpfLJ1p...|  4.0|oVuZtlCFg_zF090Nh...|Ne_2CSfcKIqXHmv_K...|A close friend wa...|2018-02-01 19:15:00|\n",
      "|kMkWON2lmw0s-M-fw...|  1.0|_iGvLfEsqDwPUxRUA...|Hy-gUXQh3RVhE8FLH...|Tried to have my ...|2017-06-28 00:39:18|\n",
      "|QodunSzok4nIYFNrT...|  3.0|poSV39UqEg-gpESXa...|UGErdm6bt48SXTVwJ...|My husband and I ...|2018-03-04 01:03:53|\n",
      "+--------------------+-----+--------------------+--------------------+--------------------+-------------------+\n",
      "only showing top 20 rows"
     ]
    }
   ],
   "source": [
    "view.createOrReplaceTempView(\"tmp2\")\n",
    "query = \"\"\"\n",
    "SELECT\n",
    "user_id,\n",
    "stars,\n",
    "business_id,\n",
    "review_id,\n",
    "text, \n",
    "date \n",
    "FROM tmp2\n",
    "\"\"\"\n",
    "tmp2 = spark.sql(query)\n",
    "tmp2.show()"
   ]
  },
  {
   "cell_type": "code",
   "execution_count": 793,
   "metadata": {},
   "outputs": [
    {
     "data": {
      "application/vnd.jupyter.widget-view+json": {
       "model_id": "f240ae257d0841a6ac48f85e2f8d1ceb",
       "version_major": 2,
       "version_minor": 0
      },
      "text/plain": [
       "VBox()"
      ]
     },
     "metadata": {},
     "output_type": "display_data"
    },
    {
     "data": {
      "application/vnd.jupyter.widget-view+json": {
       "model_id": "",
       "version_major": 2,
       "version_minor": 0
      },
      "text/plain": [
       "FloatProgress(value=0.0, bar_style='info', description='Progress:', layout=Layout(height='25px', width='50%'),…"
      ]
     },
     "metadata": {},
     "output_type": "display_data"
    },
    {
     "name": "stdout",
     "output_type": "stream",
     "text": [
      "+--------------------+-----+--------------------+--------------------+--------------------+-------------------+-------------+--------------------+--------+---------+----+----+------+-------------+---+---+---+---+---+---+---+---+---+\n",
      "|             user_id|stars|         business_id|           review_id|                text|               date|         name|                  ID|YRSelite|eliteSTAT|fans|cool|useful|average_stars| cc| cf| ch| cc| cm| cn|cpl|cph|cpr|\n",
      "+--------------------+-----+--------------------+--------------------+--------------------+-------------------+-------------+--------------------+--------+---------+----+----+------+-------------+---+---+---+---+---+---+---+---+---+\n",
      "|-0Ji0nOyFe-4yo8BK...|  4.0|pmrHuQiy25xKB86tb...|a0r23pA6D4HDLb9P5...|They ran out of c...|2014-03-21 17:09:59|         cubs|-0Ji0nOyFe-4yo8BK...|       1|        0|   0|  20|    98|         3.12|  1|  1|  0|  1|  0|  0|  0|  0|  0|\n",
      "|-0XPr1ilUAfp-yIXZ...|  2.0|QhwaGi1niDeVEHMRt...|DfAjJ3KCimOdqplv4...|This location cer...|2012-07-06 03:43:34|Fairmount Jil|-0XPr1ilUAfp-yIXZ...|       1|        0|   0|   0|     7|         1.25|  0|  0|  0|  0|  0|  0|  0|  0|  0|\n",
      "|-1KKYzibGPyUX-Mwk...|  4.0|L772e6l2Yd0DJEyCB...|TbU3S2kWmfajlVov3...|Swung by this pla...|2014-09-19 01:12:10|       Nickie|-1KKYzibGPyUX-Mwk...|       5|        1|   8|  54|   141|          4.0|  2|  2|  7|  2|  2|  8|  1|  0|  0|\n",
      "|-1KKYzibGPyUX-Mwk...|  4.0|L772e6l2Yd0DJEyCB...|TbU3S2kWmfajlVov3...|Swung by this pla...|2014-09-19 01:12:10|       Nickie|-1KKYzibGPyUX-Mwk...|       5|        1|   8|  54|   141|          4.0|  2|  2|  7|  2|  2|  8|  1|  0|  0|\n",
      "|-1KKYzibGPyUX-Mwk...|  4.0|L772e6l2Yd0DJEyCB...|TbU3S2kWmfajlVov3...|Swung by this pla...|2014-09-19 01:12:10|       Nickie|-1KKYzibGPyUX-Mwk...|       5|        1|   8|  54|   141|          4.0|  2|  2|  7|  2|  2|  8|  1|  0|  0|\n",
      "|-1KKYzibGPyUX-Mwk...|  4.0|L772e6l2Yd0DJEyCB...|TbU3S2kWmfajlVov3...|Swung by this pla...|2014-09-19 01:12:10|       Nickie|-1KKYzibGPyUX-Mwk...|       5|        1|   8|  54|   141|          4.0|  2|  2|  7|  2|  2|  8|  1|  0|  0|\n",
      "|-1KKYzibGPyUX-Mwk...|  4.0|L772e6l2Yd0DJEyCB...|TbU3S2kWmfajlVov3...|Swung by this pla...|2014-09-19 01:12:10|       Nickie|-1KKYzibGPyUX-Mwk...|       5|        1|   8|  54|   141|          4.0|  2|  2|  7|  2|  2|  8|  1|  0|  0|\n",
      "|-1zQA2f_syMAdA04P...|  5.0|DyYS-JKXlW2PCr_Gt...|y0BLDiU8nQi22t9OF...|Great local pub. ...|2017-05-01 16:05:57|         Zach|-1zQA2f_syMAdA04P...|       1|        0|   0|   0|     8|         3.29|  0|  0|  0|  0|  0|  0|  0|  0|  0|\n",
      "|-1zQA2f_syMAdA04P...|  1.0|5c-b0ALS_DyLvRCGr...|_aY8ReBavQVGHhCh7...|Einstein bagels i...|2017-05-01 16:00:12|         Zach|-1zQA2f_syMAdA04P...|       1|        0|   0|   0|     8|         3.29|  0|  0|  0|  0|  0|  0|  0|  0|  0|\n",
      "|-1zQA2f_syMAdA04P...|  1.0|fuC3sui68QWg-rqld...|QCQJC9kbCkhzTRosS...|Very unhappy with...|2018-02-12 21:37:14|         Zach|-1zQA2f_syMAdA04P...|       1|        0|   0|   0|     8|         3.29|  0|  0|  0|  0|  0|  0|  0|  0|  0|\n",
      "|-1zQA2f_syMAdA04P...|  5.0|aNe8ofTYrealxqv7V...|08j8zUlyJylKcJa_r...|I came in today p...|2016-07-29 19:44:01|         Zach|-1zQA2f_syMAdA04P...|       1|        0|   0|   0|     8|         3.29|  0|  0|  0|  0|  0|  0|  0|  0|  0|\n",
      "|-1zQA2f_syMAdA04P...|  1.0|sAS4fHDiK8A9a1wEA...|AF7_icUaLQVgj7d29...|Horrible business...|2014-08-28 01:31:40|         Zach|-1zQA2f_syMAdA04P...|       1|        0|   0|   0|     8|         3.29|  0|  0|  0|  0|  0|  0|  0|  0|  0|\n",
      "|-2G_a0eur5RTmI-vc...|  5.0|0PVxodALQu-soL5J8...|DsGxZbtNXdW6oeH-Q...|Best diner in Pit...|2019-05-25 03:21:38|        Kelly|-2G_a0eur5RTmI-vc...|       1|        0|   0|   0|     2|          4.0|  0|  0|  0|  0|  0|  0|  0|  0|  0|\n",
      "|-2G_a0eur5RTmI-vc...|  4.0|bGdsMEAf6cijRl-tr...|UKY67CyZNDIg9w1Qw...|The service is go...|2019-10-21 23:10:51|        Kelly|-2G_a0eur5RTmI-vc...|       1|        0|   0|   0|     2|          4.0|  0|  0|  0|  0|  0|  0|  0|  0|  0|\n",
      "|-2G_a0eur5RTmI-vc...|  1.0|Ueuo4VdUlDFoeHixY...|c6FnxwnmwbqBFZv8C...|I got acrylic wit...|2019-10-21 23:07:22|        Kelly|-2G_a0eur5RTmI-vc...|       1|        0|   0|   0|     2|          4.0|  0|  0|  0|  0|  0|  0|  0|  0|  0|\n",
      "|-2G_a0eur5RTmI-vc...|  5.0|dLc1d1zwd1Teu2QED...|sdA1lNW65A4KSCzuW...|Literally amazing...|2019-10-22 01:01:17|        Kelly|-2G_a0eur5RTmI-vc...|       1|        0|   0|   0|     2|          4.0|  0|  0|  0|  0|  0|  0|  0|  0|  0|\n",
      "|-2G_a0eur5RTmI-vc...|  3.0|zMfZLd5_h5W8ZVxTN...|hAC86mAvqfwkvRiuJ...|Used to be the go...|2019-10-22 01:00:17|        Kelly|-2G_a0eur5RTmI-vc...|       1|        0|   0|   0|     2|          4.0|  0|  0|  0|  0|  0|  0|  0|  0|  0|\n",
      "|-2G_a0eur5RTmI-vc...|  5.0|in39cUCMBRjpwxw7q...|W2PBzi3C09lkgUB2W...|AMAZING. Affordab...|2019-10-21 23:08:51|        Kelly|-2G_a0eur5RTmI-vc...|       1|        0|   0|   0|     2|          4.0|  0|  0|  0|  0|  0|  0|  0|  0|  0|\n",
      "|-2Pb5d2WBPtbyGT_b...|  5.0|HhVmDybpU7L50Kb5A...|E5brqk7xXfvriiekH...|What an amazing r...|2014-07-09 03:02:59|        mindy|-2Pb5d2WBPtbyGT_b...|       1|        0|   0|   0|     6|         3.29|  0|  0|  0|  0|  0|  0|  0|  0|  0|\n",
      "|-2gEBUGicw7HtLX0K...|  5.0|zwmps5SXn30g-f5wq...|1wuAs0N9ybo_O4tZR...|We came here to c...|2016-06-12 17:57:20|         Lisa|-2gEBUGicw7HtLX0K...|       1|        0|   0|   1|     2|          5.0|  0|  0|  0|  0|  0|  0|  0|  0|  0|\n",
      "+--------------------+-----+--------------------+--------------------+--------------------+-------------------+-------------+--------------------+--------+---------+----+----+------+-------------+---+---+---+---+---+---+---+---+---+\n",
      "only showing top 20 rows"
     ]
    }
   ],
   "source": [
    "export = tmp2.join(us, us.ID == tmp2.user_id, \"full\")\n",
    "export.show()"
   ]
  },
  {
   "cell_type": "code",
   "execution_count": 794,
   "metadata": {},
   "outputs": [
    {
     "data": {
      "application/vnd.jupyter.widget-view+json": {
       "model_id": "cf7e3faf86724fe8bed867088e5070bc",
       "version_major": 2,
       "version_minor": 0
      },
      "text/plain": [
       "VBox()"
      ]
     },
     "metadata": {},
     "output_type": "display_data"
    },
    {
     "data": {
      "application/vnd.jupyter.widget-view+json": {
       "model_id": "",
       "version_major": 2,
       "version_minor": 0
      },
      "text/plain": [
       "FloatProgress(value=0.0, bar_style='info', description='Progress:', layout=Layout(height='25px', width='50%'),…"
      ]
     },
     "metadata": {},
     "output_type": "display_data"
    },
    {
     "name": "stdout",
     "output_type": "stream",
     "text": [
      "23"
     ]
    }
   ],
   "source": [
    "len(export.columns)"
   ]
  },
  {
   "cell_type": "code",
   "execution_count": 796,
   "metadata": {},
   "outputs": [
    {
     "data": {
      "application/vnd.jupyter.widget-view+json": {
       "model_id": "9ed73e3fa5824a65bd8b0f420edfd685",
       "version_major": 2,
       "version_minor": 0
      },
      "text/plain": [
       "VBox()"
      ]
     },
     "metadata": {},
     "output_type": "display_data"
    },
    {
     "data": {
      "application/vnd.jupyter.widget-view+json": {
       "model_id": "",
       "version_major": 2,
       "version_minor": 0
      },
      "text/plain": [
       "FloatProgress(value=0.0, bar_style='info', description='Progress:', layout=Layout(height='25px', width='50%'),…"
      ]
     },
     "metadata": {},
     "output_type": "display_data"
    },
    {
     "name": "stderr",
     "output_type": "stream",
     "text": [
      "HTTP Error 404: Not Found\n",
      "Traceback (most recent call last):\n",
      "  File \"/tmp/1589406452357-0/local/lib/python3.6/site-packages/seaborn/utils.py\", line 436, in load_dataset\n",
      "    urlretrieve(full_path, cache_path)\n",
      "  File \"/usr/lib64/python3.6/urllib/request.py\", line 248, in urlretrieve\n",
      "    with contextlib.closing(urlopen(url, data)) as fp:\n",
      "  File \"/usr/lib64/python3.6/urllib/request.py\", line 223, in urlopen\n",
      "    return opener.open(url, data, timeout)\n",
      "  File \"/usr/lib64/python3.6/urllib/request.py\", line 532, in open\n",
      "    response = meth(req, response)\n",
      "  File \"/usr/lib64/python3.6/urllib/request.py\", line 642, in http_response\n",
      "    'http', request, response, code, msg, hdrs)\n",
      "  File \"/usr/lib64/python3.6/urllib/request.py\", line 570, in error\n",
      "    return self._call_chain(*args)\n",
      "  File \"/usr/lib64/python3.6/urllib/request.py\", line 504, in _call_chain\n",
      "    result = func(*args)\n",
      "  File \"/usr/lib64/python3.6/urllib/request.py\", line 650, in http_error_default\n",
      "    raise HTTPError(req.full_url, code, msg, hdrs, fp)\n",
      "urllib.error.HTTPError: HTTP Error 404: Not Found\n",
      "\n"
     ]
    }
   ],
   "source": [
    "sns.set(style=\"ticks\")\n",
    "df = sns.load_dataset(\"export\")\n",
    "sns.pairplot(df, hue=\"stars\")\n",
    "plt.show()"
   ]
  },
  {
   "cell_type": "code",
   "execution_count": null,
   "metadata": {},
   "outputs": [],
   "source": []
  },
  {
   "cell_type": "code",
   "execution_count": null,
   "metadata": {},
   "outputs": [],
   "source": []
  },
  {
   "cell_type": "code",
   "execution_count": null,
   "metadata": {},
   "outputs": [],
   "source": []
  },
  {
   "cell_type": "code",
   "execution_count": null,
   "metadata": {},
   "outputs": [],
   "source": []
  },
  {
   "cell_type": "code",
   "execution_count": null,
   "metadata": {},
   "outputs": [],
   "source": []
  },
  {
   "cell_type": "code",
   "execution_count": null,
   "metadata": {},
   "outputs": [],
   "source": []
  },
  {
   "cell_type": "code",
   "execution_count": null,
   "metadata": {},
   "outputs": [],
   "source": []
  },
  {
   "cell_type": "code",
   "execution_count": 683,
   "metadata": {},
   "outputs": [
    {
     "data": {
      "application/vnd.jupyter.widget-view+json": {
       "model_id": "d21d010e38454c059417ea428090d246",
       "version_major": 2,
       "version_minor": 0
      },
      "text/plain": [
       "VBox()"
      ]
     },
     "metadata": {},
     "output_type": "display_data"
    },
    {
     "data": {
      "application/vnd.jupyter.widget-view+json": {
       "model_id": "",
       "version_major": 2,
       "version_minor": 0
      },
      "text/plain": [
       "FloatProgress(value=0.0, bar_style='info', description='Progress:', layout=Layout(height='25px', width='50%'),…"
      ]
     },
     "metadata": {},
     "output_type": "display_data"
    }
   ],
   "source": [
    "txt = view.select(\"text\")\n",
    "lines = sc.textFile(\"txt\")"
   ]
  },
  {
   "cell_type": "code",
   "execution_count": 684,
   "metadata": {},
   "outputs": [
    {
     "data": {
      "application/vnd.jupyter.widget-view+json": {
       "model_id": "7dee31010d134d02a1f053321181ea71",
       "version_major": 2,
       "version_minor": 0
      },
      "text/plain": [
       "VBox()"
      ]
     },
     "metadata": {},
     "output_type": "display_data"
    },
    {
     "data": {
      "application/vnd.jupyter.widget-view+json": {
       "model_id": "",
       "version_major": 2,
       "version_minor": 0
      },
      "text/plain": [
       "FloatProgress(value=0.0, bar_style='info', description='Progress:', layout=Layout(height='25px', width='50%'),…"
      ]
     },
     "metadata": {},
     "output_type": "display_data"
    },
    {
     "name": "stdout",
     "output_type": "stream",
     "text": [
      "PythonRDD[1902] at RDD at PythonRDD.scala:53"
     ]
    }
   ],
   "source": [
    "parts = lines.map(lambda l: l.split(\",\"))\n",
    "word = parts.map(lambda p: Row(name=p[0], age=int(p[1])))\n"
   ]
  },
  {
   "cell_type": "code",
   "execution_count": null,
   "metadata": {
    "scrolled": false
   },
   "outputs": [],
   "source": []
  },
  {
   "cell_type": "code",
   "execution_count": null,
   "metadata": {},
   "outputs": [],
   "source": []
  },
  {
   "cell_type": "code",
   "execution_count": null,
   "metadata": {},
   "outputs": [],
   "source": []
  },
  {
   "cell_type": "code",
   "execution_count": null,
   "metadata": {},
   "outputs": [],
   "source": []
  },
  {
   "cell_type": "code",
   "execution_count": null,
   "metadata": {},
   "outputs": [],
   "source": []
  },
  {
   "cell_type": "code",
   "execution_count": null,
   "metadata": {},
   "outputs": [],
   "source": []
  },
  {
   "cell_type": "code",
   "execution_count": null,
   "metadata": {},
   "outputs": [],
   "source": []
  },
  {
   "cell_type": "code",
   "execution_count": 493,
   "metadata": {
    "scrolled": true
   },
   "outputs": [
    {
     "data": {
      "application/vnd.jupyter.widget-view+json": {
       "model_id": "18dc5bd38d5a48c4974fbd78651b3586",
       "version_major": 2,
       "version_minor": 0
      },
      "text/plain": [
       "VBox()"
      ]
     },
     "metadata": {},
     "output_type": "display_data"
    },
    {
     "data": {
      "application/vnd.jupyter.widget-view+json": {
       "model_id": "",
       "version_major": 2,
       "version_minor": 0
      },
      "text/plain": [
       "FloatProgress(value=0.0, bar_style='info', description='Progress:', layout=Layout(height='25px', width='50%'),…"
      ]
     },
     "metadata": {},
     "output_type": "display_data"
    },
    {
     "name": "stdout",
     "output_type": "stream",
     "text": [
      "+-------+--------------------+------------------+------------------+------------------+-----------------+\n",
      "|summary|               elite|     average_stars|      review_count|              fans|           useful|\n",
      "+-------+--------------------+------------------+------------------+------------------+-----------------+\n",
      "|  count|                3424|              3424|              3424|              3424|             3424|\n",
      "|   mean|              2012.0|3.7646933411214953| 202.4261098130841|19.700934579439252|537.1936331775701|\n",
      "| stddev|                 0.0|0.2902039125181376|220.06209870783246| 46.36594319735126|1934.837731645866|\n",
      "|    min|2006,2007,2008,20...|              2.71|                 1|                 0|                0|\n",
      "|    max|                2012|              4.85|              5156|              1099|            91828|\n",
      "+-------+--------------------+------------------+------------------+------------------+-----------------+"
     ]
    }
   ],
   "source": [
    "q.createOrReplaceTempView(\"elite\")\n",
    "query = \"\"\"\n",
    "SELECT *\n",
    "FROM elite\n",
    "WHERE elite LIKE '%2'\n",
    "\"\"\"\n",
    "elite = spark.sql(query)\n",
    "elite.describe().show()"
   ]
  },
  {
   "cell_type": "code",
   "execution_count": null,
   "metadata": {},
   "outputs": [],
   "source": []
  },
  {
   "cell_type": "code",
   "execution_count": null,
   "metadata": {},
   "outputs": [],
   "source": []
  },
  {
   "cell_type": "code",
   "execution_count": null,
   "metadata": {},
   "outputs": [],
   "source": []
  },
  {
   "cell_type": "code",
   "execution_count": null,
   "metadata": {},
   "outputs": [],
   "source": []
  },
  {
   "cell_type": "code",
   "execution_count": null,
   "metadata": {},
   "outputs": [],
   "source": []
  },
  {
   "cell_type": "code",
   "execution_count": 492,
   "metadata": {},
   "outputs": [
    {
     "data": {
      "application/vnd.jupyter.widget-view+json": {
       "model_id": "96090cb67c6843d58fab2e84bf599dd9",
       "version_major": 2,
       "version_minor": 0
      },
      "text/plain": [
       "VBox()"
      ]
     },
     "metadata": {},
     "output_type": "display_data"
    },
    {
     "data": {
      "application/vnd.jupyter.widget-view+json": {
       "model_id": "",
       "version_major": 2,
       "version_minor": 0
      },
      "text/plain": [
       "FloatProgress(value=0.0, bar_style='info', description='Progress:', layout=Layout(height='25px', width='50%'),…"
      ]
     },
     "metadata": {},
     "output_type": "display_data"
    },
    {
     "name": "stderr",
     "output_type": "stream",
     "text": [
      "'NoneType' object has no attribute 'show'\n",
      "Traceback (most recent call last):\n",
      "AttributeError: 'NoneType' object has no attribute 'show'\n",
      "\n"
     ]
    }
   ],
   "source": [
    "q.explain().show()"
   ]
  },
  {
   "cell_type": "code",
   "execution_count": null,
   "metadata": {},
   "outputs": [],
   "source": []
  }
 ],
 "metadata": {
  "kernelspec": {
   "display_name": "PySpark",
   "language": "",
   "name": "pysparkkernel"
  },
  "language_info": {
   "codemirror_mode": {
    "name": "python",
    "version": 2
   },
   "mimetype": "text/x-python",
   "name": "pyspark",
   "pygments_lexer": "python2"
  }
 },
 "nbformat": 4,
 "nbformat_minor": 4
}
